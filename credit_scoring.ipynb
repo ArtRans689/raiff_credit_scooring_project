{
  "nbformat": 4,
  "nbformat_minor": 0,
  "metadata": {
    "colab": {
      "provenance": [],
      "include_colab_link": true
    },
    "kernelspec": {
      "name": "python3",
      "display_name": "Python 3"
    },
    "language_info": {
      "name": "python"
    }
  },
  "cells": [
    {
      "cell_type": "markdown",
      "metadata": {
        "id": "view-in-github",
        "colab_type": "text"
      },
      "source": [
        "<a href=\"https://colab.research.google.com/github/ArtRans689/raiff_credit_scoring_project/blob/main/credit_scoring.ipynb\" target=\"_parent\"><img src=\"https://colab.research.google.com/assets/colab-badge.svg\" alt=\"Open In Colab\"/></a>"
      ]
    },
    {
      "cell_type": "markdown",
      "source": [
        "Подключаемся к БД."
      ],
      "metadata": {
        "id": "com-siZUxog5"
      }
    },
    {
      "cell_type": "code",
      "execution_count": 1,
      "metadata": {
        "colab": {
          "base_uri": "https://localhost:8080/"
        },
        "id": "Feeod89QlG35",
        "outputId": "161d69e0-d89d-4823-d00e-d76a54547d7d"
      },
      "outputs": [
        {
          "output_type": "stream",
          "name": "stdout",
          "text": [
            "--2023-03-01 04:36:26--  https://storage.yandexcloud.net/cloud-certs/CA.pem\n",
            "Resolving storage.yandexcloud.net (storage.yandexcloud.net)... 213.180.193.243, 2a02:6b8::1d9\n",
            "Connecting to storage.yandexcloud.net (storage.yandexcloud.net)|213.180.193.243|:443... connected.\n",
            "HTTP request sent, awaiting response... 200 OK\n",
            "Length: 3579 (3.5K) [application/x-x509-ca-cert]\n",
            "Saving to: ‘/root/.postgresql/root.crt’\n",
            "\n",
            "/root/.postgresql/r 100%[===================>]   3.50K  --.-KB/s    in 0s      \n",
            "\n",
            "2023-03-01 04:36:26 (711 MB/s) - ‘/root/.postgresql/root.crt’ saved [3579/3579]\n",
            "\n"
          ]
        }
      ],
      "source": [
        "!mkdir -p ~/.postgresql && \\\n",
        "wget \"https://storage.yandexcloud.net/cloud-certs/CA.pem\" \\\n",
        "    --output-document ~/.postgresql/root.crt && \\\n",
        "chmod 0600 ~/.postgresql/root.crt"
      ]
    },
    {
      "cell_type": "code",
      "source": [
        "!sudo apt update && sudo apt install --yes python3 python3-pip && \\\n",
        "!pip3 install psycopg2-binary"
      ],
      "metadata": {
        "colab": {
          "base_uri": "https://localhost:8080/"
        },
        "id": "eJp7A3galJ0g",
        "outputId": "8b33c968-5a75-44dd-ff9d-064084131fe0"
      },
      "execution_count": 2,
      "outputs": [
        {
          "output_type": "stream",
          "name": "stdout",
          "text": [
            "\u001b[33m\r0% [Working]\u001b[0m\r            \rGet:1 http://ppa.launchpad.net/c2d4u.team/c2d4u4.0+/ubuntu focal InRelease [18.1 kB]\n",
            "\u001b[33m\r0% [Connecting to archive.ubuntu.com (91.189.91.39)] [Connecting to security.ub\u001b[0m\u001b[33m\r0% [Connecting to archive.ubuntu.com (91.189.91.39)] [Connecting to security.ub\u001b[0m\r                                                                               \rGet:2 https://cloud.r-project.org/bin/linux/ubuntu focal-cran40/ InRelease [3,622 B]\n",
            "\u001b[33m\r0% [Connecting to archive.ubuntu.com (91.189.91.39)] [Connecting to security.ub\u001b[0m\r                                                                               \rHit:3 http://ppa.launchpad.net/cran/libgit2/ubuntu focal InRelease\n",
            "\u001b[33m\r0% [Connecting to archive.ubuntu.com (91.189.91.39)] [Connecting to security.ub\u001b[0m\r                                                                               \rHit:4 http://ppa.launchpad.net/deadsnakes/ppa/ubuntu focal InRelease\n",
            "\u001b[33m\r0% [Waiting for headers] [Waiting for headers] [Waiting for headers] [Connectin\u001b[0m\r                                                                               \rGet:5 http://ppa.launchpad.net/graphics-drivers/ppa/ubuntu focal InRelease [24.3 kB]\n",
            "\u001b[33m\r0% [Waiting for headers] [Waiting for headers] [Waiting for headers] [5 InRelea\u001b[0m\u001b[33m\r0% [Waiting for headers] [Waiting for headers] [Waiting for headers] [Connectin\u001b[0m\r                                                                               \rHit:6 http://ppa.launchpad.net/ubuntugis/ppa/ubuntu focal InRelease\n",
            "\u001b[33m\r                                                                               \r0% [Waiting for headers] [Waiting for headers] [Waiting for headers]\u001b[0m\r                                                                    \rHit:7 http://archive.ubuntu.com/ubuntu focal InRelease\n",
            "\u001b[33m\r                                                                    \r0% [Waiting for headers] [Waiting for headers]\u001b[0m\r                                              \rGet:8 http://security.ubuntu.com/ubuntu focal-security InRelease [114 kB]\n",
            "\u001b[33m\r0% [Waiting for headers] [8 InRelease 14.2 kB/114 kB 12%] [Waiting for headers]\u001b[0m\u001b[33m\r0% [Waiting for headers] [8 InRelease 14.2 kB/114 kB 12%] [Waiting for headers]\u001b[0m\r                                                                               \rGet:9 http://archive.ubuntu.com/ubuntu focal-updates InRelease [114 kB]\n",
            "Get:10 http://ppa.launchpad.net/c2d4u.team/c2d4u4.0+/ubuntu focal/main Sources [2,394 kB]\n",
            "Ign:11 https://developer.download.nvidia.com/compute/machine-learning/repos/ubuntu2004/x86_64  InRelease\n",
            "Get:12 https://developer.download.nvidia.com/compute/cuda/repos/ubuntu2004/x86_64  InRelease [1,581 B]\n",
            "Hit:13 https://developer.download.nvidia.com/compute/machine-learning/repos/ubuntu2004/x86_64  Release\n",
            "Get:14 http://ppa.launchpad.net/c2d4u.team/c2d4u4.0+/ubuntu focal/main amd64 Packages [1,134 kB]\n",
            "Get:15 http://archive.ubuntu.com/ubuntu focal-backports InRelease [108 kB]\n",
            "Get:16 http://ppa.launchpad.net/graphics-drivers/ppa/ubuntu focal/main amd64 Packages [42.9 kB]\n",
            "Get:17 https://developer.download.nvidia.com/compute/cuda/repos/ubuntu2004/x86_64  Packages [907 kB]\n",
            "Get:19 http://security.ubuntu.com/ubuntu focal-security/universe amd64 Packages [1,008 kB]\n",
            "Get:20 http://archive.ubuntu.com/ubuntu focal-updates/main amd64 Packages [2,972 kB]\n",
            "Get:21 http://security.ubuntu.com/ubuntu focal-security/main amd64 Packages [2,496 kB]\n",
            "Get:22 http://archive.ubuntu.com/ubuntu focal-updates/universe amd64 Packages [1,304 kB]\n",
            "Fetched 12.6 MB in 3s (4,612 kB/s)\n",
            "Reading package lists... Done\n",
            "Building dependency tree       \n",
            "Reading state information... Done\n",
            "52 packages can be upgraded. Run 'apt list --upgradable' to see them.\n",
            "Reading package lists... Done\n",
            "Building dependency tree       \n",
            "Reading state information... Done\n",
            "python3 is already the newest version (3.8.2-0ubuntu2).\n",
            "python3 set to manually installed.\n",
            "The following additional packages will be installed:\n",
            "  python-pip-whl python3-setuptools python3-wheel\n",
            "Suggested packages:\n",
            "  python-setuptools-doc\n",
            "The following NEW packages will be installed:\n",
            "  python-pip-whl python3-pip python3-setuptools python3-wheel\n",
            "0 upgraded, 4 newly installed, 0 to remove and 52 not upgraded.\n",
            "Need to get 2,389 kB of archives.\n",
            "After this operation, 4,933 kB of additional disk space will be used.\n",
            "Get:1 http://archive.ubuntu.com/ubuntu focal-updates/universe amd64 python-pip-whl all 20.0.2-5ubuntu1.8 [1,805 kB]\n",
            "Get:2 http://archive.ubuntu.com/ubuntu focal-updates/main amd64 python3-setuptools all 45.2.0-1ubuntu0.1 [330 kB]\n",
            "Get:3 http://archive.ubuntu.com/ubuntu focal-updates/universe amd64 python3-wheel all 0.34.2-1ubuntu0.1 [23.9 kB]\n",
            "Get:4 http://archive.ubuntu.com/ubuntu focal-updates/universe amd64 python3-pip all 20.0.2-5ubuntu1.8 [231 kB]\n",
            "Fetched 2,389 kB in 0s (16.1 MB/s)\n",
            "debconf: unable to initialize frontend: Dialog\n",
            "debconf: (No usable dialog-like program is installed, so the dialog based frontend cannot be used. at /usr/share/perl5/Debconf/FrontEnd/Dialog.pm line 76, <> line 4.)\n",
            "debconf: falling back to frontend: Readline\n",
            "debconf: unable to initialize frontend: Readline\n",
            "debconf: (This frontend requires a controlling tty.)\n",
            "debconf: falling back to frontend: Teletype\n",
            "dpkg-preconfigure: unable to re-open stdin: \n",
            "Selecting previously unselected package python-pip-whl.\n",
            "(Reading database ... 128208 files and directories currently installed.)\n",
            "Preparing to unpack .../python-pip-whl_20.0.2-5ubuntu1.8_all.deb ...\n",
            "Unpacking python-pip-whl (20.0.2-5ubuntu1.8) ...\n",
            "Selecting previously unselected package python3-setuptools.\n",
            "Preparing to unpack .../python3-setuptools_45.2.0-1ubuntu0.1_all.deb ...\n",
            "Unpacking python3-setuptools (45.2.0-1ubuntu0.1) ...\n",
            "Selecting previously unselected package python3-wheel.\n",
            "Preparing to unpack .../python3-wheel_0.34.2-1ubuntu0.1_all.deb ...\n",
            "Unpacking python3-wheel (0.34.2-1ubuntu0.1) ...\n",
            "Selecting previously unselected package python3-pip.\n",
            "Preparing to unpack .../python3-pip_20.0.2-5ubuntu1.8_all.deb ...\n",
            "Unpacking python3-pip (20.0.2-5ubuntu1.8) ...\n",
            "Setting up python3-setuptools (45.2.0-1ubuntu0.1) ...\n",
            "Setting up python3-wheel (0.34.2-1ubuntu0.1) ...\n",
            "Setting up python-pip-whl (20.0.2-5ubuntu1.8) ...\n",
            "Setting up python3-pip (20.0.2-5ubuntu1.8) ...\n",
            "Processing triggers for man-db (2.9.1-1) ...\n",
            "/bin/bash: !pip3: command not found\n"
          ]
        }
      ]
    },
    {
      "cell_type": "code",
      "source": [
        "import psycopg2\n",
        "\n",
        "conn = psycopg2.connect(\"\"\"\n",
        "    host=rc1b-70q90cunwkzx49mj.mdb.yandexcloud.net\n",
        "    port=6432\n",
        "    sslmode=verify-full\n",
        "    dbname=db_clients\n",
        "    user=mlhs_student\n",
        "    password=mlhs_student\n",
        "    target_session_attrs=read-write\n",
        "\"\"\")"
      ],
      "metadata": {
        "id": "PnWP142hlSwg"
      },
      "execution_count": 3,
      "outputs": []
    },
    {
      "cell_type": "markdown",
      "source": [
        "Получаем данные и смотрим на них."
      ],
      "metadata": {
        "id": "mB6pLPuKxvXK"
      }
    },
    {
      "cell_type": "code",
      "source": [
        "import pandas as pd\n",
        "\n",
        "query = \"SELECT * from public.credit_scoring\"\n",
        "data = pd.read_sql_query(query, conn)\n",
        "\n",
        "conn.close()"
      ],
      "metadata": {
        "id": "8FyHCwHDs7w6"
      },
      "execution_count": 4,
      "outputs": []
    },
    {
      "cell_type": "code",
      "source": [
        "data.head()"
      ],
      "metadata": {
        "id": "YHuPihqrxPHL",
        "colab": {
          "base_uri": "https://localhost:8080/",
          "height": 285
        },
        "outputId": "99dc2a40-c2cb-4293-849d-711465d3a066"
      },
      "execution_count": 5,
      "outputs": [
        {
          "output_type": "execute_result",
          "data": {
            "text/plain": [
              "   SeriousDlqin2yrs  RevolvingUtilizationOfUnsecuredLines  age  \\\n",
              "0                 1                              0.766127   45   \n",
              "1                 0                              0.957151   40   \n",
              "2                 0                              0.658180   38   \n",
              "3                 0                              0.233810   30   \n",
              "4                 0                              0.907239   49   \n",
              "\n",
              "   NumberOfTime30-59DaysPastDueNotWorse  DebtRatio  MonthlyIncome  \\\n",
              "0                                     2   0.802982         9120.0   \n",
              "1                                     0   0.121876         2600.0   \n",
              "2                                     1   0.085113         3042.0   \n",
              "3                                     0   0.036050         3300.0   \n",
              "4                                     1   0.024926        63588.0   \n",
              "\n",
              "   NumberOfOpenCreditLinesAndLoans  NumberOfTimes90DaysLate  \\\n",
              "0                               13                        0   \n",
              "1                                4                        0   \n",
              "2                                2                        1   \n",
              "3                                5                        0   \n",
              "4                                7                        0   \n",
              "\n",
              "   NumberRealEstateLoansOrLines  NumberOfTime60-89DaysPastDueNotWorse  \\\n",
              "0                             6                                     0   \n",
              "1                             0                                     0   \n",
              "2                             0                                     0   \n",
              "3                             0                                     0   \n",
              "4                             1                                     0   \n",
              "\n",
              "   NumberOfDependents  \n",
              "0                 2.0  \n",
              "1                 1.0  \n",
              "2                 0.0  \n",
              "3                 0.0  \n",
              "4                 0.0  "
            ],
            "text/html": [
              "\n",
              "  <div id=\"df-1b6584b3-5d05-4cfa-a418-1bc90f12de76\">\n",
              "    <div class=\"colab-df-container\">\n",
              "      <div>\n",
              "<style scoped>\n",
              "    .dataframe tbody tr th:only-of-type {\n",
              "        vertical-align: middle;\n",
              "    }\n",
              "\n",
              "    .dataframe tbody tr th {\n",
              "        vertical-align: top;\n",
              "    }\n",
              "\n",
              "    .dataframe thead th {\n",
              "        text-align: right;\n",
              "    }\n",
              "</style>\n",
              "<table border=\"1\" class=\"dataframe\">\n",
              "  <thead>\n",
              "    <tr style=\"text-align: right;\">\n",
              "      <th></th>\n",
              "      <th>SeriousDlqin2yrs</th>\n",
              "      <th>RevolvingUtilizationOfUnsecuredLines</th>\n",
              "      <th>age</th>\n",
              "      <th>NumberOfTime30-59DaysPastDueNotWorse</th>\n",
              "      <th>DebtRatio</th>\n",
              "      <th>MonthlyIncome</th>\n",
              "      <th>NumberOfOpenCreditLinesAndLoans</th>\n",
              "      <th>NumberOfTimes90DaysLate</th>\n",
              "      <th>NumberRealEstateLoansOrLines</th>\n",
              "      <th>NumberOfTime60-89DaysPastDueNotWorse</th>\n",
              "      <th>NumberOfDependents</th>\n",
              "    </tr>\n",
              "  </thead>\n",
              "  <tbody>\n",
              "    <tr>\n",
              "      <th>0</th>\n",
              "      <td>1</td>\n",
              "      <td>0.766127</td>\n",
              "      <td>45</td>\n",
              "      <td>2</td>\n",
              "      <td>0.802982</td>\n",
              "      <td>9120.0</td>\n",
              "      <td>13</td>\n",
              "      <td>0</td>\n",
              "      <td>6</td>\n",
              "      <td>0</td>\n",
              "      <td>2.0</td>\n",
              "    </tr>\n",
              "    <tr>\n",
              "      <th>1</th>\n",
              "      <td>0</td>\n",
              "      <td>0.957151</td>\n",
              "      <td>40</td>\n",
              "      <td>0</td>\n",
              "      <td>0.121876</td>\n",
              "      <td>2600.0</td>\n",
              "      <td>4</td>\n",
              "      <td>0</td>\n",
              "      <td>0</td>\n",
              "      <td>0</td>\n",
              "      <td>1.0</td>\n",
              "    </tr>\n",
              "    <tr>\n",
              "      <th>2</th>\n",
              "      <td>0</td>\n",
              "      <td>0.658180</td>\n",
              "      <td>38</td>\n",
              "      <td>1</td>\n",
              "      <td>0.085113</td>\n",
              "      <td>3042.0</td>\n",
              "      <td>2</td>\n",
              "      <td>1</td>\n",
              "      <td>0</td>\n",
              "      <td>0</td>\n",
              "      <td>0.0</td>\n",
              "    </tr>\n",
              "    <tr>\n",
              "      <th>3</th>\n",
              "      <td>0</td>\n",
              "      <td>0.233810</td>\n",
              "      <td>30</td>\n",
              "      <td>0</td>\n",
              "      <td>0.036050</td>\n",
              "      <td>3300.0</td>\n",
              "      <td>5</td>\n",
              "      <td>0</td>\n",
              "      <td>0</td>\n",
              "      <td>0</td>\n",
              "      <td>0.0</td>\n",
              "    </tr>\n",
              "    <tr>\n",
              "      <th>4</th>\n",
              "      <td>0</td>\n",
              "      <td>0.907239</td>\n",
              "      <td>49</td>\n",
              "      <td>1</td>\n",
              "      <td>0.024926</td>\n",
              "      <td>63588.0</td>\n",
              "      <td>7</td>\n",
              "      <td>0</td>\n",
              "      <td>1</td>\n",
              "      <td>0</td>\n",
              "      <td>0.0</td>\n",
              "    </tr>\n",
              "  </tbody>\n",
              "</table>\n",
              "</div>\n",
              "      <button class=\"colab-df-convert\" onclick=\"convertToInteractive('df-1b6584b3-5d05-4cfa-a418-1bc90f12de76')\"\n",
              "              title=\"Convert this dataframe to an interactive table.\"\n",
              "              style=\"display:none;\">\n",
              "        \n",
              "  <svg xmlns=\"http://www.w3.org/2000/svg\" height=\"24px\"viewBox=\"0 0 24 24\"\n",
              "       width=\"24px\">\n",
              "    <path d=\"M0 0h24v24H0V0z\" fill=\"none\"/>\n",
              "    <path d=\"M18.56 5.44l.94 2.06.94-2.06 2.06-.94-2.06-.94-.94-2.06-.94 2.06-2.06.94zm-11 1L8.5 8.5l.94-2.06 2.06-.94-2.06-.94L8.5 2.5l-.94 2.06-2.06.94zm10 10l.94 2.06.94-2.06 2.06-.94-2.06-.94-.94-2.06-.94 2.06-2.06.94z\"/><path d=\"M17.41 7.96l-1.37-1.37c-.4-.4-.92-.59-1.43-.59-.52 0-1.04.2-1.43.59L10.3 9.45l-7.72 7.72c-.78.78-.78 2.05 0 2.83L4 21.41c.39.39.9.59 1.41.59.51 0 1.02-.2 1.41-.59l7.78-7.78 2.81-2.81c.8-.78.8-2.07 0-2.86zM5.41 20L4 18.59l7.72-7.72 1.47 1.35L5.41 20z\"/>\n",
              "  </svg>\n",
              "      </button>\n",
              "      \n",
              "  <style>\n",
              "    .colab-df-container {\n",
              "      display:flex;\n",
              "      flex-wrap:wrap;\n",
              "      gap: 12px;\n",
              "    }\n",
              "\n",
              "    .colab-df-convert {\n",
              "      background-color: #E8F0FE;\n",
              "      border: none;\n",
              "      border-radius: 50%;\n",
              "      cursor: pointer;\n",
              "      display: none;\n",
              "      fill: #1967D2;\n",
              "      height: 32px;\n",
              "      padding: 0 0 0 0;\n",
              "      width: 32px;\n",
              "    }\n",
              "\n",
              "    .colab-df-convert:hover {\n",
              "      background-color: #E2EBFA;\n",
              "      box-shadow: 0px 1px 2px rgba(60, 64, 67, 0.3), 0px 1px 3px 1px rgba(60, 64, 67, 0.15);\n",
              "      fill: #174EA6;\n",
              "    }\n",
              "\n",
              "    [theme=dark] .colab-df-convert {\n",
              "      background-color: #3B4455;\n",
              "      fill: #D2E3FC;\n",
              "    }\n",
              "\n",
              "    [theme=dark] .colab-df-convert:hover {\n",
              "      background-color: #434B5C;\n",
              "      box-shadow: 0px 1px 3px 1px rgba(0, 0, 0, 0.15);\n",
              "      filter: drop-shadow(0px 1px 2px rgba(0, 0, 0, 0.3));\n",
              "      fill: #FFFFFF;\n",
              "    }\n",
              "  </style>\n",
              "\n",
              "      <script>\n",
              "        const buttonEl =\n",
              "          document.querySelector('#df-1b6584b3-5d05-4cfa-a418-1bc90f12de76 button.colab-df-convert');\n",
              "        buttonEl.style.display =\n",
              "          google.colab.kernel.accessAllowed ? 'block' : 'none';\n",
              "\n",
              "        async function convertToInteractive(key) {\n",
              "          const element = document.querySelector('#df-1b6584b3-5d05-4cfa-a418-1bc90f12de76');\n",
              "          const dataTable =\n",
              "            await google.colab.kernel.invokeFunction('convertToInteractive',\n",
              "                                                     [key], {});\n",
              "          if (!dataTable) return;\n",
              "\n",
              "          const docLinkHtml = 'Like what you see? Visit the ' +\n",
              "            '<a target=\"_blank\" href=https://colab.research.google.com/notebooks/data_table.ipynb>data table notebook</a>'\n",
              "            + ' to learn more about interactive tables.';\n",
              "          element.innerHTML = '';\n",
              "          dataTable['output_type'] = 'display_data';\n",
              "          await google.colab.output.renderOutput(dataTable, element);\n",
              "          const docLink = document.createElement('div');\n",
              "          docLink.innerHTML = docLinkHtml;\n",
              "          element.appendChild(docLink);\n",
              "        }\n",
              "      </script>\n",
              "    </div>\n",
              "  </div>\n",
              "  "
            ]
          },
          "metadata": {},
          "execution_count": 5
        }
      ]
    },
    {
      "cell_type": "markdown",
      "source": [
        "Сохраняем данные датасета"
      ],
      "metadata": {
        "id": "DRRppGYvpTeN"
      }
    },
    {
      "cell_type": "code",
      "source": [
        "data.to_csv(\"cred_scor_data.csv\", index=False)"
      ],
      "metadata": {
        "id": "i7uIxXk_52Vz"
      },
      "execution_count": 6,
      "outputs": []
    },
    {
      "cell_type": "markdown",
      "source": [
        "Описание таблицы"
      ],
      "metadata": {
        "id": "m_TjbwR2ps1q"
      }
    },
    {
      "cell_type": "code",
      "source": [
        "data.shape"
      ],
      "metadata": {
        "colab": {
          "base_uri": "https://localhost:8080/"
        },
        "id": "x47a7tAOpq4I",
        "outputId": "c9dfa33d-1718-4279-9cb1-79250ba7b77f"
      },
      "execution_count": 7,
      "outputs": [
        {
          "output_type": "execute_result",
          "data": {
            "text/plain": [
              "(150000, 11)"
            ]
          },
          "metadata": {},
          "execution_count": 7
        }
      ]
    },
    {
      "cell_type": "code",
      "source": [
        "data.dtypes"
      ],
      "metadata": {
        "colab": {
          "base_uri": "https://localhost:8080/"
        },
        "id": "CW2qOm3OpvGc",
        "outputId": "5eed9952-18e8-4fac-fea7-16379c040172"
      },
      "execution_count": 8,
      "outputs": [
        {
          "output_type": "execute_result",
          "data": {
            "text/plain": [
              "SeriousDlqin2yrs                          int64\n",
              "RevolvingUtilizationOfUnsecuredLines    float64\n",
              "age                                       int64\n",
              "NumberOfTime30-59DaysPastDueNotWorse      int64\n",
              "DebtRatio                               float64\n",
              "MonthlyIncome                           float64\n",
              "NumberOfOpenCreditLinesAndLoans           int64\n",
              "NumberOfTimes90DaysLate                   int64\n",
              "NumberRealEstateLoansOrLines              int64\n",
              "NumberOfTime60-89DaysPastDueNotWorse      int64\n",
              "NumberOfDependents                      float64\n",
              "dtype: object"
            ]
          },
          "metadata": {},
          "execution_count": 8
        }
      ]
    },
    {
      "cell_type": "markdown",
      "source": [
        "Разведовательный анализ"
      ],
      "metadata": {
        "id": "Y4_oD2-XqNtm"
      }
    },
    {
      "cell_type": "code",
      "source": [
        "len(data)"
      ],
      "metadata": {
        "colab": {
          "base_uri": "https://localhost:8080/"
        },
        "id": "VcSU5FZ-qL50",
        "outputId": "2ae3ab32-63b6-4b2a-db72-32b3faba21b9"
      },
      "execution_count": 9,
      "outputs": [
        {
          "output_type": "execute_result",
          "data": {
            "text/plain": [
              "150000"
            ]
          },
          "metadata": {},
          "execution_count": 9
        }
      ]
    },
    {
      "cell_type": "markdown",
      "source": [
        "Пропущенные значения"
      ],
      "metadata": {
        "id": "2rMfZs7YqU94"
      }
    },
    {
      "cell_type": "code",
      "source": [
        "data.isna().sum()"
      ],
      "metadata": {
        "colab": {
          "base_uri": "https://localhost:8080/"
        },
        "id": "TF2Akz1_qUO6",
        "outputId": "bcd2a7ed-5886-4090-87f3-dcf5c740f794"
      },
      "execution_count": 10,
      "outputs": [
        {
          "output_type": "execute_result",
          "data": {
            "text/plain": [
              "SeriousDlqin2yrs                            0\n",
              "RevolvingUtilizationOfUnsecuredLines        0\n",
              "age                                         0\n",
              "NumberOfTime30-59DaysPastDueNotWorse        0\n",
              "DebtRatio                                   0\n",
              "MonthlyIncome                           29731\n",
              "NumberOfOpenCreditLinesAndLoans             0\n",
              "NumberOfTimes90DaysLate                     0\n",
              "NumberRealEstateLoansOrLines                0\n",
              "NumberOfTime60-89DaysPastDueNotWorse        0\n",
              "NumberOfDependents                       3924\n",
              "dtype: int64"
            ]
          },
          "metadata": {},
          "execution_count": 10
        }
      ]
    },
    {
      "cell_type": "markdown",
      "source": [
        "обработка пропусков (MonthlyIncome and NumberOfDependents)"
      ],
      "metadata": {
        "id": "xIGRT8tOqg8v"
      }
    },
    {
      "cell_type": "code",
      "source": [
        "data.MonthlyIncome.value_counts()"
      ],
      "metadata": {
        "colab": {
          "base_uri": "https://localhost:8080/"
        },
        "id": "QPS6djXBqe1A",
        "outputId": "d4d19bac-31ab-4e68-d2d3-cd36ab2e6d30"
      },
      "execution_count": 11,
      "outputs": [
        {
          "output_type": "execute_result",
          "data": {
            "text/plain": [
              "5000.0     2757\n",
              "4000.0     2106\n",
              "6000.0     1934\n",
              "3000.0     1758\n",
              "0.0        1634\n",
              "           ... \n",
              "16084.0       1\n",
              "10523.0       1\n",
              "55250.0       1\n",
              "9242.0        1\n",
              "7647.0        1\n",
              "Name: MonthlyIncome, Length: 13594, dtype: int64"
            ]
          },
          "metadata": {},
          "execution_count": 11
        }
      ]
    },
    {
      "cell_type": "markdown",
      "source": [
        "ищем медиану и заполняем пропуски"
      ],
      "metadata": {
        "id": "fRQib-zvrcM_"
      }
    },
    {
      "cell_type": "code",
      "source": [
        "median = data['MonthlyIncome'].median()\n",
        "#print(median)\n",
        "\n",
        "data['MonthlyIncome'].fillna(median, inplace=True)"
      ],
      "metadata": {
        "id": "qkYj-ydzrRLv"
      },
      "execution_count": 12,
      "outputs": []
    },
    {
      "cell_type": "code",
      "source": [
        "data.NumberOfDependents.value_counts()"
      ],
      "metadata": {
        "colab": {
          "base_uri": "https://localhost:8080/"
        },
        "id": "um2sUrAusACr",
        "outputId": "62b50e28-fbe0-4849-aaf5-145cfb3375e6"
      },
      "execution_count": 13,
      "outputs": [
        {
          "output_type": "execute_result",
          "data": {
            "text/plain": [
              "0.0     86902\n",
              "1.0     26316\n",
              "2.0     19522\n",
              "3.0      9483\n",
              "4.0      2862\n",
              "5.0       746\n",
              "6.0       158\n",
              "7.0        51\n",
              "8.0        24\n",
              "10.0        5\n",
              "9.0         5\n",
              "20.0        1\n",
              "13.0        1\n",
              "Name: NumberOfDependents, dtype: int64"
            ]
          },
          "metadata": {},
          "execution_count": 13
        }
      ]
    },
    {
      "cell_type": "code",
      "source": [
        "median = data['NumberOfDependents'].median()\n",
        "#print(median)\n",
        "\n",
        "data['NumberOfDependents'].fillna(median, inplace=True)"
      ],
      "metadata": {
        "id": "S6RJUO34sJec"
      },
      "execution_count": 14,
      "outputs": []
    },
    {
      "cell_type": "code",
      "source": [
        "data.isna().sum()\n"
      ],
      "metadata": {
        "colab": {
          "base_uri": "https://localhost:8080/"
        },
        "id": "QrC5MRTmsRKn",
        "outputId": "cba55542-4cbd-4720-fd7d-d9ff351f3a68"
      },
      "execution_count": 15,
      "outputs": [
        {
          "output_type": "execute_result",
          "data": {
            "text/plain": [
              "SeriousDlqin2yrs                        0\n",
              "RevolvingUtilizationOfUnsecuredLines    0\n",
              "age                                     0\n",
              "NumberOfTime30-59DaysPastDueNotWorse    0\n",
              "DebtRatio                               0\n",
              "MonthlyIncome                           0\n",
              "NumberOfOpenCreditLinesAndLoans         0\n",
              "NumberOfTimes90DaysLate                 0\n",
              "NumberRealEstateLoansOrLines            0\n",
              "NumberOfTime60-89DaysPastDueNotWorse    0\n",
              "NumberOfDependents                      0\n",
              "dtype: int64"
            ]
          },
          "metadata": {},
          "execution_count": 15
        }
      ]
    },
    {
      "cell_type": "markdown",
      "source": [
        "Описание таблицы"
      ],
      "metadata": {
        "id": "tR-Lftv0sa4h"
      }
    },
    {
      "cell_type": "code",
      "source": [
        "data.describe()"
      ],
      "metadata": {
        "colab": {
          "base_uri": "https://localhost:8080/",
          "height": 378
        },
        "id": "cvqkQ2Iisc9G",
        "outputId": "d74f622e-5d3c-4ecc-c344-084e31a66c84"
      },
      "execution_count": 16,
      "outputs": [
        {
          "output_type": "execute_result",
          "data": {
            "text/plain": [
              "       SeriousDlqin2yrs  RevolvingUtilizationOfUnsecuredLines            age  \\\n",
              "count     150000.000000                         150000.000000  150000.000000   \n",
              "mean           0.066840                              6.048438      52.295207   \n",
              "std            0.249746                            249.755371      14.771866   \n",
              "min            0.000000                              0.000000       0.000000   \n",
              "25%            0.000000                              0.029867      41.000000   \n",
              "50%            0.000000                              0.154181      52.000000   \n",
              "75%            0.000000                              0.559046      63.000000   \n",
              "max            1.000000                          50708.000000     109.000000   \n",
              "\n",
              "       NumberOfTime30-59DaysPastDueNotWorse      DebtRatio  MonthlyIncome  \\\n",
              "count                         150000.000000  150000.000000   1.500000e+05   \n",
              "mean                               0.421033     353.005076   6.418455e+03   \n",
              "std                                4.192781    2037.818523   1.289040e+04   \n",
              "min                                0.000000       0.000000   0.000000e+00   \n",
              "25%                                0.000000       0.175074   3.903000e+03   \n",
              "50%                                0.000000       0.366508   5.400000e+03   \n",
              "75%                                0.000000       0.868254   7.400000e+03   \n",
              "max                               98.000000  329664.000000   3.008750e+06   \n",
              "\n",
              "       NumberOfOpenCreditLinesAndLoans  NumberOfTimes90DaysLate  \\\n",
              "count                    150000.000000            150000.000000   \n",
              "mean                          8.452760                 0.265973   \n",
              "std                           5.145951                 4.169304   \n",
              "min                           0.000000                 0.000000   \n",
              "25%                           5.000000                 0.000000   \n",
              "50%                           8.000000                 0.000000   \n",
              "75%                          11.000000                 0.000000   \n",
              "max                          58.000000                98.000000   \n",
              "\n",
              "       NumberRealEstateLoansOrLines  NumberOfTime60-89DaysPastDueNotWorse  \\\n",
              "count                 150000.000000                         150000.000000   \n",
              "mean                       1.018240                              0.240387   \n",
              "std                        1.129771                              4.155179   \n",
              "min                        0.000000                              0.000000   \n",
              "25%                        0.000000                              0.000000   \n",
              "50%                        1.000000                              0.000000   \n",
              "75%                        2.000000                              0.000000   \n",
              "max                       54.000000                             98.000000   \n",
              "\n",
              "       NumberOfDependents  \n",
              "count       150000.000000  \n",
              "mean             0.737413  \n",
              "std              1.107021  \n",
              "min              0.000000  \n",
              "25%              0.000000  \n",
              "50%              0.000000  \n",
              "75%              1.000000  \n",
              "max             20.000000  "
            ],
            "text/html": [
              "\n",
              "  <div id=\"df-f27b20f3-884b-42ab-b0e1-00df1c03538d\">\n",
              "    <div class=\"colab-df-container\">\n",
              "      <div>\n",
              "<style scoped>\n",
              "    .dataframe tbody tr th:only-of-type {\n",
              "        vertical-align: middle;\n",
              "    }\n",
              "\n",
              "    .dataframe tbody tr th {\n",
              "        vertical-align: top;\n",
              "    }\n",
              "\n",
              "    .dataframe thead th {\n",
              "        text-align: right;\n",
              "    }\n",
              "</style>\n",
              "<table border=\"1\" class=\"dataframe\">\n",
              "  <thead>\n",
              "    <tr style=\"text-align: right;\">\n",
              "      <th></th>\n",
              "      <th>SeriousDlqin2yrs</th>\n",
              "      <th>RevolvingUtilizationOfUnsecuredLines</th>\n",
              "      <th>age</th>\n",
              "      <th>NumberOfTime30-59DaysPastDueNotWorse</th>\n",
              "      <th>DebtRatio</th>\n",
              "      <th>MonthlyIncome</th>\n",
              "      <th>NumberOfOpenCreditLinesAndLoans</th>\n",
              "      <th>NumberOfTimes90DaysLate</th>\n",
              "      <th>NumberRealEstateLoansOrLines</th>\n",
              "      <th>NumberOfTime60-89DaysPastDueNotWorse</th>\n",
              "      <th>NumberOfDependents</th>\n",
              "    </tr>\n",
              "  </thead>\n",
              "  <tbody>\n",
              "    <tr>\n",
              "      <th>count</th>\n",
              "      <td>150000.000000</td>\n",
              "      <td>150000.000000</td>\n",
              "      <td>150000.000000</td>\n",
              "      <td>150000.000000</td>\n",
              "      <td>150000.000000</td>\n",
              "      <td>1.500000e+05</td>\n",
              "      <td>150000.000000</td>\n",
              "      <td>150000.000000</td>\n",
              "      <td>150000.000000</td>\n",
              "      <td>150000.000000</td>\n",
              "      <td>150000.000000</td>\n",
              "    </tr>\n",
              "    <tr>\n",
              "      <th>mean</th>\n",
              "      <td>0.066840</td>\n",
              "      <td>6.048438</td>\n",
              "      <td>52.295207</td>\n",
              "      <td>0.421033</td>\n",
              "      <td>353.005076</td>\n",
              "      <td>6.418455e+03</td>\n",
              "      <td>8.452760</td>\n",
              "      <td>0.265973</td>\n",
              "      <td>1.018240</td>\n",
              "      <td>0.240387</td>\n",
              "      <td>0.737413</td>\n",
              "    </tr>\n",
              "    <tr>\n",
              "      <th>std</th>\n",
              "      <td>0.249746</td>\n",
              "      <td>249.755371</td>\n",
              "      <td>14.771866</td>\n",
              "      <td>4.192781</td>\n",
              "      <td>2037.818523</td>\n",
              "      <td>1.289040e+04</td>\n",
              "      <td>5.145951</td>\n",
              "      <td>4.169304</td>\n",
              "      <td>1.129771</td>\n",
              "      <td>4.155179</td>\n",
              "      <td>1.107021</td>\n",
              "    </tr>\n",
              "    <tr>\n",
              "      <th>min</th>\n",
              "      <td>0.000000</td>\n",
              "      <td>0.000000</td>\n",
              "      <td>0.000000</td>\n",
              "      <td>0.000000</td>\n",
              "      <td>0.000000</td>\n",
              "      <td>0.000000e+00</td>\n",
              "      <td>0.000000</td>\n",
              "      <td>0.000000</td>\n",
              "      <td>0.000000</td>\n",
              "      <td>0.000000</td>\n",
              "      <td>0.000000</td>\n",
              "    </tr>\n",
              "    <tr>\n",
              "      <th>25%</th>\n",
              "      <td>0.000000</td>\n",
              "      <td>0.029867</td>\n",
              "      <td>41.000000</td>\n",
              "      <td>0.000000</td>\n",
              "      <td>0.175074</td>\n",
              "      <td>3.903000e+03</td>\n",
              "      <td>5.000000</td>\n",
              "      <td>0.000000</td>\n",
              "      <td>0.000000</td>\n",
              "      <td>0.000000</td>\n",
              "      <td>0.000000</td>\n",
              "    </tr>\n",
              "    <tr>\n",
              "      <th>50%</th>\n",
              "      <td>0.000000</td>\n",
              "      <td>0.154181</td>\n",
              "      <td>52.000000</td>\n",
              "      <td>0.000000</td>\n",
              "      <td>0.366508</td>\n",
              "      <td>5.400000e+03</td>\n",
              "      <td>8.000000</td>\n",
              "      <td>0.000000</td>\n",
              "      <td>1.000000</td>\n",
              "      <td>0.000000</td>\n",
              "      <td>0.000000</td>\n",
              "    </tr>\n",
              "    <tr>\n",
              "      <th>75%</th>\n",
              "      <td>0.000000</td>\n",
              "      <td>0.559046</td>\n",
              "      <td>63.000000</td>\n",
              "      <td>0.000000</td>\n",
              "      <td>0.868254</td>\n",
              "      <td>7.400000e+03</td>\n",
              "      <td>11.000000</td>\n",
              "      <td>0.000000</td>\n",
              "      <td>2.000000</td>\n",
              "      <td>0.000000</td>\n",
              "      <td>1.000000</td>\n",
              "    </tr>\n",
              "    <tr>\n",
              "      <th>max</th>\n",
              "      <td>1.000000</td>\n",
              "      <td>50708.000000</td>\n",
              "      <td>109.000000</td>\n",
              "      <td>98.000000</td>\n",
              "      <td>329664.000000</td>\n",
              "      <td>3.008750e+06</td>\n",
              "      <td>58.000000</td>\n",
              "      <td>98.000000</td>\n",
              "      <td>54.000000</td>\n",
              "      <td>98.000000</td>\n",
              "      <td>20.000000</td>\n",
              "    </tr>\n",
              "  </tbody>\n",
              "</table>\n",
              "</div>\n",
              "      <button class=\"colab-df-convert\" onclick=\"convertToInteractive('df-f27b20f3-884b-42ab-b0e1-00df1c03538d')\"\n",
              "              title=\"Convert this dataframe to an interactive table.\"\n",
              "              style=\"display:none;\">\n",
              "        \n",
              "  <svg xmlns=\"http://www.w3.org/2000/svg\" height=\"24px\"viewBox=\"0 0 24 24\"\n",
              "       width=\"24px\">\n",
              "    <path d=\"M0 0h24v24H0V0z\" fill=\"none\"/>\n",
              "    <path d=\"M18.56 5.44l.94 2.06.94-2.06 2.06-.94-2.06-.94-.94-2.06-.94 2.06-2.06.94zm-11 1L8.5 8.5l.94-2.06 2.06-.94-2.06-.94L8.5 2.5l-.94 2.06-2.06.94zm10 10l.94 2.06.94-2.06 2.06-.94-2.06-.94-.94-2.06-.94 2.06-2.06.94z\"/><path d=\"M17.41 7.96l-1.37-1.37c-.4-.4-.92-.59-1.43-.59-.52 0-1.04.2-1.43.59L10.3 9.45l-7.72 7.72c-.78.78-.78 2.05 0 2.83L4 21.41c.39.39.9.59 1.41.59.51 0 1.02-.2 1.41-.59l7.78-7.78 2.81-2.81c.8-.78.8-2.07 0-2.86zM5.41 20L4 18.59l7.72-7.72 1.47 1.35L5.41 20z\"/>\n",
              "  </svg>\n",
              "      </button>\n",
              "      \n",
              "  <style>\n",
              "    .colab-df-container {\n",
              "      display:flex;\n",
              "      flex-wrap:wrap;\n",
              "      gap: 12px;\n",
              "    }\n",
              "\n",
              "    .colab-df-convert {\n",
              "      background-color: #E8F0FE;\n",
              "      border: none;\n",
              "      border-radius: 50%;\n",
              "      cursor: pointer;\n",
              "      display: none;\n",
              "      fill: #1967D2;\n",
              "      height: 32px;\n",
              "      padding: 0 0 0 0;\n",
              "      width: 32px;\n",
              "    }\n",
              "\n",
              "    .colab-df-convert:hover {\n",
              "      background-color: #E2EBFA;\n",
              "      box-shadow: 0px 1px 2px rgba(60, 64, 67, 0.3), 0px 1px 3px 1px rgba(60, 64, 67, 0.15);\n",
              "      fill: #174EA6;\n",
              "    }\n",
              "\n",
              "    [theme=dark] .colab-df-convert {\n",
              "      background-color: #3B4455;\n",
              "      fill: #D2E3FC;\n",
              "    }\n",
              "\n",
              "    [theme=dark] .colab-df-convert:hover {\n",
              "      background-color: #434B5C;\n",
              "      box-shadow: 0px 1px 3px 1px rgba(0, 0, 0, 0.15);\n",
              "      filter: drop-shadow(0px 1px 2px rgba(0, 0, 0, 0.3));\n",
              "      fill: #FFFFFF;\n",
              "    }\n",
              "  </style>\n",
              "\n",
              "      <script>\n",
              "        const buttonEl =\n",
              "          document.querySelector('#df-f27b20f3-884b-42ab-b0e1-00df1c03538d button.colab-df-convert');\n",
              "        buttonEl.style.display =\n",
              "          google.colab.kernel.accessAllowed ? 'block' : 'none';\n",
              "\n",
              "        async function convertToInteractive(key) {\n",
              "          const element = document.querySelector('#df-f27b20f3-884b-42ab-b0e1-00df1c03538d');\n",
              "          const dataTable =\n",
              "            await google.colab.kernel.invokeFunction('convertToInteractive',\n",
              "                                                     [key], {});\n",
              "          if (!dataTable) return;\n",
              "\n",
              "          const docLinkHtml = 'Like what you see? Visit the ' +\n",
              "            '<a target=\"_blank\" href=https://colab.research.google.com/notebooks/data_table.ipynb>data table notebook</a>'\n",
              "            + ' to learn more about interactive tables.';\n",
              "          element.innerHTML = '';\n",
              "          dataTable['output_type'] = 'display_data';\n",
              "          await google.colab.output.renderOutput(dataTable, element);\n",
              "          const docLink = document.createElement('div');\n",
              "          docLink.innerHTML = docLinkHtml;\n",
              "          element.appendChild(docLink);\n",
              "        }\n",
              "      </script>\n",
              "    </div>\n",
              "  </div>\n",
              "  "
            ]
          },
          "metadata": {},
          "execution_count": 16
        }
      ]
    },
    {
      "cell_type": "markdown",
      "source": [
        "Нужно предсказать значение SeriousDlqin2yrs. Там может быть 0 или 1"
      ],
      "metadata": {
        "id": "sllxjlNNs70j"
      }
    },
    {
      "cell_type": "code",
      "source": [
        "data['SeriousDlqin2yrs'].value_counts()"
      ],
      "metadata": {
        "colab": {
          "base_uri": "https://localhost:8080/"
        },
        "id": "9sg3rtfRsoCb",
        "outputId": "8251e447-e260-4b08-bc07-42486450c6ab"
      },
      "execution_count": 17,
      "outputs": [
        {
          "output_type": "execute_result",
          "data": {
            "text/plain": [
              "0    139974\n",
              "1     10026\n",
              "Name: SeriousDlqin2yrs, dtype: int64"
            ]
          },
          "metadata": {},
          "execution_count": 17
        }
      ]
    },
    {
      "cell_type": "markdown",
      "source": [
        "Матрица корреляции"
      ],
      "metadata": {
        "id": "tHZ_LEHytK2B"
      }
    },
    {
      "cell_type": "code",
      "source": [
        "corr = data.corr() # строим матрицу корреляций\n",
        "\n",
        "corr.style.background_gradient(cmap='coolwarm')"
      ],
      "metadata": {
        "colab": {
          "base_uri": "https://localhost:8080/",
          "height": 461
        },
        "id": "RQkJktc7tM3-",
        "outputId": "39558b94-f207-4dd0-be5d-353d24f15544"
      },
      "execution_count": 18,
      "outputs": [
        {
          "output_type": "execute_result",
          "data": {
            "text/plain": [
              "<pandas.io.formats.style.Styler at 0x7f955d6687c0>"
            ],
            "text/html": [
              "<style type=\"text/css\">\n",
              "#T_fb7f5_row0_col0, #T_fb7f5_row1_col1, #T_fb7f5_row2_col2, #T_fb7f5_row3_col3, #T_fb7f5_row4_col4, #T_fb7f5_row5_col5, #T_fb7f5_row6_col6, #T_fb7f5_row7_col7, #T_fb7f5_row8_col8, #T_fb7f5_row9_col9, #T_fb7f5_row10_col10 {\n",
              "  background-color: #b40426;\n",
              "  color: #f1f1f1;\n",
              "}\n",
              "#T_fb7f5_row0_col1, #T_fb7f5_row3_col1, #T_fb7f5_row3_col5, #T_fb7f5_row7_col1, #T_fb7f5_row9_col1, #T_fb7f5_row9_col5, #T_fb7f5_row9_col6 {\n",
              "  background-color: #3d50c3;\n",
              "  color: #f1f1f1;\n",
              "}\n",
              "#T_fb7f5_row0_col2, #T_fb7f5_row10_col5 {\n",
              "  background-color: #5470de;\n",
              "  color: #f1f1f1;\n",
              "}\n",
              "#T_fb7f5_row0_col3, #T_fb7f5_row1_col10 {\n",
              "  background-color: #7396f5;\n",
              "  color: #f1f1f1;\n",
              "}\n",
              "#T_fb7f5_row0_col4, #T_fb7f5_row0_col8, #T_fb7f5_row3_col4, #T_fb7f5_row9_col4 {\n",
              "  background-color: #455cce;\n",
              "  color: #f1f1f1;\n",
              "}\n",
              "#T_fb7f5_row0_col5, #T_fb7f5_row2_col0, #T_fb7f5_row2_col3, #T_fb7f5_row2_col10, #T_fb7f5_row4_col5, #T_fb7f5_row6_col1, #T_fb7f5_row6_col7, #T_fb7f5_row6_col9, #T_fb7f5_row7_col6, #T_fb7f5_row7_col8, #T_fb7f5_row10_col2, #T_fb7f5_row10_col4 {\n",
              "  background-color: #3b4cc0;\n",
              "  color: #f1f1f1;\n",
              "}\n",
              "#T_fb7f5_row0_col6, #T_fb7f5_row1_col4, #T_fb7f5_row2_col5 {\n",
              "  background-color: #485fd1;\n",
              "  color: #f1f1f1;\n",
              "}\n",
              "#T_fb7f5_row0_col7 {\n",
              "  background-color: #7597f6;\n",
              "  color: #f1f1f1;\n",
              "}\n",
              "#T_fb7f5_row0_col9 {\n",
              "  background-color: #6e90f2;\n",
              "  color: #f1f1f1;\n",
              "}\n",
              "#T_fb7f5_row0_col10, #T_fb7f5_row3_col0 {\n",
              "  background-color: #81a4fb;\n",
              "  color: #f1f1f1;\n",
              "}\n",
              "#T_fb7f5_row1_col0, #T_fb7f5_row6_col5 {\n",
              "  background-color: #5a78e4;\n",
              "  color: #f1f1f1;\n",
              "}\n",
              "#T_fb7f5_row1_col2, #T_fb7f5_row3_col10 {\n",
              "  background-color: #7295f4;\n",
              "  color: #f1f1f1;\n",
              "}\n",
              "#T_fb7f5_row1_col3, #T_fb7f5_row5_col9, #T_fb7f5_row10_col3 {\n",
              "  background-color: #4b64d5;\n",
              "  color: #f1f1f1;\n",
              "}\n",
              "#T_fb7f5_row1_col5, #T_fb7f5_row5_col4 {\n",
              "  background-color: #4257c9;\n",
              "  color: #f1f1f1;\n",
              "}\n",
              "#T_fb7f5_row1_col6, #T_fb7f5_row1_col9, #T_fb7f5_row2_col4, #T_fb7f5_row4_col7, #T_fb7f5_row5_col7, #T_fb7f5_row10_col7 {\n",
              "  background-color: #4e68d8;\n",
              "  color: #f1f1f1;\n",
              "}\n",
              "#T_fb7f5_row1_col7 {\n",
              "  background-color: #506bda;\n",
              "  color: #f1f1f1;\n",
              "}\n",
              "#T_fb7f5_row1_col8 {\n",
              "  background-color: #4961d2;\n",
              "  color: #f1f1f1;\n",
              "}\n",
              "#T_fb7f5_row2_col1, #T_fb7f5_row6_col3, #T_fb7f5_row7_col5, #T_fb7f5_row9_col8 {\n",
              "  background-color: #3c4ec2;\n",
              "  color: #f1f1f1;\n",
              "}\n",
              "#T_fb7f5_row2_col6, #T_fb7f5_row7_col0 {\n",
              "  background-color: #7ea1fa;\n",
              "  color: #f1f1f1;\n",
              "}\n",
              "#T_fb7f5_row2_col7, #T_fb7f5_row5_col1, #T_fb7f5_row8_col1 {\n",
              "  background-color: #3f53c6;\n",
              "  color: #f1f1f1;\n",
              "}\n",
              "#T_fb7f5_row2_col8, #T_fb7f5_row6_col0 {\n",
              "  background-color: #516ddb;\n",
              "  color: #f1f1f1;\n",
              "}\n",
              "#T_fb7f5_row2_col9, #T_fb7f5_row3_col8, #T_fb7f5_row4_col1, #T_fb7f5_row10_col1 {\n",
              "  background-color: #3e51c5;\n",
              "  color: #f1f1f1;\n",
              "}\n",
              "#T_fb7f5_row3_col2, #T_fb7f5_row7_col2 {\n",
              "  background-color: #6282ea;\n",
              "  color: #f1f1f1;\n",
              "}\n",
              "#T_fb7f5_row3_col6 {\n",
              "  background-color: #4055c8;\n",
              "  color: #f1f1f1;\n",
              "}\n",
              "#T_fb7f5_row3_col7, #T_fb7f5_row3_col9, #T_fb7f5_row7_col3, #T_fb7f5_row9_col3 {\n",
              "  background-color: #b8122a;\n",
              "  color: #f1f1f1;\n",
              "}\n",
              "#T_fb7f5_row4_col0, #T_fb7f5_row8_col0 {\n",
              "  background-color: #5875e1;\n",
              "  color: #f1f1f1;\n",
              "}\n",
              "#T_fb7f5_row4_col2 {\n",
              "  background-color: #7a9df8;\n",
              "  color: #f1f1f1;\n",
              "}\n",
              "#T_fb7f5_row4_col3, #T_fb7f5_row5_col3, #T_fb7f5_row10_col9 {\n",
              "  background-color: #4a63d3;\n",
              "  color: #f1f1f1;\n",
              "}\n",
              "#T_fb7f5_row4_col6 {\n",
              "  background-color: #5f7fe8;\n",
              "  color: #f1f1f1;\n",
              "}\n",
              "#T_fb7f5_row4_col8, #T_fb7f5_row8_col4 {\n",
              "  background-color: #6c8ff1;\n",
              "  color: #f1f1f1;\n",
              "}\n",
              "#T_fb7f5_row4_col9 {\n",
              "  background-color: #4c66d6;\n",
              "  color: #f1f1f1;\n",
              "}\n",
              "#T_fb7f5_row4_col10, #T_fb7f5_row10_col6 {\n",
              "  background-color: #6788ee;\n",
              "  color: #f1f1f1;\n",
              "}\n",
              "#T_fb7f5_row5_col0 {\n",
              "  background-color: #5572df;\n",
              "  color: #f1f1f1;\n",
              "}\n",
              "#T_fb7f5_row5_col2 {\n",
              "  background-color: #7b9ff9;\n",
              "  color: #f1f1f1;\n",
              "}\n",
              "#T_fb7f5_row5_col6, #T_fb7f5_row5_col8 {\n",
              "  background-color: #6b8df0;\n",
              "  color: #f1f1f1;\n",
              "}\n",
              "#T_fb7f5_row5_col10 {\n",
              "  background-color: #86a9fc;\n",
              "  color: #f1f1f1;\n",
              "}\n",
              "#T_fb7f5_row6_col2 {\n",
              "  background-color: #9ebeff;\n",
              "  color: #000000;\n",
              "}\n",
              "#T_fb7f5_row6_col4 {\n",
              "  background-color: #5673e0;\n",
              "  color: #f1f1f1;\n",
              "}\n",
              "#T_fb7f5_row6_col8 {\n",
              "  background-color: #d2dbe8;\n",
              "  color: #000000;\n",
              "}\n",
              "#T_fb7f5_row6_col10 {\n",
              "  background-color: #89acfd;\n",
              "  color: #000000;\n",
              "}\n",
              "#T_fb7f5_row7_col4, #T_fb7f5_row8_col7 {\n",
              "  background-color: #445acc;\n",
              "  color: #f1f1f1;\n",
              "}\n",
              "#T_fb7f5_row7_col9, #T_fb7f5_row9_col7 {\n",
              "  background-color: #b50927;\n",
              "  color: #f1f1f1;\n",
              "}\n",
              "#T_fb7f5_row7_col10, #T_fb7f5_row9_col10, #T_fb7f5_row10_col8 {\n",
              "  background-color: #6f92f3;\n",
              "  color: #f1f1f1;\n",
              "}\n",
              "#T_fb7f5_row8_col2 {\n",
              "  background-color: #7da0f9;\n",
              "  color: #f1f1f1;\n",
              "}\n",
              "#T_fb7f5_row8_col3, #T_fb7f5_row8_col9 {\n",
              "  background-color: #4358cb;\n",
              "  color: #f1f1f1;\n",
              "}\n",
              "#T_fb7f5_row8_col5, #T_fb7f5_row9_col2 {\n",
              "  background-color: #6384eb;\n",
              "  color: #f1f1f1;\n",
              "}\n",
              "#T_fb7f5_row8_col6 {\n",
              "  background-color: #d6dce4;\n",
              "  color: #000000;\n",
              "}\n",
              "#T_fb7f5_row8_col10 {\n",
              "  background-color: #98b9ff;\n",
              "  color: #000000;\n",
              "}\n",
              "#T_fb7f5_row9_col0 {\n",
              "  background-color: #799cf8;\n",
              "  color: #f1f1f1;\n",
              "}\n",
              "#T_fb7f5_row10_col0 {\n",
              "  background-color: #688aef;\n",
              "  color: #f1f1f1;\n",
              "}\n",
              "</style>\n",
              "<table id=\"T_fb7f5_\" class=\"dataframe\">\n",
              "  <thead>\n",
              "    <tr>\n",
              "      <th class=\"blank level0\" >&nbsp;</th>\n",
              "      <th class=\"col_heading level0 col0\" >SeriousDlqin2yrs</th>\n",
              "      <th class=\"col_heading level0 col1\" >RevolvingUtilizationOfUnsecuredLines</th>\n",
              "      <th class=\"col_heading level0 col2\" >age</th>\n",
              "      <th class=\"col_heading level0 col3\" >NumberOfTime30-59DaysPastDueNotWorse</th>\n",
              "      <th class=\"col_heading level0 col4\" >DebtRatio</th>\n",
              "      <th class=\"col_heading level0 col5\" >MonthlyIncome</th>\n",
              "      <th class=\"col_heading level0 col6\" >NumberOfOpenCreditLinesAndLoans</th>\n",
              "      <th class=\"col_heading level0 col7\" >NumberOfTimes90DaysLate</th>\n",
              "      <th class=\"col_heading level0 col8\" >NumberRealEstateLoansOrLines</th>\n",
              "      <th class=\"col_heading level0 col9\" >NumberOfTime60-89DaysPastDueNotWorse</th>\n",
              "      <th class=\"col_heading level0 col10\" >NumberOfDependents</th>\n",
              "    </tr>\n",
              "  </thead>\n",
              "  <tbody>\n",
              "    <tr>\n",
              "      <th id=\"T_fb7f5_level0_row0\" class=\"row_heading level0 row0\" >SeriousDlqin2yrs</th>\n",
              "      <td id=\"T_fb7f5_row0_col0\" class=\"data row0 col0\" >1.000000</td>\n",
              "      <td id=\"T_fb7f5_row0_col1\" class=\"data row0 col1\" >-0.001802</td>\n",
              "      <td id=\"T_fb7f5_row0_col2\" class=\"data row0 col2\" >-0.115386</td>\n",
              "      <td id=\"T_fb7f5_row0_col3\" class=\"data row0 col3\" >0.125587</td>\n",
              "      <td id=\"T_fb7f5_row0_col4\" class=\"data row0 col4\" >-0.007602</td>\n",
              "      <td id=\"T_fb7f5_row0_col5\" class=\"data row0 col5\" >-0.017151</td>\n",
              "      <td id=\"T_fb7f5_row0_col6\" class=\"data row0 col6\" >-0.029669</td>\n",
              "      <td id=\"T_fb7f5_row0_col7\" class=\"data row0 col7\" >0.117175</td>\n",
              "      <td id=\"T_fb7f5_row0_col8\" class=\"data row0 col8\" >-0.007038</td>\n",
              "      <td id=\"T_fb7f5_row0_col9\" class=\"data row0 col9\" >0.102261</td>\n",
              "      <td id=\"T_fb7f5_row0_col10\" class=\"data row0 col10\" >0.046869</td>\n",
              "    </tr>\n",
              "    <tr>\n",
              "      <th id=\"T_fb7f5_level0_row1\" class=\"row_heading level0 row1\" >RevolvingUtilizationOfUnsecuredLines</th>\n",
              "      <td id=\"T_fb7f5_row1_col0\" class=\"data row1 col0\" >-0.001802</td>\n",
              "      <td id=\"T_fb7f5_row1_col1\" class=\"data row1 col1\" >1.000000</td>\n",
              "      <td id=\"T_fb7f5_row1_col2\" class=\"data row1 col2\" >-0.005898</td>\n",
              "      <td id=\"T_fb7f5_row1_col3\" class=\"data row1 col3\" >-0.001314</td>\n",
              "      <td id=\"T_fb7f5_row1_col4\" class=\"data row1 col4\" >0.003961</td>\n",
              "      <td id=\"T_fb7f5_row1_col5\" class=\"data row1 col5\" >0.006513</td>\n",
              "      <td id=\"T_fb7f5_row1_col6\" class=\"data row1 col6\" >-0.011281</td>\n",
              "      <td id=\"T_fb7f5_row1_col7\" class=\"data row1 col7\" >-0.001061</td>\n",
              "      <td id=\"T_fb7f5_row1_col8\" class=\"data row1 col8\" >0.006235</td>\n",
              "      <td id=\"T_fb7f5_row1_col9\" class=\"data row1 col9\" >-0.001048</td>\n",
              "      <td id=\"T_fb7f5_row1_col10\" class=\"data row1 col10\" >0.001193</td>\n",
              "    </tr>\n",
              "    <tr>\n",
              "      <th id=\"T_fb7f5_level0_row2\" class=\"row_heading level0 row2\" >age</th>\n",
              "      <td id=\"T_fb7f5_row2_col0\" class=\"data row2 col0\" >-0.115386</td>\n",
              "      <td id=\"T_fb7f5_row2_col1\" class=\"data row2 col1\" >-0.005898</td>\n",
              "      <td id=\"T_fb7f5_row2_col2\" class=\"data row2 col2\" >1.000000</td>\n",
              "      <td id=\"T_fb7f5_row2_col3\" class=\"data row2 col3\" >-0.062995</td>\n",
              "      <td id=\"T_fb7f5_row2_col4\" class=\"data row2 col4\" >0.024188</td>\n",
              "      <td id=\"T_fb7f5_row2_col5\" class=\"data row2 col5\" >0.027581</td>\n",
              "      <td id=\"T_fb7f5_row2_col6\" class=\"data row2 col6\" >0.147705</td>\n",
              "      <td id=\"T_fb7f5_row2_col7\" class=\"data row2 col7\" >-0.061005</td>\n",
              "      <td id=\"T_fb7f5_row2_col8\" class=\"data row2 col8\" >0.033150</td>\n",
              "      <td id=\"T_fb7f5_row2_col9\" class=\"data row2 col9\" >-0.057159</td>\n",
              "      <td id=\"T_fb7f5_row2_col10\" class=\"data row2 col10\" >-0.215693</td>\n",
              "    </tr>\n",
              "    <tr>\n",
              "      <th id=\"T_fb7f5_level0_row3\" class=\"row_heading level0 row3\" >NumberOfTime30-59DaysPastDueNotWorse</th>\n",
              "      <td id=\"T_fb7f5_row3_col0\" class=\"data row3 col0\" >0.125587</td>\n",
              "      <td id=\"T_fb7f5_row3_col1\" class=\"data row3 col1\" >-0.001314</td>\n",
              "      <td id=\"T_fb7f5_row3_col2\" class=\"data row3 col2\" >-0.062995</td>\n",
              "      <td id=\"T_fb7f5_row3_col3\" class=\"data row3 col3\" >1.000000</td>\n",
              "      <td id=\"T_fb7f5_row3_col4\" class=\"data row3 col4\" >-0.006542</td>\n",
              "      <td id=\"T_fb7f5_row3_col5\" class=\"data row3 col5\" >-0.008370</td>\n",
              "      <td id=\"T_fb7f5_row3_col6\" class=\"data row3 col6\" >-0.055312</td>\n",
              "      <td id=\"T_fb7f5_row3_col7\" class=\"data row3 col7\" >0.983603</td>\n",
              "      <td id=\"T_fb7f5_row3_col8\" class=\"data row3 col8\" >-0.030565</td>\n",
              "      <td id=\"T_fb7f5_row3_col9\" class=\"data row3 col9\" >0.987005</td>\n",
              "      <td id=\"T_fb7f5_row3_col10\" class=\"data row3 col10\" >-0.004590</td>\n",
              "    </tr>\n",
              "    <tr>\n",
              "      <th id=\"T_fb7f5_level0_row4\" class=\"row_heading level0 row4\" >DebtRatio</th>\n",
              "      <td id=\"T_fb7f5_row4_col0\" class=\"data row4 col0\" >-0.007602</td>\n",
              "      <td id=\"T_fb7f5_row4_col1\" class=\"data row4 col1\" >0.003961</td>\n",
              "      <td id=\"T_fb7f5_row4_col2\" class=\"data row4 col2\" >0.024188</td>\n",
              "      <td id=\"T_fb7f5_row4_col3\" class=\"data row4 col3\" >-0.006542</td>\n",
              "      <td id=\"T_fb7f5_row4_col4\" class=\"data row4 col4\" >1.000000</td>\n",
              "      <td id=\"T_fb7f5_row4_col5\" class=\"data row4 col5\" >-0.018006</td>\n",
              "      <td id=\"T_fb7f5_row4_col6\" class=\"data row4 col6\" >0.049565</td>\n",
              "      <td id=\"T_fb7f5_row4_col7\" class=\"data row4 col7\" >-0.008320</td>\n",
              "      <td id=\"T_fb7f5_row4_col8\" class=\"data row4 col8\" >0.120046</td>\n",
              "      <td id=\"T_fb7f5_row4_col9\" class=\"data row4 col9\" >-0.007533</td>\n",
              "      <td id=\"T_fb7f5_row4_col10\" class=\"data row4 col10\" >-0.044476</td>\n",
              "    </tr>\n",
              "    <tr>\n",
              "      <th id=\"T_fb7f5_level0_row5\" class=\"row_heading level0 row5\" >MonthlyIncome</th>\n",
              "      <td id=\"T_fb7f5_row5_col0\" class=\"data row5 col0\" >-0.017151</td>\n",
              "      <td id=\"T_fb7f5_row5_col1\" class=\"data row5 col1\" >0.006513</td>\n",
              "      <td id=\"T_fb7f5_row5_col2\" class=\"data row5 col2\" >0.027581</td>\n",
              "      <td id=\"T_fb7f5_row5_col3\" class=\"data row5 col3\" >-0.008370</td>\n",
              "      <td id=\"T_fb7f5_row5_col4\" class=\"data row5 col4\" >-0.018006</td>\n",
              "      <td id=\"T_fb7f5_row5_col5\" class=\"data row5 col5\" >1.000000</td>\n",
              "      <td id=\"T_fb7f5_row5_col6\" class=\"data row5 col6\" >0.086949</td>\n",
              "      <td id=\"T_fb7f5_row5_col7\" class=\"data row5 col7\" >-0.010500</td>\n",
              "      <td id=\"T_fb7f5_row5_col8\" class=\"data row5 col8\" >0.116273</td>\n",
              "      <td id=\"T_fb7f5_row5_col9\" class=\"data row5 col9\" >-0.009252</td>\n",
              "      <td id=\"T_fb7f5_row5_col10\" class=\"data row5 col10\" >0.066314</td>\n",
              "    </tr>\n",
              "    <tr>\n",
              "      <th id=\"T_fb7f5_level0_row6\" class=\"row_heading level0 row6\" >NumberOfOpenCreditLinesAndLoans</th>\n",
              "      <td id=\"T_fb7f5_row6_col0\" class=\"data row6 col0\" >-0.029669</td>\n",
              "      <td id=\"T_fb7f5_row6_col1\" class=\"data row6 col1\" >-0.011281</td>\n",
              "      <td id=\"T_fb7f5_row6_col2\" class=\"data row6 col2\" >0.147705</td>\n",
              "      <td id=\"T_fb7f5_row6_col3\" class=\"data row6 col3\" >-0.055312</td>\n",
              "      <td id=\"T_fb7f5_row6_col4\" class=\"data row6 col4\" >0.049565</td>\n",
              "      <td id=\"T_fb7f5_row6_col5\" class=\"data row6 col5\" >0.086949</td>\n",
              "      <td id=\"T_fb7f5_row6_col6\" class=\"data row6 col6\" >1.000000</td>\n",
              "      <td id=\"T_fb7f5_row6_col7\" class=\"data row6 col7\" >-0.079984</td>\n",
              "      <td id=\"T_fb7f5_row6_col8\" class=\"data row6 col8\" >0.433959</td>\n",
              "      <td id=\"T_fb7f5_row6_col9\" class=\"data row6 col9\" >-0.071077</td>\n",
              "      <td id=\"T_fb7f5_row6_col10\" class=\"data row6 col10\" >0.074026</td>\n",
              "    </tr>\n",
              "    <tr>\n",
              "      <th id=\"T_fb7f5_level0_row7\" class=\"row_heading level0 row7\" >NumberOfTimes90DaysLate</th>\n",
              "      <td id=\"T_fb7f5_row7_col0\" class=\"data row7 col0\" >0.117175</td>\n",
              "      <td id=\"T_fb7f5_row7_col1\" class=\"data row7 col1\" >-0.001061</td>\n",
              "      <td id=\"T_fb7f5_row7_col2\" class=\"data row7 col2\" >-0.061005</td>\n",
              "      <td id=\"T_fb7f5_row7_col3\" class=\"data row7 col3\" >0.983603</td>\n",
              "      <td id=\"T_fb7f5_row7_col4\" class=\"data row7 col4\" >-0.008320</td>\n",
              "      <td id=\"T_fb7f5_row7_col5\" class=\"data row7 col5\" >-0.010500</td>\n",
              "      <td id=\"T_fb7f5_row7_col6\" class=\"data row7 col6\" >-0.079984</td>\n",
              "      <td id=\"T_fb7f5_row7_col7\" class=\"data row7 col7\" >1.000000</td>\n",
              "      <td id=\"T_fb7f5_row7_col8\" class=\"data row7 col8\" >-0.045205</td>\n",
              "      <td id=\"T_fb7f5_row7_col9\" class=\"data row7 col9\" >0.992796</td>\n",
              "      <td id=\"T_fb7f5_row7_col10\" class=\"data row7 col10\" >-0.011962</td>\n",
              "    </tr>\n",
              "    <tr>\n",
              "      <th id=\"T_fb7f5_level0_row8\" class=\"row_heading level0 row8\" >NumberRealEstateLoansOrLines</th>\n",
              "      <td id=\"T_fb7f5_row8_col0\" class=\"data row8 col0\" >-0.007038</td>\n",
              "      <td id=\"T_fb7f5_row8_col1\" class=\"data row8 col1\" >0.006235</td>\n",
              "      <td id=\"T_fb7f5_row8_col2\" class=\"data row8 col2\" >0.033150</td>\n",
              "      <td id=\"T_fb7f5_row8_col3\" class=\"data row8 col3\" >-0.030565</td>\n",
              "      <td id=\"T_fb7f5_row8_col4\" class=\"data row8 col4\" >0.120046</td>\n",
              "      <td id=\"T_fb7f5_row8_col5\" class=\"data row8 col5\" >0.116273</td>\n",
              "      <td id=\"T_fb7f5_row8_col6\" class=\"data row8 col6\" >0.433959</td>\n",
              "      <td id=\"T_fb7f5_row8_col7\" class=\"data row8 col7\" >-0.045205</td>\n",
              "      <td id=\"T_fb7f5_row8_col8\" class=\"data row8 col8\" >1.000000</td>\n",
              "      <td id=\"T_fb7f5_row8_col9\" class=\"data row8 col9\" >-0.039722</td>\n",
              "      <td id=\"T_fb7f5_row8_col10\" class=\"data row8 col10\" >0.129399</td>\n",
              "    </tr>\n",
              "    <tr>\n",
              "      <th id=\"T_fb7f5_level0_row9\" class=\"row_heading level0 row9\" >NumberOfTime60-89DaysPastDueNotWorse</th>\n",
              "      <td id=\"T_fb7f5_row9_col0\" class=\"data row9 col0\" >0.102261</td>\n",
              "      <td id=\"T_fb7f5_row9_col1\" class=\"data row9 col1\" >-0.001048</td>\n",
              "      <td id=\"T_fb7f5_row9_col2\" class=\"data row9 col2\" >-0.057159</td>\n",
              "      <td id=\"T_fb7f5_row9_col3\" class=\"data row9 col3\" >0.987005</td>\n",
              "      <td id=\"T_fb7f5_row9_col4\" class=\"data row9 col4\" >-0.007533</td>\n",
              "      <td id=\"T_fb7f5_row9_col5\" class=\"data row9 col5\" >-0.009252</td>\n",
              "      <td id=\"T_fb7f5_row9_col6\" class=\"data row9 col6\" >-0.071077</td>\n",
              "      <td id=\"T_fb7f5_row9_col7\" class=\"data row9 col7\" >0.992796</td>\n",
              "      <td id=\"T_fb7f5_row9_col8\" class=\"data row9 col8\" >-0.039722</td>\n",
              "      <td id=\"T_fb7f5_row9_col9\" class=\"data row9 col9\" >1.000000</td>\n",
              "      <td id=\"T_fb7f5_row9_col10\" class=\"data row9 col10\" >-0.012678</td>\n",
              "    </tr>\n",
              "    <tr>\n",
              "      <th id=\"T_fb7f5_level0_row10\" class=\"row_heading level0 row10\" >NumberOfDependents</th>\n",
              "      <td id=\"T_fb7f5_row10_col0\" class=\"data row10 col0\" >0.046869</td>\n",
              "      <td id=\"T_fb7f5_row10_col1\" class=\"data row10 col1\" >0.001193</td>\n",
              "      <td id=\"T_fb7f5_row10_col2\" class=\"data row10 col2\" >-0.215693</td>\n",
              "      <td id=\"T_fb7f5_row10_col3\" class=\"data row10 col3\" >-0.004590</td>\n",
              "      <td id=\"T_fb7f5_row10_col4\" class=\"data row10 col4\" >-0.044476</td>\n",
              "      <td id=\"T_fb7f5_row10_col5\" class=\"data row10 col5\" >0.066314</td>\n",
              "      <td id=\"T_fb7f5_row10_col6\" class=\"data row10 col6\" >0.074026</td>\n",
              "      <td id=\"T_fb7f5_row10_col7\" class=\"data row10 col7\" >-0.011962</td>\n",
              "      <td id=\"T_fb7f5_row10_col8\" class=\"data row10 col8\" >0.129399</td>\n",
              "      <td id=\"T_fb7f5_row10_col9\" class=\"data row10 col9\" >-0.012678</td>\n",
              "      <td id=\"T_fb7f5_row10_col10\" class=\"data row10 col10\" >1.000000</td>\n",
              "    </tr>\n",
              "  </tbody>\n",
              "</table>\n"
            ]
          },
          "metadata": {},
          "execution_count": 18
        }
      ]
    },
    {
      "cell_type": "code",
      "source": [
        "data = data.drop(['NumberOfTime30-59DaysPastDueNotWorse','NumberOfTime60-89DaysPastDueNotWorse'],axis=1)"
      ],
      "metadata": {
        "id": "rD_8buIPluBu"
      },
      "execution_count": 19,
      "outputs": []
    },
    {
      "cell_type": "code",
      "source": [
        "corr = data.corr() #строим матрицу корреляции\n",
        "corr.style.background_gradient(cmap='coolwarm') #зависимость/корреляция"
      ],
      "metadata": {
        "colab": {
          "base_uri": "https://localhost:8080/",
          "height": 348
        },
        "id": "u_D7ZtvdoFgi",
        "outputId": "d81723d3-f3c0-45d0-9604-274ac0a577e7"
      },
      "execution_count": 20,
      "outputs": [
        {
          "output_type": "execute_result",
          "data": {
            "text/plain": [
              "<pandas.io.formats.style.Styler at 0x7f955d50b6a0>"
            ],
            "text/html": [
              "<style type=\"text/css\">\n",
              "#T_45d4a_row0_col0, #T_45d4a_row1_col1, #T_45d4a_row2_col2, #T_45d4a_row3_col3, #T_45d4a_row4_col4, #T_45d4a_row5_col5, #T_45d4a_row6_col6, #T_45d4a_row7_col7, #T_45d4a_row8_col8 {\n",
              "  background-color: #b40426;\n",
              "  color: #f1f1f1;\n",
              "}\n",
              "#T_45d4a_row0_col1, #T_45d4a_row6_col1 {\n",
              "  background-color: #3d50c3;\n",
              "  color: #f1f1f1;\n",
              "}\n",
              "#T_45d4a_row0_col2, #T_45d4a_row8_col4 {\n",
              "  background-color: #5470de;\n",
              "  color: #f1f1f1;\n",
              "}\n",
              "#T_45d4a_row0_col3, #T_45d4a_row0_col7 {\n",
              "  background-color: #455cce;\n",
              "  color: #f1f1f1;\n",
              "}\n",
              "#T_45d4a_row0_col4, #T_45d4a_row2_col0, #T_45d4a_row2_col8, #T_45d4a_row3_col4, #T_45d4a_row5_col1, #T_45d4a_row5_col6, #T_45d4a_row6_col5, #T_45d4a_row6_col7, #T_45d4a_row8_col2, #T_45d4a_row8_col3 {\n",
              "  background-color: #3b4cc0;\n",
              "  color: #f1f1f1;\n",
              "}\n",
              "#T_45d4a_row0_col5, #T_45d4a_row1_col3, #T_45d4a_row2_col4 {\n",
              "  background-color: #485fd1;\n",
              "  color: #f1f1f1;\n",
              "}\n",
              "#T_45d4a_row0_col6 {\n",
              "  background-color: #7597f6;\n",
              "  color: #f1f1f1;\n",
              "}\n",
              "#T_45d4a_row0_col8 {\n",
              "  background-color: #81a4fb;\n",
              "  color: #f1f1f1;\n",
              "}\n",
              "#T_45d4a_row1_col0, #T_45d4a_row5_col4 {\n",
              "  background-color: #5a78e4;\n",
              "  color: #f1f1f1;\n",
              "}\n",
              "#T_45d4a_row1_col2 {\n",
              "  background-color: #7295f4;\n",
              "  color: #f1f1f1;\n",
              "}\n",
              "#T_45d4a_row1_col4, #T_45d4a_row4_col3 {\n",
              "  background-color: #4257c9;\n",
              "  color: #f1f1f1;\n",
              "}\n",
              "#T_45d4a_row1_col5, #T_45d4a_row2_col3, #T_45d4a_row3_col6, #T_45d4a_row4_col6, #T_45d4a_row8_col6 {\n",
              "  background-color: #4e68d8;\n",
              "  color: #f1f1f1;\n",
              "}\n",
              "#T_45d4a_row1_col6 {\n",
              "  background-color: #506bda;\n",
              "  color: #f1f1f1;\n",
              "}\n",
              "#T_45d4a_row1_col7 {\n",
              "  background-color: #4961d2;\n",
              "  color: #f1f1f1;\n",
              "}\n",
              "#T_45d4a_row1_col8 {\n",
              "  background-color: #7396f5;\n",
              "  color: #f1f1f1;\n",
              "}\n",
              "#T_45d4a_row2_col1, #T_45d4a_row6_col4 {\n",
              "  background-color: #3c4ec2;\n",
              "  color: #f1f1f1;\n",
              "}\n",
              "#T_45d4a_row2_col5, #T_45d4a_row6_col0 {\n",
              "  background-color: #7ea1fa;\n",
              "  color: #f1f1f1;\n",
              "}\n",
              "#T_45d4a_row2_col6, #T_45d4a_row4_col1, #T_45d4a_row7_col1 {\n",
              "  background-color: #3f53c6;\n",
              "  color: #f1f1f1;\n",
              "}\n",
              "#T_45d4a_row2_col7, #T_45d4a_row5_col0 {\n",
              "  background-color: #516ddb;\n",
              "  color: #f1f1f1;\n",
              "}\n",
              "#T_45d4a_row3_col0, #T_45d4a_row7_col0 {\n",
              "  background-color: #5875e1;\n",
              "  color: #f1f1f1;\n",
              "}\n",
              "#T_45d4a_row3_col1, #T_45d4a_row8_col1 {\n",
              "  background-color: #3e51c5;\n",
              "  color: #f1f1f1;\n",
              "}\n",
              "#T_45d4a_row3_col2 {\n",
              "  background-color: #7a9df8;\n",
              "  color: #f1f1f1;\n",
              "}\n",
              "#T_45d4a_row3_col5 {\n",
              "  background-color: #5f7fe8;\n",
              "  color: #f1f1f1;\n",
              "}\n",
              "#T_45d4a_row3_col7, #T_45d4a_row7_col3 {\n",
              "  background-color: #6c8ff1;\n",
              "  color: #f1f1f1;\n",
              "}\n",
              "#T_45d4a_row3_col8, #T_45d4a_row8_col5 {\n",
              "  background-color: #6788ee;\n",
              "  color: #f1f1f1;\n",
              "}\n",
              "#T_45d4a_row4_col0 {\n",
              "  background-color: #5572df;\n",
              "  color: #f1f1f1;\n",
              "}\n",
              "#T_45d4a_row4_col2 {\n",
              "  background-color: #7b9ff9;\n",
              "  color: #f1f1f1;\n",
              "}\n",
              "#T_45d4a_row4_col5, #T_45d4a_row4_col7 {\n",
              "  background-color: #6b8df0;\n",
              "  color: #f1f1f1;\n",
              "}\n",
              "#T_45d4a_row4_col8 {\n",
              "  background-color: #86a9fc;\n",
              "  color: #f1f1f1;\n",
              "}\n",
              "#T_45d4a_row5_col2 {\n",
              "  background-color: #9ebeff;\n",
              "  color: #000000;\n",
              "}\n",
              "#T_45d4a_row5_col3 {\n",
              "  background-color: #5673e0;\n",
              "  color: #f1f1f1;\n",
              "}\n",
              "#T_45d4a_row5_col7 {\n",
              "  background-color: #d2dbe8;\n",
              "  color: #000000;\n",
              "}\n",
              "#T_45d4a_row5_col8 {\n",
              "  background-color: #89acfd;\n",
              "  color: #000000;\n",
              "}\n",
              "#T_45d4a_row6_col2 {\n",
              "  background-color: #6282ea;\n",
              "  color: #f1f1f1;\n",
              "}\n",
              "#T_45d4a_row6_col3, #T_45d4a_row7_col6 {\n",
              "  background-color: #445acc;\n",
              "  color: #f1f1f1;\n",
              "}\n",
              "#T_45d4a_row6_col8, #T_45d4a_row8_col7 {\n",
              "  background-color: #6f92f3;\n",
              "  color: #f1f1f1;\n",
              "}\n",
              "#T_45d4a_row7_col2 {\n",
              "  background-color: #7da0f9;\n",
              "  color: #f1f1f1;\n",
              "}\n",
              "#T_45d4a_row7_col4 {\n",
              "  background-color: #6384eb;\n",
              "  color: #f1f1f1;\n",
              "}\n",
              "#T_45d4a_row7_col5 {\n",
              "  background-color: #d6dce4;\n",
              "  color: #000000;\n",
              "}\n",
              "#T_45d4a_row7_col8 {\n",
              "  background-color: #98b9ff;\n",
              "  color: #000000;\n",
              "}\n",
              "#T_45d4a_row8_col0 {\n",
              "  background-color: #688aef;\n",
              "  color: #f1f1f1;\n",
              "}\n",
              "</style>\n",
              "<table id=\"T_45d4a_\" class=\"dataframe\">\n",
              "  <thead>\n",
              "    <tr>\n",
              "      <th class=\"blank level0\" >&nbsp;</th>\n",
              "      <th class=\"col_heading level0 col0\" >SeriousDlqin2yrs</th>\n",
              "      <th class=\"col_heading level0 col1\" >RevolvingUtilizationOfUnsecuredLines</th>\n",
              "      <th class=\"col_heading level0 col2\" >age</th>\n",
              "      <th class=\"col_heading level0 col3\" >DebtRatio</th>\n",
              "      <th class=\"col_heading level0 col4\" >MonthlyIncome</th>\n",
              "      <th class=\"col_heading level0 col5\" >NumberOfOpenCreditLinesAndLoans</th>\n",
              "      <th class=\"col_heading level0 col6\" >NumberOfTimes90DaysLate</th>\n",
              "      <th class=\"col_heading level0 col7\" >NumberRealEstateLoansOrLines</th>\n",
              "      <th class=\"col_heading level0 col8\" >NumberOfDependents</th>\n",
              "    </tr>\n",
              "  </thead>\n",
              "  <tbody>\n",
              "    <tr>\n",
              "      <th id=\"T_45d4a_level0_row0\" class=\"row_heading level0 row0\" >SeriousDlqin2yrs</th>\n",
              "      <td id=\"T_45d4a_row0_col0\" class=\"data row0 col0\" >1.000000</td>\n",
              "      <td id=\"T_45d4a_row0_col1\" class=\"data row0 col1\" >-0.001802</td>\n",
              "      <td id=\"T_45d4a_row0_col2\" class=\"data row0 col2\" >-0.115386</td>\n",
              "      <td id=\"T_45d4a_row0_col3\" class=\"data row0 col3\" >-0.007602</td>\n",
              "      <td id=\"T_45d4a_row0_col4\" class=\"data row0 col4\" >-0.017151</td>\n",
              "      <td id=\"T_45d4a_row0_col5\" class=\"data row0 col5\" >-0.029669</td>\n",
              "      <td id=\"T_45d4a_row0_col6\" class=\"data row0 col6\" >0.117175</td>\n",
              "      <td id=\"T_45d4a_row0_col7\" class=\"data row0 col7\" >-0.007038</td>\n",
              "      <td id=\"T_45d4a_row0_col8\" class=\"data row0 col8\" >0.046869</td>\n",
              "    </tr>\n",
              "    <tr>\n",
              "      <th id=\"T_45d4a_level0_row1\" class=\"row_heading level0 row1\" >RevolvingUtilizationOfUnsecuredLines</th>\n",
              "      <td id=\"T_45d4a_row1_col0\" class=\"data row1 col0\" >-0.001802</td>\n",
              "      <td id=\"T_45d4a_row1_col1\" class=\"data row1 col1\" >1.000000</td>\n",
              "      <td id=\"T_45d4a_row1_col2\" class=\"data row1 col2\" >-0.005898</td>\n",
              "      <td id=\"T_45d4a_row1_col3\" class=\"data row1 col3\" >0.003961</td>\n",
              "      <td id=\"T_45d4a_row1_col4\" class=\"data row1 col4\" >0.006513</td>\n",
              "      <td id=\"T_45d4a_row1_col5\" class=\"data row1 col5\" >-0.011281</td>\n",
              "      <td id=\"T_45d4a_row1_col6\" class=\"data row1 col6\" >-0.001061</td>\n",
              "      <td id=\"T_45d4a_row1_col7\" class=\"data row1 col7\" >0.006235</td>\n",
              "      <td id=\"T_45d4a_row1_col8\" class=\"data row1 col8\" >0.001193</td>\n",
              "    </tr>\n",
              "    <tr>\n",
              "      <th id=\"T_45d4a_level0_row2\" class=\"row_heading level0 row2\" >age</th>\n",
              "      <td id=\"T_45d4a_row2_col0\" class=\"data row2 col0\" >-0.115386</td>\n",
              "      <td id=\"T_45d4a_row2_col1\" class=\"data row2 col1\" >-0.005898</td>\n",
              "      <td id=\"T_45d4a_row2_col2\" class=\"data row2 col2\" >1.000000</td>\n",
              "      <td id=\"T_45d4a_row2_col3\" class=\"data row2 col3\" >0.024188</td>\n",
              "      <td id=\"T_45d4a_row2_col4\" class=\"data row2 col4\" >0.027581</td>\n",
              "      <td id=\"T_45d4a_row2_col5\" class=\"data row2 col5\" >0.147705</td>\n",
              "      <td id=\"T_45d4a_row2_col6\" class=\"data row2 col6\" >-0.061005</td>\n",
              "      <td id=\"T_45d4a_row2_col7\" class=\"data row2 col7\" >0.033150</td>\n",
              "      <td id=\"T_45d4a_row2_col8\" class=\"data row2 col8\" >-0.215693</td>\n",
              "    </tr>\n",
              "    <tr>\n",
              "      <th id=\"T_45d4a_level0_row3\" class=\"row_heading level0 row3\" >DebtRatio</th>\n",
              "      <td id=\"T_45d4a_row3_col0\" class=\"data row3 col0\" >-0.007602</td>\n",
              "      <td id=\"T_45d4a_row3_col1\" class=\"data row3 col1\" >0.003961</td>\n",
              "      <td id=\"T_45d4a_row3_col2\" class=\"data row3 col2\" >0.024188</td>\n",
              "      <td id=\"T_45d4a_row3_col3\" class=\"data row3 col3\" >1.000000</td>\n",
              "      <td id=\"T_45d4a_row3_col4\" class=\"data row3 col4\" >-0.018006</td>\n",
              "      <td id=\"T_45d4a_row3_col5\" class=\"data row3 col5\" >0.049565</td>\n",
              "      <td id=\"T_45d4a_row3_col6\" class=\"data row3 col6\" >-0.008320</td>\n",
              "      <td id=\"T_45d4a_row3_col7\" class=\"data row3 col7\" >0.120046</td>\n",
              "      <td id=\"T_45d4a_row3_col8\" class=\"data row3 col8\" >-0.044476</td>\n",
              "    </tr>\n",
              "    <tr>\n",
              "      <th id=\"T_45d4a_level0_row4\" class=\"row_heading level0 row4\" >MonthlyIncome</th>\n",
              "      <td id=\"T_45d4a_row4_col0\" class=\"data row4 col0\" >-0.017151</td>\n",
              "      <td id=\"T_45d4a_row4_col1\" class=\"data row4 col1\" >0.006513</td>\n",
              "      <td id=\"T_45d4a_row4_col2\" class=\"data row4 col2\" >0.027581</td>\n",
              "      <td id=\"T_45d4a_row4_col3\" class=\"data row4 col3\" >-0.018006</td>\n",
              "      <td id=\"T_45d4a_row4_col4\" class=\"data row4 col4\" >1.000000</td>\n",
              "      <td id=\"T_45d4a_row4_col5\" class=\"data row4 col5\" >0.086949</td>\n",
              "      <td id=\"T_45d4a_row4_col6\" class=\"data row4 col6\" >-0.010500</td>\n",
              "      <td id=\"T_45d4a_row4_col7\" class=\"data row4 col7\" >0.116273</td>\n",
              "      <td id=\"T_45d4a_row4_col8\" class=\"data row4 col8\" >0.066314</td>\n",
              "    </tr>\n",
              "    <tr>\n",
              "      <th id=\"T_45d4a_level0_row5\" class=\"row_heading level0 row5\" >NumberOfOpenCreditLinesAndLoans</th>\n",
              "      <td id=\"T_45d4a_row5_col0\" class=\"data row5 col0\" >-0.029669</td>\n",
              "      <td id=\"T_45d4a_row5_col1\" class=\"data row5 col1\" >-0.011281</td>\n",
              "      <td id=\"T_45d4a_row5_col2\" class=\"data row5 col2\" >0.147705</td>\n",
              "      <td id=\"T_45d4a_row5_col3\" class=\"data row5 col3\" >0.049565</td>\n",
              "      <td id=\"T_45d4a_row5_col4\" class=\"data row5 col4\" >0.086949</td>\n",
              "      <td id=\"T_45d4a_row5_col5\" class=\"data row5 col5\" >1.000000</td>\n",
              "      <td id=\"T_45d4a_row5_col6\" class=\"data row5 col6\" >-0.079984</td>\n",
              "      <td id=\"T_45d4a_row5_col7\" class=\"data row5 col7\" >0.433959</td>\n",
              "      <td id=\"T_45d4a_row5_col8\" class=\"data row5 col8\" >0.074026</td>\n",
              "    </tr>\n",
              "    <tr>\n",
              "      <th id=\"T_45d4a_level0_row6\" class=\"row_heading level0 row6\" >NumberOfTimes90DaysLate</th>\n",
              "      <td id=\"T_45d4a_row6_col0\" class=\"data row6 col0\" >0.117175</td>\n",
              "      <td id=\"T_45d4a_row6_col1\" class=\"data row6 col1\" >-0.001061</td>\n",
              "      <td id=\"T_45d4a_row6_col2\" class=\"data row6 col2\" >-0.061005</td>\n",
              "      <td id=\"T_45d4a_row6_col3\" class=\"data row6 col3\" >-0.008320</td>\n",
              "      <td id=\"T_45d4a_row6_col4\" class=\"data row6 col4\" >-0.010500</td>\n",
              "      <td id=\"T_45d4a_row6_col5\" class=\"data row6 col5\" >-0.079984</td>\n",
              "      <td id=\"T_45d4a_row6_col6\" class=\"data row6 col6\" >1.000000</td>\n",
              "      <td id=\"T_45d4a_row6_col7\" class=\"data row6 col7\" >-0.045205</td>\n",
              "      <td id=\"T_45d4a_row6_col8\" class=\"data row6 col8\" >-0.011962</td>\n",
              "    </tr>\n",
              "    <tr>\n",
              "      <th id=\"T_45d4a_level0_row7\" class=\"row_heading level0 row7\" >NumberRealEstateLoansOrLines</th>\n",
              "      <td id=\"T_45d4a_row7_col0\" class=\"data row7 col0\" >-0.007038</td>\n",
              "      <td id=\"T_45d4a_row7_col1\" class=\"data row7 col1\" >0.006235</td>\n",
              "      <td id=\"T_45d4a_row7_col2\" class=\"data row7 col2\" >0.033150</td>\n",
              "      <td id=\"T_45d4a_row7_col3\" class=\"data row7 col3\" >0.120046</td>\n",
              "      <td id=\"T_45d4a_row7_col4\" class=\"data row7 col4\" >0.116273</td>\n",
              "      <td id=\"T_45d4a_row7_col5\" class=\"data row7 col5\" >0.433959</td>\n",
              "      <td id=\"T_45d4a_row7_col6\" class=\"data row7 col6\" >-0.045205</td>\n",
              "      <td id=\"T_45d4a_row7_col7\" class=\"data row7 col7\" >1.000000</td>\n",
              "      <td id=\"T_45d4a_row7_col8\" class=\"data row7 col8\" >0.129399</td>\n",
              "    </tr>\n",
              "    <tr>\n",
              "      <th id=\"T_45d4a_level0_row8\" class=\"row_heading level0 row8\" >NumberOfDependents</th>\n",
              "      <td id=\"T_45d4a_row8_col0\" class=\"data row8 col0\" >0.046869</td>\n",
              "      <td id=\"T_45d4a_row8_col1\" class=\"data row8 col1\" >0.001193</td>\n",
              "      <td id=\"T_45d4a_row8_col2\" class=\"data row8 col2\" >-0.215693</td>\n",
              "      <td id=\"T_45d4a_row8_col3\" class=\"data row8 col3\" >-0.044476</td>\n",
              "      <td id=\"T_45d4a_row8_col4\" class=\"data row8 col4\" >0.066314</td>\n",
              "      <td id=\"T_45d4a_row8_col5\" class=\"data row8 col5\" >0.074026</td>\n",
              "      <td id=\"T_45d4a_row8_col6\" class=\"data row8 col6\" >-0.011962</td>\n",
              "      <td id=\"T_45d4a_row8_col7\" class=\"data row8 col7\" >0.129399</td>\n",
              "      <td id=\"T_45d4a_row8_col8\" class=\"data row8 col8\" >1.000000</td>\n",
              "    </tr>\n",
              "  </tbody>\n",
              "</table>\n"
            ]
          },
          "metadata": {},
          "execution_count": 20
        }
      ]
    },
    {
      "cell_type": "markdown",
      "source": [
        "Визуализация данных"
      ],
      "metadata": {
        "id": "GIqEr_e-tOQj"
      }
    },
    {
      "cell_type": "code",
      "source": [
        "import matplotlib.pyplot as plt\n",
        "\n",
        "plt.scatter(data['NumberOfTimes90DaysLate'], data['SeriousDlqin2yrs'], c=data['SeriousDlqin2yrs'])"
      ],
      "metadata": {
        "colab": {
          "base_uri": "https://localhost:8080/",
          "height": 282
        },
        "id": "8mzF59Lwo5NM",
        "outputId": "0431452e-2a92-40b3-f2f2-7483bb00a510"
      },
      "execution_count": 21,
      "outputs": [
        {
          "output_type": "execute_result",
          "data": {
            "text/plain": [
              "<matplotlib.collections.PathCollection at 0x7f955d358b80>"
            ]
          },
          "metadata": {},
          "execution_count": 21
        },
        {
          "output_type": "display_data",
          "data": {
            "text/plain": [
              "<Figure size 432x288 with 1 Axes>"
            ],
            "image/png": "[encoded data removed]"
          },
          "metadata": {
            "needs_background": "light"
          }
        }
      ]
    },
    {
      "cell_type": "code",
      "source": [
        "data.groupby('SeriousDlqin2yrs')['NumberOfTimes90DaysLate'].mean()"
      ],
      "metadata": {
        "colab": {
          "base_uri": "https://localhost:8080/"
        },
        "id": "0tWNkBxhrS30",
        "outputId": "ce0b2f06-129a-4cdc-e7c8-35f6887ba556"
      },
      "execution_count": 22,
      "outputs": [
        {
          "output_type": "execute_result",
          "data": {
            "text/plain": [
              "SeriousDlqin2yrs\n",
              "0    0.135225\n",
              "1    2.091362\n",
              "Name: NumberOfTimes90DaysLate, dtype: float64"
            ]
          },
          "metadata": {},
          "execution_count": 22
        }
      ]
    },
    {
      "cell_type": "markdown",
      "source": [
        "Обучение модели"
      ],
      "metadata": {
        "id": "zsi5rSUOs1gO"
      }
    },
    {
      "cell_type": "code",
      "source": [
        "X = data.drop('SeriousDlqin2yrs', axis=1)\n",
        "y = data['SeriousDlqin2yrs']"
      ],
      "metadata": {
        "id": "WE_amzdVtRgL"
      },
      "execution_count": 23,
      "outputs": []
    },
    {
      "cell_type": "markdown",
      "source": [
        "Разобъём данные на train и test (test — 25% от всех данных)"
      ],
      "metadata": {
        "id": "u1m9hNlAta-0"
      }
    },
    {
      "cell_type": "code",
      "source": [
        "from sklearn.metrics import accuracy_score\n",
        "from sklearn.model_selection import train_test_split\n",
        "\n",
        "Xtrain, Xtest, ytrain, ytest = train_test_split(X, y, test_size=0.25, random_state=42)"
      ],
      "metadata": {
        "id": "98CKWMiktats"
      },
      "execution_count": 24,
      "outputs": []
    },
    {
      "cell_type": "code",
      "source": [
        "X.head"
      ],
      "metadata": {
        "colab": {
          "base_uri": "https://localhost:8080/"
        },
        "id": "vQP7IWNutvVP",
        "outputId": "6be411a5-3cbe-42bc-e831-553d8e45a567"
      },
      "execution_count": 25,
      "outputs": [
        {
          "output_type": "execute_result",
          "data": {
            "text/plain": [
              "<bound method NDFrame.head of         RevolvingUtilizationOfUnsecuredLines  age    DebtRatio  MonthlyIncome  \\\n",
              "0                                   0.766127   45     0.802982         9120.0   \n",
              "1                                   0.957151   40     0.121876         2600.0   \n",
              "2                                   0.658180   38     0.085113         3042.0   \n",
              "3                                   0.233810   30     0.036050         3300.0   \n",
              "4                                   0.907239   49     0.024926        63588.0   \n",
              "...                                      ...  ...          ...            ...   \n",
              "149995                              0.040674   74     0.225131         2100.0   \n",
              "149996                              0.299745   44     0.716562         5584.0   \n",
              "149997                              0.246044   58  3870.000000         5400.0   \n",
              "149998                              0.000000   30     0.000000         5716.0   \n",
              "149999                              0.850283   64     0.249908         8158.0   \n",
              "\n",
              "        NumberOfOpenCreditLinesAndLoans  NumberOfTimes90DaysLate  \\\n",
              "0                                    13                        0   \n",
              "1                                     4                        0   \n",
              "2                                     2                        1   \n",
              "3                                     5                        0   \n",
              "4                                     7                        0   \n",
              "...                                 ...                      ...   \n",
              "149995                                4                        0   \n",
              "149996                                4                        0   \n",
              "149997                               18                        0   \n",
              "149998                                4                        0   \n",
              "149999                                8                        0   \n",
              "\n",
              "        NumberRealEstateLoansOrLines  NumberOfDependents  \n",
              "0                                  6                 2.0  \n",
              "1                                  0                 1.0  \n",
              "2                                  0                 0.0  \n",
              "3                                  0                 0.0  \n",
              "4                                  1                 0.0  \n",
              "...                              ...                 ...  \n",
              "149995                             1                 0.0  \n",
              "149996                             1                 2.0  \n",
              "149997                             1                 0.0  \n",
              "149998                             0                 0.0  \n",
              "149999                             2                 0.0  \n",
              "\n",
              "[150000 rows x 8 columns]>"
            ]
          },
          "metadata": {},
          "execution_count": 25
        }
      ]
    },
    {
      "cell_type": "markdown",
      "source": [
        "Маштабироование признакоов"
      ],
      "metadata": {
        "id": "gvaeG59Xt4pu"
      }
    },
    {
      "cell_type": "code",
      "source": [
        "import pandas as pd\n",
        "from sklearn.preprocessing import StandardScaler\n",
        "\n",
        "ss = StandardScaler()\n",
        "ss.fit(Xtrain)\n",
        "\n",
        "Xtrain = pd.DataFrame(ss.transform(Xtrain), columns=X.columns)\n",
        "Xtest = pd.DataFrame(ss.transform(Xtest), columns=X.columns)\n",
        "\n",
        "Xtrain.head()"
      ],
      "metadata": {
        "colab": {
          "base_uri": "https://localhost:8080/",
          "height": 268
        },
        "id": "5R9B76fYt7w5",
        "outputId": "fb420c3d-5b51-4012-b063-ca24c5216ea3"
      },
      "execution_count": 26,
      "outputs": [
        {
          "output_type": "execute_result",
          "data": {
            "text/plain": [
              "   RevolvingUtilizationOfUnsecuredLines       age  DebtRatio  MonthlyIncome  \\\n",
              "0                             -0.021913  0.048196  -0.177746       0.112305   \n",
              "1                             -0.022635 -0.493560  -0.177736       1.595577   \n",
              "2                             -0.022044  0.386793  -0.177805       0.183788   \n",
              "3                             -0.018664 -2.051108  -0.177857      -0.393152   \n",
              "4                             -0.022410 -1.306194  -0.177640      -0.173628   \n",
              "\n",
              "   NumberOfOpenCreditLinesAndLoans  NumberOfTimes90DaysLate  \\\n",
              "0                        -0.089707                -0.063888   \n",
              "1                        -0.284060                -0.063888   \n",
              "2                        -0.284060                -0.063888   \n",
              "3                        -1.450180                -0.063888   \n",
              "4                        -0.478413                -0.063888   \n",
              "\n",
              "   NumberRealEstateLoansOrLines  NumberOfDependents  \n",
              "0                     -0.016736            1.136978  \n",
              "1                      1.751985            1.136978  \n",
              "2                     -0.901096           -0.665841  \n",
              "3                     -0.901096           -0.665841  \n",
              "4                     -0.016736            2.939798  "
            ],
            "text/html": [
              "\n",
              "  <div id=\"df-a9092fc5-c39f-493b-9348-3eea9f5d7d8e\">\n",
              "    <div class=\"colab-df-container\">\n",
              "      <div>\n",
              "<style scoped>\n",
              "    .dataframe tbody tr th:only-of-type {\n",
              "        vertical-align: middle;\n",
              "    }\n",
              "\n",
              "    .dataframe tbody tr th {\n",
              "        vertical-align: top;\n",
              "    }\n",
              "\n",
              "    .dataframe thead th {\n",
              "        text-align: right;\n",
              "    }\n",
              "</style>\n",
              "<table border=\"1\" class=\"dataframe\">\n",
              "  <thead>\n",
              "    <tr style=\"text-align: right;\">\n",
              "      <th></th>\n",
              "      <th>RevolvingUtilizationOfUnsecuredLines</th>\n",
              "      <th>age</th>\n",
              "      <th>DebtRatio</th>\n",
              "      <th>MonthlyIncome</th>\n",
              "      <th>NumberOfOpenCreditLinesAndLoans</th>\n",
              "      <th>NumberOfTimes90DaysLate</th>\n",
              "      <th>NumberRealEstateLoansOrLines</th>\n",
              "      <th>NumberOfDependents</th>\n",
              "    </tr>\n",
              "  </thead>\n",
              "  <tbody>\n",
              "    <tr>\n",
              "      <th>0</th>\n",
              "      <td>-0.021913</td>\n",
              "      <td>0.048196</td>\n",
              "      <td>-0.177746</td>\n",
              "      <td>0.112305</td>\n",
              "      <td>-0.089707</td>\n",
              "      <td>-0.063888</td>\n",
              "      <td>-0.016736</td>\n",
              "      <td>1.136978</td>\n",
              "    </tr>\n",
              "    <tr>\n",
              "      <th>1</th>\n",
              "      <td>-0.022635</td>\n",
              "      <td>-0.493560</td>\n",
              "      <td>-0.177736</td>\n",
              "      <td>1.595577</td>\n",
              "      <td>-0.284060</td>\n",
              "      <td>-0.063888</td>\n",
              "      <td>1.751985</td>\n",
              "      <td>1.136978</td>\n",
              "    </tr>\n",
              "    <tr>\n",
              "      <th>2</th>\n",
              "      <td>-0.022044</td>\n",
              "      <td>0.386793</td>\n",
              "      <td>-0.177805</td>\n",
              "      <td>0.183788</td>\n",
              "      <td>-0.284060</td>\n",
              "      <td>-0.063888</td>\n",
              "      <td>-0.901096</td>\n",
              "      <td>-0.665841</td>\n",
              "    </tr>\n",
              "    <tr>\n",
              "      <th>3</th>\n",
              "      <td>-0.018664</td>\n",
              "      <td>-2.051108</td>\n",
              "      <td>-0.177857</td>\n",
              "      <td>-0.393152</td>\n",
              "      <td>-1.450180</td>\n",
              "      <td>-0.063888</td>\n",
              "      <td>-0.901096</td>\n",
              "      <td>-0.665841</td>\n",
              "    </tr>\n",
              "    <tr>\n",
              "      <th>4</th>\n",
              "      <td>-0.022410</td>\n",
              "      <td>-1.306194</td>\n",
              "      <td>-0.177640</td>\n",
              "      <td>-0.173628</td>\n",
              "      <td>-0.478413</td>\n",
              "      <td>-0.063888</td>\n",
              "      <td>-0.016736</td>\n",
              "      <td>2.939798</td>\n",
              "    </tr>\n",
              "  </tbody>\n",
              "</table>\n",
              "</div>\n",
              "      <button class=\"colab-df-convert\" onclick=\"convertToInteractive('df-a9092fc5-c39f-493b-9348-3eea9f5d7d8e')\"\n",
              "              title=\"Convert this dataframe to an interactive table.\"\n",
              "              style=\"display:none;\">\n",
              "        \n",
              "  <svg xmlns=\"http://www.w3.org/2000/svg\" height=\"24px\"viewBox=\"0 0 24 24\"\n",
              "       width=\"24px\">\n",
              "    <path d=\"M0 0h24v24H0V0z\" fill=\"none\"/>\n",
              "    <path d=\"M18.56 5.44l.94 2.06.94-2.06 2.06-.94-2.06-.94-.94-2.06-.94 2.06-2.06.94zm-11 1L8.5 8.5l.94-2.06 2.06-.94-2.06-.94L8.5 2.5l-.94 2.06-2.06.94zm10 10l.94 2.06.94-2.06 2.06-.94-2.06-.94-.94-2.06-.94 2.06-2.06.94z\"/><path d=\"M17.41 7.96l-1.37-1.37c-.4-.4-.92-.59-1.43-.59-.52 0-1.04.2-1.43.59L10.3 9.45l-7.72 7.72c-.78.78-.78 2.05 0 2.83L4 21.41c.39.39.9.59 1.41.59.51 0 1.02-.2 1.41-.59l7.78-7.78 2.81-2.81c.8-.78.8-2.07 0-2.86zM5.41 20L4 18.59l7.72-7.72 1.47 1.35L5.41 20z\"/>\n",
              "  </svg>\n",
              "      </button>\n",
              "      \n",
              "  <style>\n",
              "    .colab-df-container {\n",
              "      display:flex;\n",
              "      flex-wrap:wrap;\n",
              "      gap: 12px;\n",
              "    }\n",
              "\n",
              "    .colab-df-convert {\n",
              "      background-color: #E8F0FE;\n",
              "      border: none;\n",
              "      border-radius: 50%;\n",
              "      cursor: pointer;\n",
              "      display: none;\n",
              "      fill: #1967D2;\n",
              "      height: 32px;\n",
              "      padding: 0 0 0 0;\n",
              "      width: 32px;\n",
              "    }\n",
              "\n",
              "    .colab-df-convert:hover {\n",
              "      background-color: #E2EBFA;\n",
              "      box-shadow: 0px 1px 2px rgba(60, 64, 67, 0.3), 0px 1px 3px 1px rgba(60, 64, 67, 0.15);\n",
              "      fill: #174EA6;\n",
              "    }\n",
              "\n",
              "    [theme=dark] .colab-df-convert {\n",
              "      background-color: #3B4455;\n",
              "      fill: #D2E3FC;\n",
              "    }\n",
              "\n",
              "    [theme=dark] .colab-df-convert:hover {\n",
              "      background-color: #434B5C;\n",
              "      box-shadow: 0px 1px 3px 1px rgba(0, 0, 0, 0.15);\n",
              "      filter: drop-shadow(0px 1px 2px rgba(0, 0, 0, 0.3));\n",
              "      fill: #FFFFFF;\n",
              "    }\n",
              "  </style>\n",
              "\n",
              "      <script>\n",
              "        const buttonEl =\n",
              "          document.querySelector('#df-a9092fc5-c39f-493b-9348-3eea9f5d7d8e button.colab-df-convert');\n",
              "        buttonEl.style.display =\n",
              "          google.colab.kernel.accessAllowed ? 'block' : 'none';\n",
              "\n",
              "        async function convertToInteractive(key) {\n",
              "          const element = document.querySelector('#df-a9092fc5-c39f-493b-9348-3eea9f5d7d8e');\n",
              "          const dataTable =\n",
              "            await google.colab.kernel.invokeFunction('convertToInteractive',\n",
              "                                                     [key], {});\n",
              "          if (!dataTable) return;\n",
              "\n",
              "          const docLinkHtml = 'Like what you see? Visit the ' +\n",
              "            '<a target=\"_blank\" href=https://colab.research.google.com/notebooks/data_table.ipynb>data table notebook</a>'\n",
              "            + ' to learn more about interactive tables.';\n",
              "          element.innerHTML = '';\n",
              "          dataTable['output_type'] = 'display_data';\n",
              "          await google.colab.output.renderOutput(dataTable, element);\n",
              "          const docLink = document.createElement('div');\n",
              "          docLink.innerHTML = docLinkHtml;\n",
              "          element.appendChild(docLink);\n",
              "        }\n",
              "      </script>\n",
              "    </div>\n",
              "  </div>\n",
              "  "
            ]
          },
          "metadata": {},
          "execution_count": 26
        }
      ]
    },
    {
      "cell_type": "markdown",
      "source": [
        "Обучим логистическую регрессию на train и сделаем предсказание на новых для нее данных (test)."
      ],
      "metadata": {
        "id": "hpAtJaoquCtZ"
      }
    },
    {
      "cell_type": "code",
      "source": [
        "from sklearn.linear_model import LogisticRegression\n",
        "\n",
        "model = LogisticRegression(class_weight='balanced') # объявление модели (добавил class_weight='balanced')\n",
        "model.fit(Xtrain, ytrain) # обучение модели\n",
        "\n",
        "pred_test = model.predict(Xtest) # предсказание классов\n",
        "\n"
      ],
      "metadata": {
        "id": "24LojGNluB8C"
      },
      "execution_count": 27,
      "outputs": []
    },
    {
      "cell_type": "code",
      "source": [
        "pred_test[:5]"
      ],
      "metadata": {
        "colab": {
          "base_uri": "https://localhost:8080/"
        },
        "id": "pgKWSIU4uNBg",
        "outputId": "2858788c-0c98-4013-eb1d-be7180bd26da"
      },
      "execution_count": 28,
      "outputs": [
        {
          "output_type": "execute_result",
          "data": {
            "text/plain": [
              "array([0, 0, 1, 0, 0])"
            ]
          },
          "metadata": {},
          "execution_count": 28
        }
      ]
    },
    {
      "cell_type": "code",
      "source": [
        "accuracy_score(ytest, pred_test)"
      ],
      "metadata": {
        "colab": {
          "base_uri": "https://localhost:8080/"
        },
        "id": "QPOqcJnOuRSG",
        "outputId": "837602f3-6668-41fb-ae22-de6ceb06f5a9"
      },
      "execution_count": 29,
      "outputs": [
        {
          "output_type": "execute_result",
          "data": {
            "text/plain": [
              "0.6900266666666667"
            ]
          },
          "metadata": {},
          "execution_count": 29
        }
      ]
    },
    {
      "cell_type": "code",
      "source": [
        "y.value_counts()"
      ],
      "metadata": {
        "colab": {
          "base_uri": "https://localhost:8080/"
        },
        "id": "ljAzAiGhuTn1",
        "outputId": "f6d88233-bcdb-4ff3-a0f1-ef8c7d9f129b"
      },
      "execution_count": 30,
      "outputs": [
        {
          "output_type": "execute_result",
          "data": {
            "text/plain": [
              "0    139974\n",
              "1     10026\n",
              "Name: SeriousDlqin2yrs, dtype: int64"
            ]
          },
          "metadata": {},
          "execution_count": 30
        }
      ]
    },
    {
      "cell_type": "code",
      "source": [
        "pred_test[:20]"
      ],
      "metadata": {
        "colab": {
          "base_uri": "https://localhost:8080/"
        },
        "id": "Ad_CzbR7uZ9k",
        "outputId": "b4c17edb-f4ab-44a0-c5af-60ad85358a62"
      },
      "execution_count": 31,
      "outputs": [
        {
          "output_type": "execute_result",
          "data": {
            "text/plain": [
              "array([0, 0, 1, 0, 0, 1, 0, 0, 0, 1, 1, 1, 1, 1, 0, 0, 0, 0, 0, 0])"
            ]
          },
          "metadata": {},
          "execution_count": 31
        }
      ]
    },
    {
      "cell_type": "markdown",
      "source": [
        "Валидация"
      ],
      "metadata": {
        "id": "dC7Syg7zue32"
      }
    },
    {
      "cell_type": "code",
      "source": [
        "from sklearn.metrics import confusion_matrix\n",
        "\n",
        "confusion_matrix(ytest, pred_test)"
      ],
      "metadata": {
        "colab": {
          "base_uri": "https://localhost:8080/"
        },
        "id": "sJqgEhhruhOv",
        "outputId": "a1e8b562-3230-40e7-e8f4-dc13c9dc11a8"
      },
      "execution_count": 32,
      "outputs": [
        {
          "output_type": "execute_result",
          "data": {
            "text/plain": [
              "array([[24316, 10709],\n",
              "       [  915,  1560]])"
            ]
          },
          "metadata": {},
          "execution_count": 32
        }
      ]
    },
    {
      "cell_type": "code",
      "source": [
        "ytest.value_counts()"
      ],
      "metadata": {
        "colab": {
          "base_uri": "https://localhost:8080/"
        },
        "id": "Z40E5xwGu0GM",
        "outputId": "e4d1664e-0734-4855-95af-d8afbcf32cde"
      },
      "execution_count": 33,
      "outputs": [
        {
          "output_type": "execute_result",
          "data": {
            "text/plain": [
              "0    35025\n",
              "1     2475\n",
              "Name: SeriousDlqin2yrs, dtype: int64"
            ]
          },
          "metadata": {},
          "execution_count": 33
        }
      ]
    },
    {
      "cell_type": "code",
      "source": [
        "from sklearn.metrics import recall_score\n",
        "\n",
        "recall_score(ytest, pred_test)"
      ],
      "metadata": {
        "colab": {
          "base_uri": "https://localhost:8080/"
        },
        "id": "kYWL1UKsvCAe",
        "outputId": "0ee07868-858b-4927-ebd2-d3aef5e99730"
      },
      "execution_count": 34,
      "outputs": [
        {
          "output_type": "execute_result",
          "data": {
            "text/plain": [
              "0.6303030303030303"
            ]
          },
          "metadata": {},
          "execution_count": 34
        }
      ]
    },
    {
      "cell_type": "code",
      "source": [
        "probs = model.predict_proba(Xtest)\n",
        "\n",
        "probs[:10]"
      ],
      "metadata": {
        "colab": {
          "base_uri": "https://localhost:8080/"
        },
        "id": "CYK9IDbLvJ03",
        "outputId": "038ae377-34a7-452f-f220-19bb2f39100e"
      },
      "execution_count": 35,
      "outputs": [
        {
          "output_type": "execute_result",
          "data": {
            "text/plain": [
              "array([[0.65743348, 0.34256652],\n",
              "       [0.63714876, 0.36285124],\n",
              "       [0.49136791, 0.50863209],\n",
              "       [0.53324775, 0.46675225],\n",
              "       [0.57775096, 0.42224904],\n",
              "       [0.45240351, 0.54759649],\n",
              "       [0.71947517, 0.28052483],\n",
              "       [0.75783423, 0.24216577],\n",
              "       [0.60919326, 0.39080674],\n",
              "       [0.47015661, 0.52984339]])"
            ]
          },
          "metadata": {},
          "execution_count": 35
        }
      ]
    },
    {
      "cell_type": "markdown",
      "source": [
        "Изменим порог вероятности"
      ],
      "metadata": {
        "id": "c5r9MSTvvZIB"
      }
    },
    {
      "cell_type": "code",
      "source": [
        "probs_Dql90 = probs[:,1]\n",
        "\n",
        "classes = probs_Dql90 > 0.5"
      ],
      "metadata": {
        "id": "IxiZzu6PvcR2"
      },
      "execution_count": 36,
      "outputs": []
    },
    {
      "cell_type": "code",
      "source": [
        "confusion_matrix(ytest, classes)"
      ],
      "metadata": {
        "colab": {
          "base_uri": "https://localhost:8080/"
        },
        "id": "bknAiI4Nvwf3",
        "outputId": "fff147c5-2b9a-4295-8512-607fa0eae828"
      },
      "execution_count": 37,
      "outputs": [
        {
          "output_type": "execute_result",
          "data": {
            "text/plain": [
              "array([[24316, 10709],\n",
              "       [  915,  1560]])"
            ]
          },
          "metadata": {},
          "execution_count": 37
        }
      ]
    },
    {
      "cell_type": "code",
      "source": [
        "ytest.value_counts()"
      ],
      "metadata": {
        "colab": {
          "base_uri": "https://localhost:8080/"
        },
        "id": "Kd_4xRrSv5vA",
        "outputId": "c0c64c3f-5368-4f0c-e826-2d27be86e605"
      },
      "execution_count": 38,
      "outputs": [
        {
          "output_type": "execute_result",
          "data": {
            "text/plain": [
              "0    35025\n",
              "1     2475\n",
              "Name: SeriousDlqin2yrs, dtype: int64"
            ]
          },
          "metadata": {},
          "execution_count": 38
        }
      ]
    },
    {
      "cell_type": "code",
      "source": [
        "recall_score(ytest, classes)"
      ],
      "metadata": {
        "colab": {
          "base_uri": "https://localhost:8080/"
        },
        "id": "JCO_IK0owflD",
        "outputId": "6b990080-74c6-418e-fa8a-59df627bc0dc"
      },
      "execution_count": 39,
      "outputs": [
        {
          "output_type": "execute_result",
          "data": {
            "text/plain": [
              "0.6303030303030303"
            ]
          },
          "metadata": {},
          "execution_count": 39
        }
      ]
    },
    {
      "cell_type": "markdown",
      "source": [
        "Интерпретация модели"
      ],
      "metadata": {
        "id": "UyzcqXndxJ3j"
      }
    },
    {
      "cell_type": "code",
      "source": [
        "model.coef_, model.intercept_"
      ],
      "metadata": {
        "colab": {
          "base_uri": "https://localhost:8080/"
        },
        "id": "2EGpfAmKxM_0",
        "outputId": "d87f6c37-b6d3-44d0-96d2-ee873ff07026"
      },
      "execution_count": 40,
      "outputs": [
        {
          "output_type": "execute_result",
          "data": {
            "text/plain": [
              "(array([[-0.01285723, -0.46645085, -0.03858438, -0.35123362,  0.07546557,\n",
              "          3.02269458,  0.08174756,  0.08912868]]), array([-0.14222866]))"
            ]
          },
          "metadata": {},
          "execution_count": 40
        }
      ]
    },
    {
      "cell_type": "code",
      "source": [
        "import pandas as pd\n",
        "\n",
        "coef_table = pd.DataFrame({'features' : list(X.columns), 'weights' : list(model.coef_[0])})\n",
        "\n",
        "coef_table.sort_values(by='weights')"
      ],
      "metadata": {
        "colab": {
          "base_uri": "https://localhost:8080/",
          "height": 297
        },
        "id": "4F2vrR1HxTz8",
        "outputId": "68645f22-5fe7-464d-cac5-91ed06f58ef2"
      },
      "execution_count": 41,
      "outputs": [
        {
          "output_type": "execute_result",
          "data": {
            "text/plain": [
              "                               features   weights\n",
              "1                                   age -0.466451\n",
              "3                         MonthlyIncome -0.351234\n",
              "2                             DebtRatio -0.038584\n",
              "0  RevolvingUtilizationOfUnsecuredLines -0.012857\n",
              "4       NumberOfOpenCreditLinesAndLoans  0.075466\n",
              "6          NumberRealEstateLoansOrLines  0.081748\n",
              "7                    NumberOfDependents  0.089129\n",
              "5               NumberOfTimes90DaysLate  3.022695"
            ],
            "text/html": [
              "\n",
              "  <div id=\"df-3ca3e853-328b-439f-9be2-11ff6b14f91f\">\n",
              "    <div class=\"colab-df-container\">\n",
              "      <div>\n",
              "<style scoped>\n",
              "    .dataframe tbody tr th:only-of-type {\n",
              "        vertical-align: middle;\n",
              "    }\n",
              "\n",
              "    .dataframe tbody tr th {\n",
              "        vertical-align: top;\n",
              "    }\n",
              "\n",
              "    .dataframe thead th {\n",
              "        text-align: right;\n",
              "    }\n",
              "</style>\n",
              "<table border=\"1\" class=\"dataframe\">\n",
              "  <thead>\n",
              "    <tr style=\"text-align: right;\">\n",
              "      <th></th>\n",
              "      <th>features</th>\n",
              "      <th>weights</th>\n",
              "    </tr>\n",
              "  </thead>\n",
              "  <tbody>\n",
              "    <tr>\n",
              "      <th>1</th>\n",
              "      <td>age</td>\n",
              "      <td>-0.466451</td>\n",
              "    </tr>\n",
              "    <tr>\n",
              "      <th>3</th>\n",
              "      <td>MonthlyIncome</td>\n",
              "      <td>-0.351234</td>\n",
              "    </tr>\n",
              "    <tr>\n",
              "      <th>2</th>\n",
              "      <td>DebtRatio</td>\n",
              "      <td>-0.038584</td>\n",
              "    </tr>\n",
              "    <tr>\n",
              "      <th>0</th>\n",
              "      <td>RevolvingUtilizationOfUnsecuredLines</td>\n",
              "      <td>-0.012857</td>\n",
              "    </tr>\n",
              "    <tr>\n",
              "      <th>4</th>\n",
              "      <td>NumberOfOpenCreditLinesAndLoans</td>\n",
              "      <td>0.075466</td>\n",
              "    </tr>\n",
              "    <tr>\n",
              "      <th>6</th>\n",
              "      <td>NumberRealEstateLoansOrLines</td>\n",
              "      <td>0.081748</td>\n",
              "    </tr>\n",
              "    <tr>\n",
              "      <th>7</th>\n",
              "      <td>NumberOfDependents</td>\n",
              "      <td>0.089129</td>\n",
              "    </tr>\n",
              "    <tr>\n",
              "      <th>5</th>\n",
              "      <td>NumberOfTimes90DaysLate</td>\n",
              "      <td>3.022695</td>\n",
              "    </tr>\n",
              "  </tbody>\n",
              "</table>\n",
              "</div>\n",
              "      <button class=\"colab-df-convert\" onclick=\"convertToInteractive('df-3ca3e853-328b-439f-9be2-11ff6b14f91f')\"\n",
              "              title=\"Convert this dataframe to an interactive table.\"\n",
              "              style=\"display:none;\">\n",
              "        \n",
              "  <svg xmlns=\"http://www.w3.org/2000/svg\" height=\"24px\"viewBox=\"0 0 24 24\"\n",
              "       width=\"24px\">\n",
              "    <path d=\"M0 0h24v24H0V0z\" fill=\"none\"/>\n",
              "    <path d=\"M18.56 5.44l.94 2.06.94-2.06 2.06-.94-2.06-.94-.94-2.06-.94 2.06-2.06.94zm-11 1L8.5 8.5l.94-2.06 2.06-.94-2.06-.94L8.5 2.5l-.94 2.06-2.06.94zm10 10l.94 2.06.94-2.06 2.06-.94-2.06-.94-.94-2.06-.94 2.06-2.06.94z\"/><path d=\"M17.41 7.96l-1.37-1.37c-.4-.4-.92-.59-1.43-.59-.52 0-1.04.2-1.43.59L10.3 9.45l-7.72 7.72c-.78.78-.78 2.05 0 2.83L4 21.41c.39.39.9.59 1.41.59.51 0 1.02-.2 1.41-.59l7.78-7.78 2.81-2.81c.8-.78.8-2.07 0-2.86zM5.41 20L4 18.59l7.72-7.72 1.47 1.35L5.41 20z\"/>\n",
              "  </svg>\n",
              "      </button>\n",
              "      \n",
              "  <style>\n",
              "    .colab-df-container {\n",
              "      display:flex;\n",
              "      flex-wrap:wrap;\n",
              "      gap: 12px;\n",
              "    }\n",
              "\n",
              "    .colab-df-convert {\n",
              "      background-color: #E8F0FE;\n",
              "      border: none;\n",
              "      border-radius: 50%;\n",
              "      cursor: pointer;\n",
              "      display: none;\n",
              "      fill: #1967D2;\n",
              "      height: 32px;\n",
              "      padding: 0 0 0 0;\n",
              "      width: 32px;\n",
              "    }\n",
              "\n",
              "    .colab-df-convert:hover {\n",
              "      background-color: #E2EBFA;\n",
              "      box-shadow: 0px 1px 2px rgba(60, 64, 67, 0.3), 0px 1px 3px 1px rgba(60, 64, 67, 0.15);\n",
              "      fill: #174EA6;\n",
              "    }\n",
              "\n",
              "    [theme=dark] .colab-df-convert {\n",
              "      background-color: #3B4455;\n",
              "      fill: #D2E3FC;\n",
              "    }\n",
              "\n",
              "    [theme=dark] .colab-df-convert:hover {\n",
              "      background-color: #434B5C;\n",
              "      box-shadow: 0px 1px 3px 1px rgba(0, 0, 0, 0.15);\n",
              "      filter: drop-shadow(0px 1px 2px rgba(0, 0, 0, 0.3));\n",
              "      fill: #FFFFFF;\n",
              "    }\n",
              "  </style>\n",
              "\n",
              "      <script>\n",
              "        const buttonEl =\n",
              "          document.querySelector('#df-3ca3e853-328b-439f-9be2-11ff6b14f91f button.colab-df-convert');\n",
              "        buttonEl.style.display =\n",
              "          google.colab.kernel.accessAllowed ? 'block' : 'none';\n",
              "\n",
              "        async function convertToInteractive(key) {\n",
              "          const element = document.querySelector('#df-3ca3e853-328b-439f-9be2-11ff6b14f91f');\n",
              "          const dataTable =\n",
              "            await google.colab.kernel.invokeFunction('convertToInteractive',\n",
              "                                                     [key], {});\n",
              "          if (!dataTable) return;\n",
              "\n",
              "          const docLinkHtml = 'Like what you see? Visit the ' +\n",
              "            '<a target=\"_blank\" href=https://colab.research.google.com/notebooks/data_table.ipynb>data table notebook</a>'\n",
              "            + ' to learn more about interactive tables.';\n",
              "          element.innerHTML = '';\n",
              "          dataTable['output_type'] = 'display_data';\n",
              "          await google.colab.output.renderOutput(dataTable, element);\n",
              "          const docLink = document.createElement('div');\n",
              "          docLink.innerHTML = docLinkHtml;\n",
              "          element.appendChild(docLink);\n",
              "        }\n",
              "      </script>\n",
              "    </div>\n",
              "  </div>\n",
              "  "
            ]
          },
          "metadata": {},
          "execution_count": 41
        }
      ]
    },
    {
      "cell_type": "markdown",
      "source": [
        "Метод ближайших соседей"
      ],
      "metadata": {
        "id": "4vhuCX6JxjIX"
      }
    },
    {
      "cell_type": "code",
      "source": [
        "from sklearn.neighbors import KNeighborsClassifier\n",
        "\n",
        "knn = KNeighborsClassifier()"
      ],
      "metadata": {
        "id": "DGRpnWP9xiaI"
      },
      "execution_count": 42,
      "outputs": []
    },
    {
      "cell_type": "code",
      "source": [
        "knn.fit(Xtrain, ytrain)\n",
        "\n",
        "pred_test2 = knn.predict_proba(Xtest)[:,1]\n",
        "\n",
        "classes2 = pred_test2 > 0.2\n",
        "\n",
        "confusion_matrix(ytest, classes2)"
      ],
      "metadata": {
        "colab": {
          "base_uri": "https://localhost:8080/"
        },
        "id": "leJkUuzexn-7",
        "outputId": "f177b7ab-551e-45c9-ac5a-aeb6f054cf07"
      },
      "execution_count": 43,
      "outputs": [
        {
          "output_type": "execute_result",
          "data": {
            "text/plain": [
              "array([[33630,  1395],\n",
              "       [ 1926,   549]])"
            ]
          },
          "metadata": {},
          "execution_count": 43
        }
      ]
    },
    {
      "cell_type": "markdown",
      "source": [
        "Сохранение"
      ],
      "metadata": {
        "id": "nhElH7-ux6xg"
      }
    },
    {
      "cell_type": "code",
      "source": [
        "#Xtest['predictions'] = probs_Dql90\n",
        "\n",
        "#Xtest[['predictions']].to_csv(\"PredictionsDql90.csv\", index=False)"
      ],
      "metadata": {
        "id": "VgdFv2xSx55E"
      },
      "execution_count": 96,
      "outputs": []
    },
    {
      "cell_type": "code",
      "source": [
        "import pickle \n",
        "\n",
        "with open('model.pickle', 'wb') as f:\n",
        "    pickle.dump(model, f)\n",
        "\n",
        "# а так модель можно загрузить из файла:  \n",
        "# with open('filename.pickle', 'rb') as f:\n",
        "#     model = pickle.load(f)"
      ],
      "metadata": {
        "id": "KO8_CdkUyO3_"
      },
      "execution_count": 97,
      "outputs": []
    },
    {
      "cell_type": "code",
      "source": [
        "from sklearn import metrics\n",
        "\n",
        "print(\"LR quality:\")\n",
        "print(\"precision: \", metrics.precision_score(ytest, classes))\n",
        "print(\"recall: \", metrics.recall_score(ytest, classes))\n",
        "print(\"auc-roc: \", metrics.roc_auc_score(ytest, probs[:, 1]))"
      ],
      "metadata": {
        "colab": {
          "base_uri": "https://localhost:8080/"
        },
        "id": "yROG-mk-X1-8",
        "outputId": "3ed83baf-2896-468c-de50-f2cfe52f5ab0"
      },
      "execution_count": 44,
      "outputs": [
        {
          "output_type": "stream",
          "name": "stdout",
          "text": [
            "LR quality:\n",
            "precision:  0.127149726954112\n",
            "recall:  0.6303030303030303\n",
            "auc-roc:  0.7360566752463968\n"
          ]
        }
      ]
    },
    {
      "cell_type": "code",
      "source": [
        "!pip install catboost"
      ],
      "metadata": {
        "colab": {
          "base_uri": "https://localhost:8080/"
        },
        "id": "tyQV1y59X9-H",
        "outputId": "b4cafd68-6f1f-4d4c-b2cf-fe4c05219bce"
      },
      "execution_count": 45,
      "outputs": [
        {
          "output_type": "stream",
          "name": "stdout",
          "text": [
            "Looking in indexes: https://pypi.org/simple, https://us-python.pkg.dev/colab-wheels/public/simple/\n",
            "Collecting catboost\n",
            "  Downloading catboost-1.1.1-cp38-none-manylinux1_x86_64.whl (76.6 MB)\n",
            "\u001b[2K     \u001b[90m━━━━━━━━━━━━━━━━━━━━━━━━━━━━━━━━━━━━━━━━\u001b[0m \u001b[32m76.6/76.6 MB\u001b[0m \u001b[31m12.1 MB/s\u001b[0m eta \u001b[36m0:00:00\u001b[0m\n",
            "\u001b[?25hRequirement already satisfied: six in /usr/local/lib/python3.8/dist-packages (from catboost) (1.15.0)\n",
            "Requirement already satisfied: pandas>=0.24.0 in /usr/local/lib/python3.8/dist-packages (from catboost) (1.3.5)\n",
            "Requirement already satisfied: numpy>=1.16.0 in /usr/local/lib/python3.8/dist-packages (from catboost) (1.22.4)\n",
            "Requirement already satisfied: plotly in /usr/local/lib/python3.8/dist-packages (from catboost) (5.5.0)\n",
            "Requirement already satisfied: matplotlib in /usr/local/lib/python3.8/dist-packages (from catboost) (3.5.3)\n",
            "Requirement already satisfied: scipy in /usr/local/lib/python3.8/dist-packages (from catboost) (1.7.3)\n",
            "Requirement already satisfied: graphviz in /usr/local/lib/python3.8/dist-packages (from catboost) (0.10.1)\n",
            "Requirement already satisfied: pytz>=2017.3 in /usr/local/lib/python3.8/dist-packages (from pandas>=0.24.0->catboost) (2022.7.1)\n",
            "Requirement already satisfied: python-dateutil>=2.7.3 in /usr/local/lib/python3.8/dist-packages (from pandas>=0.24.0->catboost) (2.8.2)\n",
            "Requirement already satisfied: cycler>=0.10 in /usr/local/lib/python3.8/dist-packages (from matplotlib->catboost) (0.11.0)\n",
            "Requirement already satisfied: kiwisolver>=1.0.1 in /usr/local/lib/python3.8/dist-packages (from matplotlib->catboost) (1.4.4)\n",
            "Requirement already satisfied: packaging>=20.0 in /usr/local/lib/python3.8/dist-packages (from matplotlib->catboost) (23.0)\n",
            "Requirement already satisfied: pillow>=6.2.0 in /usr/local/lib/python3.8/dist-packages (from matplotlib->catboost) (8.4.0)\n",
            "Requirement already satisfied: pyparsing>=2.2.1 in /usr/local/lib/python3.8/dist-packages (from matplotlib->catboost) (3.0.9)\n",
            "Requirement already satisfied: fonttools>=4.22.0 in /usr/local/lib/python3.8/dist-packages (from matplotlib->catboost) (4.38.0)\n",
            "Requirement already satisfied: tenacity>=6.2.0 in /usr/local/lib/python3.8/dist-packages (from plotly->catboost) (8.2.1)\n",
            "Installing collected packages: catboost\n",
            "Successfully installed catboost-1.1.1\n"
          ]
        }
      ]
    },
    {
      "cell_type": "code",
      "source": [
        "from catboost import CatBoostClassifier, Pool"
      ],
      "metadata": {
        "id": "EcU8oeB2YUgT"
      },
      "execution_count": 46,
      "outputs": []
    },
    {
      "cell_type": "code",
      "source": [
        "train_set = Pool(Xtrain, ytrain)\n",
        "test_set = Pool(Xtest, ytest)"
      ],
      "metadata": {
        "id": "uWt5BKvyYae5"
      },
      "execution_count": 47,
      "outputs": []
    },
    {
      "cell_type": "code",
      "source": [
        "gbm = CatBoostClassifier(iterations=100,\n",
        "                          depth=2,\n",
        "                          learning_rate=0.1,\n",
        "                          loss_function='Logloss',\n",
        "                          eval_metric='AUC',\n",
        "                          verbose=False)\n",
        "gbm.fit(train_set, eval_set=test_set)\n",
        "gbm_preds = gbm.predict_proba(Xtest)"
      ],
      "metadata": {
        "id": "wzouBVJPYdyH"
      },
      "execution_count": 48,
      "outputs": []
    },
    {
      "cell_type": "code",
      "source": [
        "eval_metrics = gbm.get_evals_result()\n",
        "plt.plot(eval_metrics['validation']['AUC'])\n",
        "plt.xlabel('n_trees')\n",
        "plt.ylabel('AUC')\n",
        "plt.grid()"
      ],
      "metadata": {
        "colab": {
          "base_uri": "https://localhost:8080/",
          "height": 280
        },
        "id": "CdGj7nDVdyXe",
        "outputId": "e345a08c-4688-4aa1-d305-16c7e2e83230"
      },
      "execution_count": 49,
      "outputs": [
        {
          "output_type": "display_data",
          "data": {
            "text/plain": [
              "<Figure size 432x288 with 1 Axes>"
            ],
            "image/png": "[encoded data removed]"
          },
          "metadata": {
            "needs_background": "light"
          }
        }
      ]
    },
    {
      "cell_type": "code",
      "source": [
        "gbm_classes = (gbm_preds[:, 1] > 0.2)\n",
        "print(\"precision: \", metrics.precision_score(ytest, gbm_classes))\n",
        "print(\"recall: \", metrics.recall_score(ytest, gbm_classes))\n",
        "print(\"auc-roc: \", metrics.roc_auc_score(ytest, gbm_preds[:, 1]))"
      ],
      "metadata": {
        "colab": {
          "base_uri": "https://localhost:8080/"
        },
        "id": "9tw-9ZJJd45Y",
        "outputId": "6ca96579-c758-486f-dde5-e4390ea5f733"
      },
      "execution_count": 56,
      "outputs": [
        {
          "output_type": "stream",
          "name": "stdout",
          "text": [
            "precision:  0.4251361161524501\n",
            "recall:  0.3785858585858586\n",
            "auc-roc:  0.8353958427962711\n"
          ]
        }
      ]
    },
    {
      "cell_type": "code",
      "source": [
        "coef_table = pd.DataFrame({'features' : list(X.columns), 'importances' : list(gbm.get_feature_importance())})\n",
        "\n",
        "coef_table.sort_values(by='importances')"
      ],
      "metadata": {
        "colab": {
          "base_uri": "https://localhost:8080/",
          "height": 297
        },
        "id": "vQN9LilBd_DZ",
        "outputId": "fe6f1788-04b4-49a3-a0e1-43f583c6e58d"
      },
      "execution_count": 51,
      "outputs": [
        {
          "output_type": "execute_result",
          "data": {
            "text/plain": [
              "                               features  importances\n",
              "7                    NumberOfDependents     0.125269\n",
              "3                         MonthlyIncome     1.742472\n",
              "2                             DebtRatio     2.964826\n",
              "6          NumberRealEstateLoansOrLines     3.828781\n",
              "4       NumberOfOpenCreditLinesAndLoans     5.406393\n",
              "1                                   age     8.283259\n",
              "5               NumberOfTimes90DaysLate    25.532341\n",
              "0  RevolvingUtilizationOfUnsecuredLines    52.116659"
            ],
            "text/html": [
              "\n",
              "  <div id=\"df-58d16d82-e9b9-4985-80bf-d1cd4a48bac5\">\n",
              "    <div class=\"colab-df-container\">\n",
              "      <div>\n",
              "<style scoped>\n",
              "    .dataframe tbody tr th:only-of-type {\n",
              "        vertical-align: middle;\n",
              "    }\n",
              "\n",
              "    .dataframe tbody tr th {\n",
              "        vertical-align: top;\n",
              "    }\n",
              "\n",
              "    .dataframe thead th {\n",
              "        text-align: right;\n",
              "    }\n",
              "</style>\n",
              "<table border=\"1\" class=\"dataframe\">\n",
              "  <thead>\n",
              "    <tr style=\"text-align: right;\">\n",
              "      <th></th>\n",
              "      <th>features</th>\n",
              "      <th>importances</th>\n",
              "    </tr>\n",
              "  </thead>\n",
              "  <tbody>\n",
              "    <tr>\n",
              "      <th>7</th>\n",
              "      <td>NumberOfDependents</td>\n",
              "      <td>0.125269</td>\n",
              "    </tr>\n",
              "    <tr>\n",
              "      <th>3</th>\n",
              "      <td>MonthlyIncome</td>\n",
              "      <td>1.742472</td>\n",
              "    </tr>\n",
              "    <tr>\n",
              "      <th>2</th>\n",
              "      <td>DebtRatio</td>\n",
              "      <td>2.964826</td>\n",
              "    </tr>\n",
              "    <tr>\n",
              "      <th>6</th>\n",
              "      <td>NumberRealEstateLoansOrLines</td>\n",
              "      <td>3.828781</td>\n",
              "    </tr>\n",
              "    <tr>\n",
              "      <th>4</th>\n",
              "      <td>NumberOfOpenCreditLinesAndLoans</td>\n",
              "      <td>5.406393</td>\n",
              "    </tr>\n",
              "    <tr>\n",
              "      <th>1</th>\n",
              "      <td>age</td>\n",
              "      <td>8.283259</td>\n",
              "    </tr>\n",
              "    <tr>\n",
              "      <th>5</th>\n",
              "      <td>NumberOfTimes90DaysLate</td>\n",
              "      <td>25.532341</td>\n",
              "    </tr>\n",
              "    <tr>\n",
              "      <th>0</th>\n",
              "      <td>RevolvingUtilizationOfUnsecuredLines</td>\n",
              "      <td>52.116659</td>\n",
              "    </tr>\n",
              "  </tbody>\n",
              "</table>\n",
              "</div>\n",
              "      <button class=\"colab-df-convert\" onclick=\"convertToInteractive('df-58d16d82-e9b9-4985-80bf-d1cd4a48bac5')\"\n",
              "              title=\"Convert this dataframe to an interactive table.\"\n",
              "              style=\"display:none;\">\n",
              "        \n",
              "  <svg xmlns=\"http://www.w3.org/2000/svg\" height=\"24px\"viewBox=\"0 0 24 24\"\n",
              "       width=\"24px\">\n",
              "    <path d=\"M0 0h24v24H0V0z\" fill=\"none\"/>\n",
              "    <path d=\"M18.56 5.44l.94 2.06.94-2.06 2.06-.94-2.06-.94-.94-2.06-.94 2.06-2.06.94zm-11 1L8.5 8.5l.94-2.06 2.06-.94-2.06-.94L8.5 2.5l-.94 2.06-2.06.94zm10 10l.94 2.06.94-2.06 2.06-.94-2.06-.94-.94-2.06-.94 2.06-2.06.94z\"/><path d=\"M17.41 7.96l-1.37-1.37c-.4-.4-.92-.59-1.43-.59-.52 0-1.04.2-1.43.59L10.3 9.45l-7.72 7.72c-.78.78-.78 2.05 0 2.83L4 21.41c.39.39.9.59 1.41.59.51 0 1.02-.2 1.41-.59l7.78-7.78 2.81-2.81c.8-.78.8-2.07 0-2.86zM5.41 20L4 18.59l7.72-7.72 1.47 1.35L5.41 20z\"/>\n",
              "  </svg>\n",
              "      </button>\n",
              "      \n",
              "  <style>\n",
              "    .colab-df-container {\n",
              "      display:flex;\n",
              "      flex-wrap:wrap;\n",
              "      gap: 12px;\n",
              "    }\n",
              "\n",
              "    .colab-df-convert {\n",
              "      background-color: #E8F0FE;\n",
              "      border: none;\n",
              "      border-radius: 50%;\n",
              "      cursor: pointer;\n",
              "      display: none;\n",
              "      fill: #1967D2;\n",
              "      height: 32px;\n",
              "      padding: 0 0 0 0;\n",
              "      width: 32px;\n",
              "    }\n",
              "\n",
              "    .colab-df-convert:hover {\n",
              "      background-color: #E2EBFA;\n",
              "      box-shadow: 0px 1px 2px rgba(60, 64, 67, 0.3), 0px 1px 3px 1px rgba(60, 64, 67, 0.15);\n",
              "      fill: #174EA6;\n",
              "    }\n",
              "\n",
              "    [theme=dark] .colab-df-convert {\n",
              "      background-color: #3B4455;\n",
              "      fill: #D2E3FC;\n",
              "    }\n",
              "\n",
              "    [theme=dark] .colab-df-convert:hover {\n",
              "      background-color: #434B5C;\n",
              "      box-shadow: 0px 1px 3px 1px rgba(0, 0, 0, 0.15);\n",
              "      filter: drop-shadow(0px 1px 2px rgba(0, 0, 0, 0.3));\n",
              "      fill: #FFFFFF;\n",
              "    }\n",
              "  </style>\n",
              "\n",
              "      <script>\n",
              "        const buttonEl =\n",
              "          document.querySelector('#df-58d16d82-e9b9-4985-80bf-d1cd4a48bac5 button.colab-df-convert');\n",
              "        buttonEl.style.display =\n",
              "          google.colab.kernel.accessAllowed ? 'block' : 'none';\n",
              "\n",
              "        async function convertToInteractive(key) {\n",
              "          const element = document.querySelector('#df-58d16d82-e9b9-4985-80bf-d1cd4a48bac5');\n",
              "          const dataTable =\n",
              "            await google.colab.kernel.invokeFunction('convertToInteractive',\n",
              "                                                     [key], {});\n",
              "          if (!dataTable) return;\n",
              "\n",
              "          const docLinkHtml = 'Like what you see? Visit the ' +\n",
              "            '<a target=\"_blank\" href=https://colab.research.google.com/notebooks/data_table.ipynb>data table notebook</a>'\n",
              "            + ' to learn more about interactive tables.';\n",
              "          element.innerHTML = '';\n",
              "          dataTable['output_type'] = 'display_data';\n",
              "          await google.colab.output.renderOutput(dataTable, element);\n",
              "          const docLink = document.createElement('div');\n",
              "          docLink.innerHTML = docLinkHtml;\n",
              "          element.appendChild(docLink);\n",
              "        }\n",
              "      </script>\n",
              "    </div>\n",
              "  </div>\n",
              "  "
            ]
          },
          "metadata": {},
          "execution_count": 51
        }
      ]
    }
  ]
}