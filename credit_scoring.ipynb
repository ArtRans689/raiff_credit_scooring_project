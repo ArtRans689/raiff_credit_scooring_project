{
  "nbformat": 4,
  "nbformat_minor": 0,
  "metadata": {
    "colab": {
      "provenance": []
    },
    "kernelspec": {
      "name": "python3",
      "display_name": "Python 3"
    },
    "language_info": {
      "name": "python"
    }
  },
  "cells": [
    {
      "cell_type": "markdown",
      "source": [
        "Подключаемся к БД."
      ],
      "metadata": {
        "id": "com-siZUxog5"
      }
    },
    {
      "cell_type": "code",
      "execution_count": 123,
      "metadata": {
        "colab": {
          "base_uri": "https://localhost:8080/"
        },
        "id": "Feeod89QlG35",
        "outputId": "ad9c83ff-e9d9-4d4b-835a-e57ef9c4db3b"
      },
      "outputs": [
        {
          "output_type": "stream",
          "name": "stdout",
          "text": [
            "--2023-03-02 04:57:15--  https://storage.yandexcloud.net/cloud-certs/CA.pem\n",
            "Resolving storage.yandexcloud.net (storage.yandexcloud.net)... 213.180.193.243, 2a02:6b8::1d9\n",
            "Connecting to storage.yandexcloud.net (storage.yandexcloud.net)|213.180.193.243|:443... connected.\n",
            "HTTP request sent, awaiting response... 200 OK\n",
            "Length: 3579 (3.5K) [application/x-x509-ca-cert]\n",
            "Saving to: ‘/root/.postgresql/root.crt’\n",
            "\n",
            "/root/.postgresql/r 100%[===================>]   3.50K  --.-KB/s    in 0s      \n",
            "\n",
            "2023-03-02 04:57:16 (478 MB/s) - ‘/root/.postgresql/root.crt’ saved [3579/3579]\n",
            "\n"
          ]
        }
      ],
      "source": [
        "!mkdir -p ~/.postgresql && \\\n",
        "wget \"https://storage.yandexcloud.net/cloud-certs/CA.pem\" \\\n",
        "    --output-document ~/.postgresql/root.crt && \\\n",
        "chmod 0600 ~/.postgresql/root.crt"
      ]
    },
    {
      "cell_type": "code",
      "source": [
        "!sudo apt update && sudo apt install --yes python3 python3-pip && \\\n",
        "!pip3 install psycopg2-binary"
      ],
      "metadata": {
        "colab": {
          "base_uri": "https://localhost:8080/"
        },
        "id": "eJp7A3galJ0g",
        "outputId": "62477ff2-a5c4-4d9c-d888-f2a84c5a2786"
      },
      "execution_count": 124,
      "outputs": [
        {
          "output_type": "stream",
          "name": "stdout",
          "text": [
            "\u001b[33m\r0% [Working]\u001b[0m\r            \rGet:1 http://security.ubuntu.com/ubuntu focal-security InRelease [114 kB]\n",
            "Hit:2 https://cloud.r-project.org/bin/linux/ubuntu focal-cran40/ InRelease\n",
            "Ign:3 https://developer.download.nvidia.com/compute/machine-learning/repos/ubuntu2004/x86_64  InRelease\n",
            "Hit:4 https://developer.download.nvidia.com/compute/cuda/repos/ubuntu2004/x86_64  InRelease\n",
            "Hit:5 http://ppa.launchpad.net/c2d4u.team/c2d4u4.0+/ubuntu focal InRelease\n",
            "Hit:6 https://developer.download.nvidia.com/compute/machine-learning/repos/ubuntu2004/x86_64  Release\n",
            "Hit:7 http://archive.ubuntu.com/ubuntu focal InRelease\n",
            "Get:8 http://archive.ubuntu.com/ubuntu focal-updates InRelease [114 kB]\n",
            "Hit:9 http://ppa.launchpad.net/cran/libgit2/ubuntu focal InRelease\n",
            "Hit:10 http://ppa.launchpad.net/deadsnakes/ppa/ubuntu focal InRelease\n",
            "Get:11 http://archive.ubuntu.com/ubuntu focal-backports InRelease [108 kB]\n",
            "Hit:12 http://ppa.launchpad.net/graphics-drivers/ppa/ubuntu focal InRelease\n",
            "Hit:14 http://ppa.launchpad.net/ubuntugis/ppa/ubuntu focal InRelease\n",
            "Fetched 336 kB in 2s (205 kB/s)\n",
            "Reading package lists... Done\n",
            "Building dependency tree       \n",
            "Reading state information... Done\n",
            "28 packages can be upgraded. Run 'apt list --upgradable' to see them.\n",
            "Reading package lists... Done\n",
            "Building dependency tree       \n",
            "Reading state information... Done\n",
            "python3 is already the newest version (3.8.2-0ubuntu2).\n",
            "python3-pip is already the newest version (20.0.2-5ubuntu1.8).\n",
            "0 upgraded, 0 newly installed, 0 to remove and 28 not upgraded.\n",
            "/bin/bash: !pip3: command not found\n"
          ]
        }
      ]
    },
    {
      "cell_type": "code",
      "source": [
        "import psycopg2\n",
        "\n",
        "conn = psycopg2.connect(\"\"\"\n",
        "    host=rc1b-70q90cunwkzx49mj.mdb.yandexcloud.net\n",
        "    port=6432\n",
        "    sslmode=verify-full\n",
        "    dbname=db_clients\n",
        "    user=mlhs_student\n",
        "    password=mlhs_student\n",
        "    target_session_attrs=read-write\n",
        "\"\"\")"
      ],
      "metadata": {
        "id": "PnWP142hlSwg"
      },
      "execution_count": 125,
      "outputs": []
    },
    {
      "cell_type": "markdown",
      "source": [
        "Получаем данные и смотрим на них."
      ],
      "metadata": {
        "id": "mB6pLPuKxvXK"
      }
    },
    {
      "cell_type": "code",
      "source": [
        "import pandas as pd\n",
        "\n",
        "query = \"SELECT * from public.credit_scoring\"\n",
        "data = pd.read_sql_query(query, conn)\n",
        "\n",
        "conn.close()"
      ],
      "metadata": {
        "id": "8FyHCwHDs7w6"
      },
      "execution_count": 126,
      "outputs": []
    },
    {
      "cell_type": "code",
      "source": [
        "data.head()"
      ],
      "metadata": {
        "id": "YHuPihqrxPHL",
        "colab": {
          "base_uri": "https://localhost:8080/",
          "height": 285
        },
        "outputId": "806a2452-0751-45e1-c4cd-c33a343f5ce8"
      },
      "execution_count": 127,
      "outputs": [
        {
          "output_type": "execute_result",
          "data": {
            "text/plain": [
              "   SeriousDlqin2yrs  RevolvingUtilizationOfUnsecuredLines  age  \\\n",
              "0                 1                              0.766127   45   \n",
              "1                 0                              0.957151   40   \n",
              "2                 0                              0.658180   38   \n",
              "3                 0                              0.233810   30   \n",
              "4                 0                              0.907239   49   \n",
              "\n",
              "   NumberOfTime30-59DaysPastDueNotWorse  DebtRatio  MonthlyIncome  \\\n",
              "0                                     2   0.802982         9120.0   \n",
              "1                                     0   0.121876         2600.0   \n",
              "2                                     1   0.085113         3042.0   \n",
              "3                                     0   0.036050         3300.0   \n",
              "4                                     1   0.024926        63588.0   \n",
              "\n",
              "   NumberOfOpenCreditLinesAndLoans  NumberOfTimes90DaysLate  \\\n",
              "0                               13                        0   \n",
              "1                                4                        0   \n",
              "2                                2                        1   \n",
              "3                                5                        0   \n",
              "4                                7                        0   \n",
              "\n",
              "   NumberRealEstateLoansOrLines  NumberOfTime60-89DaysPastDueNotWorse  \\\n",
              "0                             6                                     0   \n",
              "1                             0                                     0   \n",
              "2                             0                                     0   \n",
              "3                             0                                     0   \n",
              "4                             1                                     0   \n",
              "\n",
              "   NumberOfDependents  \n",
              "0                 2.0  \n",
              "1                 1.0  \n",
              "2                 0.0  \n",
              "3                 0.0  \n",
              "4                 0.0  "
            ],
            "text/html": [
              "\n",
              "  <div id=\"df-0c3c0a41-4ae7-4d1e-a9e7-3a53f415da3a\">\n",
              "    <div class=\"colab-df-container\">\n",
              "      <div>\n",
              "<style scoped>\n",
              "    .dataframe tbody tr th:only-of-type {\n",
              "        vertical-align: middle;\n",
              "    }\n",
              "\n",
              "    .dataframe tbody tr th {\n",
              "        vertical-align: top;\n",
              "    }\n",
              "\n",
              "    .dataframe thead th {\n",
              "        text-align: right;\n",
              "    }\n",
              "</style>\n",
              "<table border=\"1\" class=\"dataframe\">\n",
              "  <thead>\n",
              "    <tr style=\"text-align: right;\">\n",
              "      <th></th>\n",
              "      <th>SeriousDlqin2yrs</th>\n",
              "      <th>RevolvingUtilizationOfUnsecuredLines</th>\n",
              "      <th>age</th>\n",
              "      <th>NumberOfTime30-59DaysPastDueNotWorse</th>\n",
              "      <th>DebtRatio</th>\n",
              "      <th>MonthlyIncome</th>\n",
              "      <th>NumberOfOpenCreditLinesAndLoans</th>\n",
              "      <th>NumberOfTimes90DaysLate</th>\n",
              "      <th>NumberRealEstateLoansOrLines</th>\n",
              "      <th>NumberOfTime60-89DaysPastDueNotWorse</th>\n",
              "      <th>NumberOfDependents</th>\n",
              "    </tr>\n",
              "  </thead>\n",
              "  <tbody>\n",
              "    <tr>\n",
              "      <th>0</th>\n",
              "      <td>1</td>\n",
              "      <td>0.766127</td>\n",
              "      <td>45</td>\n",
              "      <td>2</td>\n",
              "      <td>0.802982</td>\n",
              "      <td>9120.0</td>\n",
              "      <td>13</td>\n",
              "      <td>0</td>\n",
              "      <td>6</td>\n",
              "      <td>0</td>\n",
              "      <td>2.0</td>\n",
              "    </tr>\n",
              "    <tr>\n",
              "      <th>1</th>\n",
              "      <td>0</td>\n",
              "      <td>0.957151</td>\n",
              "      <td>40</td>\n",
              "      <td>0</td>\n",
              "      <td>0.121876</td>\n",
              "      <td>2600.0</td>\n",
              "      <td>4</td>\n",
              "      <td>0</td>\n",
              "      <td>0</td>\n",
              "      <td>0</td>\n",
              "      <td>1.0</td>\n",
              "    </tr>\n",
              "    <tr>\n",
              "      <th>2</th>\n",
              "      <td>0</td>\n",
              "      <td>0.658180</td>\n",
              "      <td>38</td>\n",
              "      <td>1</td>\n",
              "      <td>0.085113</td>\n",
              "      <td>3042.0</td>\n",
              "      <td>2</td>\n",
              "      <td>1</td>\n",
              "      <td>0</td>\n",
              "      <td>0</td>\n",
              "      <td>0.0</td>\n",
              "    </tr>\n",
              "    <tr>\n",
              "      <th>3</th>\n",
              "      <td>0</td>\n",
              "      <td>0.233810</td>\n",
              "      <td>30</td>\n",
              "      <td>0</td>\n",
              "      <td>0.036050</td>\n",
              "      <td>3300.0</td>\n",
              "      <td>5</td>\n",
              "      <td>0</td>\n",
              "      <td>0</td>\n",
              "      <td>0</td>\n",
              "      <td>0.0</td>\n",
              "    </tr>\n",
              "    <tr>\n",
              "      <th>4</th>\n",
              "      <td>0</td>\n",
              "      <td>0.907239</td>\n",
              "      <td>49</td>\n",
              "      <td>1</td>\n",
              "      <td>0.024926</td>\n",
              "      <td>63588.0</td>\n",
              "      <td>7</td>\n",
              "      <td>0</td>\n",
              "      <td>1</td>\n",
              "      <td>0</td>\n",
              "      <td>0.0</td>\n",
              "    </tr>\n",
              "  </tbody>\n",
              "</table>\n",
              "</div>\n",
              "      <button class=\"colab-df-convert\" onclick=\"convertToInteractive('df-0c3c0a41-4ae7-4d1e-a9e7-3a53f415da3a')\"\n",
              "              title=\"Convert this dataframe to an interactive table.\"\n",
              "              style=\"display:none;\">\n",
              "        \n",
              "  <svg xmlns=\"http://www.w3.org/2000/svg\" height=\"24px\"viewBox=\"0 0 24 24\"\n",
              "       width=\"24px\">\n",
              "    <path d=\"M0 0h24v24H0V0z\" fill=\"none\"/>\n",
              "    <path d=\"M18.56 5.44l.94 2.06.94-2.06 2.06-.94-2.06-.94-.94-2.06-.94 2.06-2.06.94zm-11 1L8.5 8.5l.94-2.06 2.06-.94-2.06-.94L8.5 2.5l-.94 2.06-2.06.94zm10 10l.94 2.06.94-2.06 2.06-.94-2.06-.94-.94-2.06-.94 2.06-2.06.94z\"/><path d=\"M17.41 7.96l-1.37-1.37c-.4-.4-.92-.59-1.43-.59-.52 0-1.04.2-1.43.59L10.3 9.45l-7.72 7.72c-.78.78-.78 2.05 0 2.83L4 21.41c.39.39.9.59 1.41.59.51 0 1.02-.2 1.41-.59l7.78-7.78 2.81-2.81c.8-.78.8-2.07 0-2.86zM5.41 20L4 18.59l7.72-7.72 1.47 1.35L5.41 20z\"/>\n",
              "  </svg>\n",
              "      </button>\n",
              "      \n",
              "  <style>\n",
              "    .colab-df-container {\n",
              "      display:flex;\n",
              "      flex-wrap:wrap;\n",
              "      gap: 12px;\n",
              "    }\n",
              "\n",
              "    .colab-df-convert {\n",
              "      background-color: #E8F0FE;\n",
              "      border: none;\n",
              "      border-radius: 50%;\n",
              "      cursor: pointer;\n",
              "      display: none;\n",
              "      fill: #1967D2;\n",
              "      height: 32px;\n",
              "      padding: 0 0 0 0;\n",
              "      width: 32px;\n",
              "    }\n",
              "\n",
              "    .colab-df-convert:hover {\n",
              "      background-color: #E2EBFA;\n",
              "      box-shadow: 0px 1px 2px rgba(60, 64, 67, 0.3), 0px 1px 3px 1px rgba(60, 64, 67, 0.15);\n",
              "      fill: #174EA6;\n",
              "    }\n",
              "\n",
              "    [theme=dark] .colab-df-convert {\n",
              "      background-color: #3B4455;\n",
              "      fill: #D2E3FC;\n",
              "    }\n",
              "\n",
              "    [theme=dark] .colab-df-convert:hover {\n",
              "      background-color: #434B5C;\n",
              "      box-shadow: 0px 1px 3px 1px rgba(0, 0, 0, 0.15);\n",
              "      filter: drop-shadow(0px 1px 2px rgba(0, 0, 0, 0.3));\n",
              "      fill: #FFFFFF;\n",
              "    }\n",
              "  </style>\n",
              "\n",
              "      <script>\n",
              "        const buttonEl =\n",
              "          document.querySelector('#df-0c3c0a41-4ae7-4d1e-a9e7-3a53f415da3a button.colab-df-convert');\n",
              "        buttonEl.style.display =\n",
              "          google.colab.kernel.accessAllowed ? 'block' : 'none';\n",
              "\n",
              "        async function convertToInteractive(key) {\n",
              "          const element = document.querySelector('#df-0c3c0a41-4ae7-4d1e-a9e7-3a53f415da3a');\n",
              "          const dataTable =\n",
              "            await google.colab.kernel.invokeFunction('convertToInteractive',\n",
              "                                                     [key], {});\n",
              "          if (!dataTable) return;\n",
              "\n",
              "          const docLinkHtml = 'Like what you see? Visit the ' +\n",
              "            '<a target=\"_blank\" href=https://colab.research.google.com/notebooks/data_table.ipynb>data table notebook</a>'\n",
              "            + ' to learn more about interactive tables.';\n",
              "          element.innerHTML = '';\n",
              "          dataTable['output_type'] = 'display_data';\n",
              "          await google.colab.output.renderOutput(dataTable, element);\n",
              "          const docLink = document.createElement('div');\n",
              "          docLink.innerHTML = docLinkHtml;\n",
              "          element.appendChild(docLink);\n",
              "        }\n",
              "      </script>\n",
              "    </div>\n",
              "  </div>\n",
              "  "
            ]
          },
          "metadata": {},
          "execution_count": 127
        }
      ]
    },
    {
      "cell_type": "markdown",
      "source": [
        "Сохраняем данные датасета"
      ],
      "metadata": {
        "id": "DRRppGYvpTeN"
      }
    },
    {
      "cell_type": "code",
      "source": [
        "data.to_csv(\"cred_scor_data.csv\", index=False)"
      ],
      "metadata": {
        "id": "i7uIxXk_52Vz"
      },
      "execution_count": 128,
      "outputs": []
    },
    {
      "cell_type": "markdown",
      "source": [
        "Описание таблицы"
      ],
      "metadata": {
        "id": "m_TjbwR2ps1q"
      }
    },
    {
      "cell_type": "code",
      "source": [
        "data.shape"
      ],
      "metadata": {
        "colab": {
          "base_uri": "https://localhost:8080/"
        },
        "id": "x47a7tAOpq4I",
        "outputId": "9d081ff7-f5f5-4406-ecf2-67563bf8a179"
      },
      "execution_count": 129,
      "outputs": [
        {
          "output_type": "execute_result",
          "data": {
            "text/plain": [
              "(150000, 11)"
            ]
          },
          "metadata": {},
          "execution_count": 129
        }
      ]
    },
    {
      "cell_type": "code",
      "source": [
        "data.dtypes"
      ],
      "metadata": {
        "colab": {
          "base_uri": "https://localhost:8080/"
        },
        "id": "CW2qOm3OpvGc",
        "outputId": "0a26fa2a-8221-476d-9b64-06136ef99d50"
      },
      "execution_count": 130,
      "outputs": [
        {
          "output_type": "execute_result",
          "data": {
            "text/plain": [
              "SeriousDlqin2yrs                          int64\n",
              "RevolvingUtilizationOfUnsecuredLines    float64\n",
              "age                                       int64\n",
              "NumberOfTime30-59DaysPastDueNotWorse      int64\n",
              "DebtRatio                               float64\n",
              "MonthlyIncome                           float64\n",
              "NumberOfOpenCreditLinesAndLoans           int64\n",
              "NumberOfTimes90DaysLate                   int64\n",
              "NumberRealEstateLoansOrLines              int64\n",
              "NumberOfTime60-89DaysPastDueNotWorse      int64\n",
              "NumberOfDependents                      float64\n",
              "dtype: object"
            ]
          },
          "metadata": {},
          "execution_count": 130
        }
      ]
    },
    {
      "cell_type": "markdown",
      "source": [
        "Разведовательный анализ"
      ],
      "metadata": {
        "id": "Y4_oD2-XqNtm"
      }
    },
    {
      "cell_type": "code",
      "source": [
        "len(data)"
      ],
      "metadata": {
        "colab": {
          "base_uri": "https://localhost:8080/"
        },
        "id": "VcSU5FZ-qL50",
        "outputId": "7d7a2d2e-6499-4ba4-edc7-1a3d53a5bede"
      },
      "execution_count": 131,
      "outputs": [
        {
          "output_type": "execute_result",
          "data": {
            "text/plain": [
              "150000"
            ]
          },
          "metadata": {},
          "execution_count": 131
        }
      ]
    },
    {
      "cell_type": "markdown",
      "source": [
        "Пропущенные значения"
      ],
      "metadata": {
        "id": "2rMfZs7YqU94"
      }
    },
    {
      "cell_type": "code",
      "source": [
        "data.isna().sum()"
      ],
      "metadata": {
        "colab": {
          "base_uri": "https://localhost:8080/"
        },
        "id": "TF2Akz1_qUO6",
        "outputId": "2599dce7-a474-4c96-e989-e212f576bec8"
      },
      "execution_count": 132,
      "outputs": [
        {
          "output_type": "execute_result",
          "data": {
            "text/plain": [
              "SeriousDlqin2yrs                            0\n",
              "RevolvingUtilizationOfUnsecuredLines        0\n",
              "age                                         0\n",
              "NumberOfTime30-59DaysPastDueNotWorse        0\n",
              "DebtRatio                                   0\n",
              "MonthlyIncome                           29731\n",
              "NumberOfOpenCreditLinesAndLoans             0\n",
              "NumberOfTimes90DaysLate                     0\n",
              "NumberRealEstateLoansOrLines                0\n",
              "NumberOfTime60-89DaysPastDueNotWorse        0\n",
              "NumberOfDependents                       3924\n",
              "dtype: int64"
            ]
          },
          "metadata": {},
          "execution_count": 132
        }
      ]
    },
    {
      "cell_type": "markdown",
      "source": [
        "обработка пропусков (MonthlyIncome and NumberOfDependents)"
      ],
      "metadata": {
        "id": "xIGRT8tOqg8v"
      }
    },
    {
      "cell_type": "code",
      "source": [
        "data.MonthlyIncome.value_counts()"
      ],
      "metadata": {
        "colab": {
          "base_uri": "https://localhost:8080/"
        },
        "id": "QPS6djXBqe1A",
        "outputId": "7b8c24fb-c05c-4986-9ad8-4d3e395edc4b"
      },
      "execution_count": 133,
      "outputs": [
        {
          "output_type": "execute_result",
          "data": {
            "text/plain": [
              "5000.0     2757\n",
              "4000.0     2106\n",
              "6000.0     1934\n",
              "3000.0     1758\n",
              "0.0        1634\n",
              "           ... \n",
              "16084.0       1\n",
              "10523.0       1\n",
              "55250.0       1\n",
              "9242.0        1\n",
              "7647.0        1\n",
              "Name: MonthlyIncome, Length: 13594, dtype: int64"
            ]
          },
          "metadata": {},
          "execution_count": 133
        }
      ]
    },
    {
      "cell_type": "markdown",
      "source": [
        "ищем медиану и заполняем пропуски"
      ],
      "metadata": {
        "id": "fRQib-zvrcM_"
      }
    },
    {
      "cell_type": "code",
      "source": [
        "median = data['MonthlyIncome'].median()\n",
        "#print(median)\n",
        "\n",
        "data['MonthlyIncome'].fillna(median, inplace=True)"
      ],
      "metadata": {
        "id": "qkYj-ydzrRLv"
      },
      "execution_count": 134,
      "outputs": []
    },
    {
      "cell_type": "code",
      "source": [
        "data.NumberOfDependents.value_counts()"
      ],
      "metadata": {
        "colab": {
          "base_uri": "https://localhost:8080/"
        },
        "id": "um2sUrAusACr",
        "outputId": "c167d7f0-eedc-4e4a-ef3b-47b94b111fbc"
      },
      "execution_count": 135,
      "outputs": [
        {
          "output_type": "execute_result",
          "data": {
            "text/plain": [
              "0.0     86902\n",
              "1.0     26316\n",
              "2.0     19522\n",
              "3.0      9483\n",
              "4.0      2862\n",
              "5.0       746\n",
              "6.0       158\n",
              "7.0        51\n",
              "8.0        24\n",
              "10.0        5\n",
              "9.0         5\n",
              "20.0        1\n",
              "13.0        1\n",
              "Name: NumberOfDependents, dtype: int64"
            ]
          },
          "metadata": {},
          "execution_count": 135
        }
      ]
    },
    {
      "cell_type": "code",
      "source": [
        "median = data['NumberOfDependents'].median()\n",
        "#print(median)\n",
        "\n",
        "data['NumberOfDependents'].fillna(median, inplace=True)"
      ],
      "metadata": {
        "id": "S6RJUO34sJec"
      },
      "execution_count": 136,
      "outputs": []
    },
    {
      "cell_type": "code",
      "source": [
        "data.isna().sum()\n"
      ],
      "metadata": {
        "colab": {
          "base_uri": "https://localhost:8080/"
        },
        "id": "QrC5MRTmsRKn",
        "outputId": "da85bafb-6b87-4681-e00f-9f9bbfb64b4d"
      },
      "execution_count": 137,
      "outputs": [
        {
          "output_type": "execute_result",
          "data": {
            "text/plain": [
              "SeriousDlqin2yrs                        0\n",
              "RevolvingUtilizationOfUnsecuredLines    0\n",
              "age                                     0\n",
              "NumberOfTime30-59DaysPastDueNotWorse    0\n",
              "DebtRatio                               0\n",
              "MonthlyIncome                           0\n",
              "NumberOfOpenCreditLinesAndLoans         0\n",
              "NumberOfTimes90DaysLate                 0\n",
              "NumberRealEstateLoansOrLines            0\n",
              "NumberOfTime60-89DaysPastDueNotWorse    0\n",
              "NumberOfDependents                      0\n",
              "dtype: int64"
            ]
          },
          "metadata": {},
          "execution_count": 137
        }
      ]
    },
    {
      "cell_type": "markdown",
      "source": [
        "Описание таблицы"
      ],
      "metadata": {
        "id": "tR-Lftv0sa4h"
      }
    },
    {
      "cell_type": "code",
      "source": [
        "data.describe()"
      ],
      "metadata": {
        "colab": {
          "base_uri": "https://localhost:8080/",
          "height": 378
        },
        "id": "cvqkQ2Iisc9G",
        "outputId": "01743b19-c9bb-422c-e2cb-819074a2ae7f"
      },
      "execution_count": 138,
      "outputs": [
        {
          "output_type": "execute_result",
          "data": {
            "text/plain": [
              "       SeriousDlqin2yrs  RevolvingUtilizationOfUnsecuredLines            age  \\\n",
              "count     150000.000000                         150000.000000  150000.000000   \n",
              "mean           0.066840                              6.048438      52.295207   \n",
              "std            0.249746                            249.755371      14.771866   \n",
              "min            0.000000                              0.000000       0.000000   \n",
              "25%            0.000000                              0.029867      41.000000   \n",
              "50%            0.000000                              0.154181      52.000000   \n",
              "75%            0.000000                              0.559046      63.000000   \n",
              "max            1.000000                          50708.000000     109.000000   \n",
              "\n",
              "       NumberOfTime30-59DaysPastDueNotWorse      DebtRatio  MonthlyIncome  \\\n",
              "count                         150000.000000  150000.000000   1.500000e+05   \n",
              "mean                               0.421033     353.005076   6.418455e+03   \n",
              "std                                4.192781    2037.818523   1.289040e+04   \n",
              "min                                0.000000       0.000000   0.000000e+00   \n",
              "25%                                0.000000       0.175074   3.903000e+03   \n",
              "50%                                0.000000       0.366508   5.400000e+03   \n",
              "75%                                0.000000       0.868254   7.400000e+03   \n",
              "max                               98.000000  329664.000000   3.008750e+06   \n",
              "\n",
              "       NumberOfOpenCreditLinesAndLoans  NumberOfTimes90DaysLate  \\\n",
              "count                    150000.000000            150000.000000   \n",
              "mean                          8.452760                 0.265973   \n",
              "std                           5.145951                 4.169304   \n",
              "min                           0.000000                 0.000000   \n",
              "25%                           5.000000                 0.000000   \n",
              "50%                           8.000000                 0.000000   \n",
              "75%                          11.000000                 0.000000   \n",
              "max                          58.000000                98.000000   \n",
              "\n",
              "       NumberRealEstateLoansOrLines  NumberOfTime60-89DaysPastDueNotWorse  \\\n",
              "count                 150000.000000                         150000.000000   \n",
              "mean                       1.018240                              0.240387   \n",
              "std                        1.129771                              4.155179   \n",
              "min                        0.000000                              0.000000   \n",
              "25%                        0.000000                              0.000000   \n",
              "50%                        1.000000                              0.000000   \n",
              "75%                        2.000000                              0.000000   \n",
              "max                       54.000000                             98.000000   \n",
              "\n",
              "       NumberOfDependents  \n",
              "count       150000.000000  \n",
              "mean             0.737413  \n",
              "std              1.107021  \n",
              "min              0.000000  \n",
              "25%              0.000000  \n",
              "50%              0.000000  \n",
              "75%              1.000000  \n",
              "max             20.000000  "
            ],
            "text/html": [
              "\n",
              "  <div id=\"df-7aee29e4-e352-48ac-8330-275893b1222c\">\n",
              "    <div class=\"colab-df-container\">\n",
              "      <div>\n",
              "<style scoped>\n",
              "    .dataframe tbody tr th:only-of-type {\n",
              "        vertical-align: middle;\n",
              "    }\n",
              "\n",
              "    .dataframe tbody tr th {\n",
              "        vertical-align: top;\n",
              "    }\n",
              "\n",
              "    .dataframe thead th {\n",
              "        text-align: right;\n",
              "    }\n",
              "</style>\n",
              "<table border=\"1\" class=\"dataframe\">\n",
              "  <thead>\n",
              "    <tr style=\"text-align: right;\">\n",
              "      <th></th>\n",
              "      <th>SeriousDlqin2yrs</th>\n",
              "      <th>RevolvingUtilizationOfUnsecuredLines</th>\n",
              "      <th>age</th>\n",
              "      <th>NumberOfTime30-59DaysPastDueNotWorse</th>\n",
              "      <th>DebtRatio</th>\n",
              "      <th>MonthlyIncome</th>\n",
              "      <th>NumberOfOpenCreditLinesAndLoans</th>\n",
              "      <th>NumberOfTimes90DaysLate</th>\n",
              "      <th>NumberRealEstateLoansOrLines</th>\n",
              "      <th>NumberOfTime60-89DaysPastDueNotWorse</th>\n",
              "      <th>NumberOfDependents</th>\n",
              "    </tr>\n",
              "  </thead>\n",
              "  <tbody>\n",
              "    <tr>\n",
              "      <th>count</th>\n",
              "      <td>150000.000000</td>\n",
              "      <td>150000.000000</td>\n",
              "      <td>150000.000000</td>\n",
              "      <td>150000.000000</td>\n",
              "      <td>150000.000000</td>\n",
              "      <td>1.500000e+05</td>\n",
              "      <td>150000.000000</td>\n",
              "      <td>150000.000000</td>\n",
              "      <td>150000.000000</td>\n",
              "      <td>150000.000000</td>\n",
              "      <td>150000.000000</td>\n",
              "    </tr>\n",
              "    <tr>\n",
              "      <th>mean</th>\n",
              "      <td>0.066840</td>\n",
              "      <td>6.048438</td>\n",
              "      <td>52.295207</td>\n",
              "      <td>0.421033</td>\n",
              "      <td>353.005076</td>\n",
              "      <td>6.418455e+03</td>\n",
              "      <td>8.452760</td>\n",
              "      <td>0.265973</td>\n",
              "      <td>1.018240</td>\n",
              "      <td>0.240387</td>\n",
              "      <td>0.737413</td>\n",
              "    </tr>\n",
              "    <tr>\n",
              "      <th>std</th>\n",
              "      <td>0.249746</td>\n",
              "      <td>249.755371</td>\n",
              "      <td>14.771866</td>\n",
              "      <td>4.192781</td>\n",
              "      <td>2037.818523</td>\n",
              "      <td>1.289040e+04</td>\n",
              "      <td>5.145951</td>\n",
              "      <td>4.169304</td>\n",
              "      <td>1.129771</td>\n",
              "      <td>4.155179</td>\n",
              "      <td>1.107021</td>\n",
              "    </tr>\n",
              "    <tr>\n",
              "      <th>min</th>\n",
              "      <td>0.000000</td>\n",
              "      <td>0.000000</td>\n",
              "      <td>0.000000</td>\n",
              "      <td>0.000000</td>\n",
              "      <td>0.000000</td>\n",
              "      <td>0.000000e+00</td>\n",
              "      <td>0.000000</td>\n",
              "      <td>0.000000</td>\n",
              "      <td>0.000000</td>\n",
              "      <td>0.000000</td>\n",
              "      <td>0.000000</td>\n",
              "    </tr>\n",
              "    <tr>\n",
              "      <th>25%</th>\n",
              "      <td>0.000000</td>\n",
              "      <td>0.029867</td>\n",
              "      <td>41.000000</td>\n",
              "      <td>0.000000</td>\n",
              "      <td>0.175074</td>\n",
              "      <td>3.903000e+03</td>\n",
              "      <td>5.000000</td>\n",
              "      <td>0.000000</td>\n",
              "      <td>0.000000</td>\n",
              "      <td>0.000000</td>\n",
              "      <td>0.000000</td>\n",
              "    </tr>\n",
              "    <tr>\n",
              "      <th>50%</th>\n",
              "      <td>0.000000</td>\n",
              "      <td>0.154181</td>\n",
              "      <td>52.000000</td>\n",
              "      <td>0.000000</td>\n",
              "      <td>0.366508</td>\n",
              "      <td>5.400000e+03</td>\n",
              "      <td>8.000000</td>\n",
              "      <td>0.000000</td>\n",
              "      <td>1.000000</td>\n",
              "      <td>0.000000</td>\n",
              "      <td>0.000000</td>\n",
              "    </tr>\n",
              "    <tr>\n",
              "      <th>75%</th>\n",
              "      <td>0.000000</td>\n",
              "      <td>0.559046</td>\n",
              "      <td>63.000000</td>\n",
              "      <td>0.000000</td>\n",
              "      <td>0.868254</td>\n",
              "      <td>7.400000e+03</td>\n",
              "      <td>11.000000</td>\n",
              "      <td>0.000000</td>\n",
              "      <td>2.000000</td>\n",
              "      <td>0.000000</td>\n",
              "      <td>1.000000</td>\n",
              "    </tr>\n",
              "    <tr>\n",
              "      <th>max</th>\n",
              "      <td>1.000000</td>\n",
              "      <td>50708.000000</td>\n",
              "      <td>109.000000</td>\n",
              "      <td>98.000000</td>\n",
              "      <td>329664.000000</td>\n",
              "      <td>3.008750e+06</td>\n",
              "      <td>58.000000</td>\n",
              "      <td>98.000000</td>\n",
              "      <td>54.000000</td>\n",
              "      <td>98.000000</td>\n",
              "      <td>20.000000</td>\n",
              "    </tr>\n",
              "  </tbody>\n",
              "</table>\n",
              "</div>\n",
              "      <button class=\"colab-df-convert\" onclick=\"convertToInteractive('df-7aee29e4-e352-48ac-8330-275893b1222c')\"\n",
              "              title=\"Convert this dataframe to an interactive table.\"\n",
              "              style=\"display:none;\">\n",
              "        \n",
              "  <svg xmlns=\"http://www.w3.org/2000/svg\" height=\"24px\"viewBox=\"0 0 24 24\"\n",
              "       width=\"24px\">\n",
              "    <path d=\"M0 0h24v24H0V0z\" fill=\"none\"/>\n",
              "    <path d=\"M18.56 5.44l.94 2.06.94-2.06 2.06-.94-2.06-.94-.94-2.06-.94 2.06-2.06.94zm-11 1L8.5 8.5l.94-2.06 2.06-.94-2.06-.94L8.5 2.5l-.94 2.06-2.06.94zm10 10l.94 2.06.94-2.06 2.06-.94-2.06-.94-.94-2.06-.94 2.06-2.06.94z\"/><path d=\"M17.41 7.96l-1.37-1.37c-.4-.4-.92-.59-1.43-.59-.52 0-1.04.2-1.43.59L10.3 9.45l-7.72 7.72c-.78.78-.78 2.05 0 2.83L4 21.41c.39.39.9.59 1.41.59.51 0 1.02-.2 1.41-.59l7.78-7.78 2.81-2.81c.8-.78.8-2.07 0-2.86zM5.41 20L4 18.59l7.72-7.72 1.47 1.35L5.41 20z\"/>\n",
              "  </svg>\n",
              "      </button>\n",
              "      \n",
              "  <style>\n",
              "    .colab-df-container {\n",
              "      display:flex;\n",
              "      flex-wrap:wrap;\n",
              "      gap: 12px;\n",
              "    }\n",
              "\n",
              "    .colab-df-convert {\n",
              "      background-color: #E8F0FE;\n",
              "      border: none;\n",
              "      border-radius: 50%;\n",
              "      cursor: pointer;\n",
              "      display: none;\n",
              "      fill: #1967D2;\n",
              "      height: 32px;\n",
              "      padding: 0 0 0 0;\n",
              "      width: 32px;\n",
              "    }\n",
              "\n",
              "    .colab-df-convert:hover {\n",
              "      background-color: #E2EBFA;\n",
              "      box-shadow: 0px 1px 2px rgba(60, 64, 67, 0.3), 0px 1px 3px 1px rgba(60, 64, 67, 0.15);\n",
              "      fill: #174EA6;\n",
              "    }\n",
              "\n",
              "    [theme=dark] .colab-df-convert {\n",
              "      background-color: #3B4455;\n",
              "      fill: #D2E3FC;\n",
              "    }\n",
              "\n",
              "    [theme=dark] .colab-df-convert:hover {\n",
              "      background-color: #434B5C;\n",
              "      box-shadow: 0px 1px 3px 1px rgba(0, 0, 0, 0.15);\n",
              "      filter: drop-shadow(0px 1px 2px rgba(0, 0, 0, 0.3));\n",
              "      fill: #FFFFFF;\n",
              "    }\n",
              "  </style>\n",
              "\n",
              "      <script>\n",
              "        const buttonEl =\n",
              "          document.querySelector('#df-7aee29e4-e352-48ac-8330-275893b1222c button.colab-df-convert');\n",
              "        buttonEl.style.display =\n",
              "          google.colab.kernel.accessAllowed ? 'block' : 'none';\n",
              "\n",
              "        async function convertToInteractive(key) {\n",
              "          const element = document.querySelector('#df-7aee29e4-e352-48ac-8330-275893b1222c');\n",
              "          const dataTable =\n",
              "            await google.colab.kernel.invokeFunction('convertToInteractive',\n",
              "                                                     [key], {});\n",
              "          if (!dataTable) return;\n",
              "\n",
              "          const docLinkHtml = 'Like what you see? Visit the ' +\n",
              "            '<a target=\"_blank\" href=https://colab.research.google.com/notebooks/data_table.ipynb>data table notebook</a>'\n",
              "            + ' to learn more about interactive tables.';\n",
              "          element.innerHTML = '';\n",
              "          dataTable['output_type'] = 'display_data';\n",
              "          await google.colab.output.renderOutput(dataTable, element);\n",
              "          const docLink = document.createElement('div');\n",
              "          docLink.innerHTML = docLinkHtml;\n",
              "          element.appendChild(docLink);\n",
              "        }\n",
              "      </script>\n",
              "    </div>\n",
              "  </div>\n",
              "  "
            ]
          },
          "metadata": {},
          "execution_count": 138
        }
      ]
    },
    {
      "cell_type": "markdown",
      "source": [
        "Нужно предсказать значение SeriousDlqin2yrs. Там может быть 0 или 1"
      ],
      "metadata": {
        "id": "sllxjlNNs70j"
      }
    },
    {
      "cell_type": "code",
      "source": [
        "data['SeriousDlqin2yrs'].value_counts()"
      ],
      "metadata": {
        "colab": {
          "base_uri": "https://localhost:8080/"
        },
        "id": "9sg3rtfRsoCb",
        "outputId": "ee387817-795e-4be1-be52-9f540b823ed2"
      },
      "execution_count": 139,
      "outputs": [
        {
          "output_type": "execute_result",
          "data": {
            "text/plain": [
              "0    139974\n",
              "1     10026\n",
              "Name: SeriousDlqin2yrs, dtype: int64"
            ]
          },
          "metadata": {},
          "execution_count": 139
        }
      ]
    },
    {
      "cell_type": "markdown",
      "source": [
        "Матрица корреляции"
      ],
      "metadata": {
        "id": "tHZ_LEHytK2B"
      }
    },
    {
      "cell_type": "code",
      "source": [
        "corr = data.corr() # строим матрицу корреляций\n",
        "\n",
        "corr.style.background_gradient(cmap='coolwarm')"
      ],
      "metadata": {
        "colab": {
          "base_uri": "https://localhost:8080/",
          "height": 461
        },
        "id": "RQkJktc7tM3-",
        "outputId": "c2a47ed5-b7f3-4a90-e183-cc02820c0b76"
      },
      "execution_count": 140,
      "outputs": [
        {
          "output_type": "execute_result",
          "data": {
            "text/plain": [
              "<pandas.io.formats.style.Styler at 0x7f4545dd5b20>"
            ],
            "text/html": [
              "<style type=\"text/css\">\n",
              "#T_43d4a_row0_col0, #T_43d4a_row1_col1, #T_43d4a_row2_col2, #T_43d4a_row3_col3, #T_43d4a_row4_col4, #T_43d4a_row5_col5, #T_43d4a_row6_col6, #T_43d4a_row7_col7, #T_43d4a_row8_col8, #T_43d4a_row9_col9, #T_43d4a_row10_col10 {\n",
              "  background-color: #b40426;\n",
              "  color: #f1f1f1;\n",
              "}\n",
              "#T_43d4a_row0_col1, #T_43d4a_row3_col1, #T_43d4a_row3_col5, #T_43d4a_row7_col1, #T_43d4a_row9_col1, #T_43d4a_row9_col5, #T_43d4a_row9_col6 {\n",
              "  background-color: #3d50c3;\n",
              "  color: #f1f1f1;\n",
              "}\n",
              "#T_43d4a_row0_col2, #T_43d4a_row10_col5 {\n",
              "  background-color: #5470de;\n",
              "  color: #f1f1f1;\n",
              "}\n",
              "#T_43d4a_row0_col3, #T_43d4a_row1_col10 {\n",
              "  background-color: #7396f5;\n",
              "  color: #f1f1f1;\n",
              "}\n",
              "#T_43d4a_row0_col4, #T_43d4a_row0_col8, #T_43d4a_row3_col4, #T_43d4a_row9_col4 {\n",
              "  background-color: #455cce;\n",
              "  color: #f1f1f1;\n",
              "}\n",
              "#T_43d4a_row0_col5, #T_43d4a_row2_col0, #T_43d4a_row2_col3, #T_43d4a_row2_col10, #T_43d4a_row4_col5, #T_43d4a_row6_col1, #T_43d4a_row6_col7, #T_43d4a_row6_col9, #T_43d4a_row7_col6, #T_43d4a_row7_col8, #T_43d4a_row10_col2, #T_43d4a_row10_col4 {\n",
              "  background-color: #3b4cc0;\n",
              "  color: #f1f1f1;\n",
              "}\n",
              "#T_43d4a_row0_col6, #T_43d4a_row1_col4, #T_43d4a_row2_col5 {\n",
              "  background-color: #485fd1;\n",
              "  color: #f1f1f1;\n",
              "}\n",
              "#T_43d4a_row0_col7 {\n",
              "  background-color: #7597f6;\n",
              "  color: #f1f1f1;\n",
              "}\n",
              "#T_43d4a_row0_col9 {\n",
              "  background-color: #6e90f2;\n",
              "  color: #f1f1f1;\n",
              "}\n",
              "#T_43d4a_row0_col10, #T_43d4a_row3_col0 {\n",
              "  background-color: #81a4fb;\n",
              "  color: #f1f1f1;\n",
              "}\n",
              "#T_43d4a_row1_col0, #T_43d4a_row6_col5 {\n",
              "  background-color: #5a78e4;\n",
              "  color: #f1f1f1;\n",
              "}\n",
              "#T_43d4a_row1_col2, #T_43d4a_row3_col10 {\n",
              "  background-color: #7295f4;\n",
              "  color: #f1f1f1;\n",
              "}\n",
              "#T_43d4a_row1_col3, #T_43d4a_row5_col9, #T_43d4a_row10_col3 {\n",
              "  background-color: #4b64d5;\n",
              "  color: #f1f1f1;\n",
              "}\n",
              "#T_43d4a_row1_col5, #T_43d4a_row5_col4 {\n",
              "  background-color: #4257c9;\n",
              "  color: #f1f1f1;\n",
              "}\n",
              "#T_43d4a_row1_col6, #T_43d4a_row1_col9, #T_43d4a_row2_col4, #T_43d4a_row4_col7, #T_43d4a_row5_col7, #T_43d4a_row10_col7 {\n",
              "  background-color: #4e68d8;\n",
              "  color: #f1f1f1;\n",
              "}\n",
              "#T_43d4a_row1_col7 {\n",
              "  background-color: #506bda;\n",
              "  color: #f1f1f1;\n",
              "}\n",
              "#T_43d4a_row1_col8 {\n",
              "  background-color: #4961d2;\n",
              "  color: #f1f1f1;\n",
              "}\n",
              "#T_43d4a_row2_col1, #T_43d4a_row6_col3, #T_43d4a_row7_col5, #T_43d4a_row9_col8 {\n",
              "  background-color: #3c4ec2;\n",
              "  color: #f1f1f1;\n",
              "}\n",
              "#T_43d4a_row2_col6, #T_43d4a_row7_col0 {\n",
              "  background-color: #7ea1fa;\n",
              "  color: #f1f1f1;\n",
              "}\n",
              "#T_43d4a_row2_col7, #T_43d4a_row5_col1, #T_43d4a_row8_col1 {\n",
              "  background-color: #3f53c6;\n",
              "  color: #f1f1f1;\n",
              "}\n",
              "#T_43d4a_row2_col8, #T_43d4a_row6_col0 {\n",
              "  background-color: #516ddb;\n",
              "  color: #f1f1f1;\n",
              "}\n",
              "#T_43d4a_row2_col9, #T_43d4a_row3_col8, #T_43d4a_row4_col1, #T_43d4a_row10_col1 {\n",
              "  background-color: #3e51c5;\n",
              "  color: #f1f1f1;\n",
              "}\n",
              "#T_43d4a_row3_col2, #T_43d4a_row7_col2 {\n",
              "  background-color: #6282ea;\n",
              "  color: #f1f1f1;\n",
              "}\n",
              "#T_43d4a_row3_col6 {\n",
              "  background-color: #4055c8;\n",
              "  color: #f1f1f1;\n",
              "}\n",
              "#T_43d4a_row3_col7, #T_43d4a_row3_col9, #T_43d4a_row7_col3, #T_43d4a_row9_col3 {\n",
              "  background-color: #b8122a;\n",
              "  color: #f1f1f1;\n",
              "}\n",
              "#T_43d4a_row4_col0, #T_43d4a_row8_col0 {\n",
              "  background-color: #5875e1;\n",
              "  color: #f1f1f1;\n",
              "}\n",
              "#T_43d4a_row4_col2 {\n",
              "  background-color: #7a9df8;\n",
              "  color: #f1f1f1;\n",
              "}\n",
              "#T_43d4a_row4_col3, #T_43d4a_row5_col3, #T_43d4a_row10_col9 {\n",
              "  background-color: #4a63d3;\n",
              "  color: #f1f1f1;\n",
              "}\n",
              "#T_43d4a_row4_col6 {\n",
              "  background-color: #5f7fe8;\n",
              "  color: #f1f1f1;\n",
              "}\n",
              "#T_43d4a_row4_col8, #T_43d4a_row8_col4 {\n",
              "  background-color: #6c8ff1;\n",
              "  color: #f1f1f1;\n",
              "}\n",
              "#T_43d4a_row4_col9 {\n",
              "  background-color: #4c66d6;\n",
              "  color: #f1f1f1;\n",
              "}\n",
              "#T_43d4a_row4_col10, #T_43d4a_row10_col6 {\n",
              "  background-color: #6788ee;\n",
              "  color: #f1f1f1;\n",
              "}\n",
              "#T_43d4a_row5_col0 {\n",
              "  background-color: #5572df;\n",
              "  color: #f1f1f1;\n",
              "}\n",
              "#T_43d4a_row5_col2 {\n",
              "  background-color: #7b9ff9;\n",
              "  color: #f1f1f1;\n",
              "}\n",
              "#T_43d4a_row5_col6, #T_43d4a_row5_col8 {\n",
              "  background-color: #6b8df0;\n",
              "  color: #f1f1f1;\n",
              "}\n",
              "#T_43d4a_row5_col10 {\n",
              "  background-color: #86a9fc;\n",
              "  color: #f1f1f1;\n",
              "}\n",
              "#T_43d4a_row6_col2 {\n",
              "  background-color: #9ebeff;\n",
              "  color: #000000;\n",
              "}\n",
              "#T_43d4a_row6_col4 {\n",
              "  background-color: #5673e0;\n",
              "  color: #f1f1f1;\n",
              "}\n",
              "#T_43d4a_row6_col8 {\n",
              "  background-color: #d2dbe8;\n",
              "  color: #000000;\n",
              "}\n",
              "#T_43d4a_row6_col10 {\n",
              "  background-color: #89acfd;\n",
              "  color: #000000;\n",
              "}\n",
              "#T_43d4a_row7_col4, #T_43d4a_row8_col7 {\n",
              "  background-color: #445acc;\n",
              "  color: #f1f1f1;\n",
              "}\n",
              "#T_43d4a_row7_col9, #T_43d4a_row9_col7 {\n",
              "  background-color: #b50927;\n",
              "  color: #f1f1f1;\n",
              "}\n",
              "#T_43d4a_row7_col10, #T_43d4a_row9_col10, #T_43d4a_row10_col8 {\n",
              "  background-color: #6f92f3;\n",
              "  color: #f1f1f1;\n",
              "}\n",
              "#T_43d4a_row8_col2 {\n",
              "  background-color: #7da0f9;\n",
              "  color: #f1f1f1;\n",
              "}\n",
              "#T_43d4a_row8_col3, #T_43d4a_row8_col9 {\n",
              "  background-color: #4358cb;\n",
              "  color: #f1f1f1;\n",
              "}\n",
              "#T_43d4a_row8_col5, #T_43d4a_row9_col2 {\n",
              "  background-color: #6384eb;\n",
              "  color: #f1f1f1;\n",
              "}\n",
              "#T_43d4a_row8_col6 {\n",
              "  background-color: #d6dce4;\n",
              "  color: #000000;\n",
              "}\n",
              "#T_43d4a_row8_col10 {\n",
              "  background-color: #98b9ff;\n",
              "  color: #000000;\n",
              "}\n",
              "#T_43d4a_row9_col0 {\n",
              "  background-color: #799cf8;\n",
              "  color: #f1f1f1;\n",
              "}\n",
              "#T_43d4a_row10_col0 {\n",
              "  background-color: #688aef;\n",
              "  color: #f1f1f1;\n",
              "}\n",
              "</style>\n",
              "<table id=\"T_43d4a_\" class=\"dataframe\">\n",
              "  <thead>\n",
              "    <tr>\n",
              "      <th class=\"blank level0\" >&nbsp;</th>\n",
              "      <th class=\"col_heading level0 col0\" >SeriousDlqin2yrs</th>\n",
              "      <th class=\"col_heading level0 col1\" >RevolvingUtilizationOfUnsecuredLines</th>\n",
              "      <th class=\"col_heading level0 col2\" >age</th>\n",
              "      <th class=\"col_heading level0 col3\" >NumberOfTime30-59DaysPastDueNotWorse</th>\n",
              "      <th class=\"col_heading level0 col4\" >DebtRatio</th>\n",
              "      <th class=\"col_heading level0 col5\" >MonthlyIncome</th>\n",
              "      <th class=\"col_heading level0 col6\" >NumberOfOpenCreditLinesAndLoans</th>\n",
              "      <th class=\"col_heading level0 col7\" >NumberOfTimes90DaysLate</th>\n",
              "      <th class=\"col_heading level0 col8\" >NumberRealEstateLoansOrLines</th>\n",
              "      <th class=\"col_heading level0 col9\" >NumberOfTime60-89DaysPastDueNotWorse</th>\n",
              "      <th class=\"col_heading level0 col10\" >NumberOfDependents</th>\n",
              "    </tr>\n",
              "  </thead>\n",
              "  <tbody>\n",
              "    <tr>\n",
              "      <th id=\"T_43d4a_level0_row0\" class=\"row_heading level0 row0\" >SeriousDlqin2yrs</th>\n",
              "      <td id=\"T_43d4a_row0_col0\" class=\"data row0 col0\" >1.000000</td>\n",
              "      <td id=\"T_43d4a_row0_col1\" class=\"data row0 col1\" >-0.001802</td>\n",
              "      <td id=\"T_43d4a_row0_col2\" class=\"data row0 col2\" >-0.115386</td>\n",
              "      <td id=\"T_43d4a_row0_col3\" class=\"data row0 col3\" >0.125587</td>\n",
              "      <td id=\"T_43d4a_row0_col4\" class=\"data row0 col4\" >-0.007602</td>\n",
              "      <td id=\"T_43d4a_row0_col5\" class=\"data row0 col5\" >-0.017151</td>\n",
              "      <td id=\"T_43d4a_row0_col6\" class=\"data row0 col6\" >-0.029669</td>\n",
              "      <td id=\"T_43d4a_row0_col7\" class=\"data row0 col7\" >0.117175</td>\n",
              "      <td id=\"T_43d4a_row0_col8\" class=\"data row0 col8\" >-0.007038</td>\n",
              "      <td id=\"T_43d4a_row0_col9\" class=\"data row0 col9\" >0.102261</td>\n",
              "      <td id=\"T_43d4a_row0_col10\" class=\"data row0 col10\" >0.046869</td>\n",
              "    </tr>\n",
              "    <tr>\n",
              "      <th id=\"T_43d4a_level0_row1\" class=\"row_heading level0 row1\" >RevolvingUtilizationOfUnsecuredLines</th>\n",
              "      <td id=\"T_43d4a_row1_col0\" class=\"data row1 col0\" >-0.001802</td>\n",
              "      <td id=\"T_43d4a_row1_col1\" class=\"data row1 col1\" >1.000000</td>\n",
              "      <td id=\"T_43d4a_row1_col2\" class=\"data row1 col2\" >-0.005898</td>\n",
              "      <td id=\"T_43d4a_row1_col3\" class=\"data row1 col3\" >-0.001314</td>\n",
              "      <td id=\"T_43d4a_row1_col4\" class=\"data row1 col4\" >0.003961</td>\n",
              "      <td id=\"T_43d4a_row1_col5\" class=\"data row1 col5\" >0.006513</td>\n",
              "      <td id=\"T_43d4a_row1_col6\" class=\"data row1 col6\" >-0.011281</td>\n",
              "      <td id=\"T_43d4a_row1_col7\" class=\"data row1 col7\" >-0.001061</td>\n",
              "      <td id=\"T_43d4a_row1_col8\" class=\"data row1 col8\" >0.006235</td>\n",
              "      <td id=\"T_43d4a_row1_col9\" class=\"data row1 col9\" >-0.001048</td>\n",
              "      <td id=\"T_43d4a_row1_col10\" class=\"data row1 col10\" >0.001193</td>\n",
              "    </tr>\n",
              "    <tr>\n",
              "      <th id=\"T_43d4a_level0_row2\" class=\"row_heading level0 row2\" >age</th>\n",
              "      <td id=\"T_43d4a_row2_col0\" class=\"data row2 col0\" >-0.115386</td>\n",
              "      <td id=\"T_43d4a_row2_col1\" class=\"data row2 col1\" >-0.005898</td>\n",
              "      <td id=\"T_43d4a_row2_col2\" class=\"data row2 col2\" >1.000000</td>\n",
              "      <td id=\"T_43d4a_row2_col3\" class=\"data row2 col3\" >-0.062995</td>\n",
              "      <td id=\"T_43d4a_row2_col4\" class=\"data row2 col4\" >0.024188</td>\n",
              "      <td id=\"T_43d4a_row2_col5\" class=\"data row2 col5\" >0.027581</td>\n",
              "      <td id=\"T_43d4a_row2_col6\" class=\"data row2 col6\" >0.147705</td>\n",
              "      <td id=\"T_43d4a_row2_col7\" class=\"data row2 col7\" >-0.061005</td>\n",
              "      <td id=\"T_43d4a_row2_col8\" class=\"data row2 col8\" >0.033150</td>\n",
              "      <td id=\"T_43d4a_row2_col9\" class=\"data row2 col9\" >-0.057159</td>\n",
              "      <td id=\"T_43d4a_row2_col10\" class=\"data row2 col10\" >-0.215693</td>\n",
              "    </tr>\n",
              "    <tr>\n",
              "      <th id=\"T_43d4a_level0_row3\" class=\"row_heading level0 row3\" >NumberOfTime30-59DaysPastDueNotWorse</th>\n",
              "      <td id=\"T_43d4a_row3_col0\" class=\"data row3 col0\" >0.125587</td>\n",
              "      <td id=\"T_43d4a_row3_col1\" class=\"data row3 col1\" >-0.001314</td>\n",
              "      <td id=\"T_43d4a_row3_col2\" class=\"data row3 col2\" >-0.062995</td>\n",
              "      <td id=\"T_43d4a_row3_col3\" class=\"data row3 col3\" >1.000000</td>\n",
              "      <td id=\"T_43d4a_row3_col4\" class=\"data row3 col4\" >-0.006542</td>\n",
              "      <td id=\"T_43d4a_row3_col5\" class=\"data row3 col5\" >-0.008370</td>\n",
              "      <td id=\"T_43d4a_row3_col6\" class=\"data row3 col6\" >-0.055312</td>\n",
              "      <td id=\"T_43d4a_row3_col7\" class=\"data row3 col7\" >0.983603</td>\n",
              "      <td id=\"T_43d4a_row3_col8\" class=\"data row3 col8\" >-0.030565</td>\n",
              "      <td id=\"T_43d4a_row3_col9\" class=\"data row3 col9\" >0.987005</td>\n",
              "      <td id=\"T_43d4a_row3_col10\" class=\"data row3 col10\" >-0.004590</td>\n",
              "    </tr>\n",
              "    <tr>\n",
              "      <th id=\"T_43d4a_level0_row4\" class=\"row_heading level0 row4\" >DebtRatio</th>\n",
              "      <td id=\"T_43d4a_row4_col0\" class=\"data row4 col0\" >-0.007602</td>\n",
              "      <td id=\"T_43d4a_row4_col1\" class=\"data row4 col1\" >0.003961</td>\n",
              "      <td id=\"T_43d4a_row4_col2\" class=\"data row4 col2\" >0.024188</td>\n",
              "      <td id=\"T_43d4a_row4_col3\" class=\"data row4 col3\" >-0.006542</td>\n",
              "      <td id=\"T_43d4a_row4_col4\" class=\"data row4 col4\" >1.000000</td>\n",
              "      <td id=\"T_43d4a_row4_col5\" class=\"data row4 col5\" >-0.018006</td>\n",
              "      <td id=\"T_43d4a_row4_col6\" class=\"data row4 col6\" >0.049565</td>\n",
              "      <td id=\"T_43d4a_row4_col7\" class=\"data row4 col7\" >-0.008320</td>\n",
              "      <td id=\"T_43d4a_row4_col8\" class=\"data row4 col8\" >0.120046</td>\n",
              "      <td id=\"T_43d4a_row4_col9\" class=\"data row4 col9\" >-0.007533</td>\n",
              "      <td id=\"T_43d4a_row4_col10\" class=\"data row4 col10\" >-0.044476</td>\n",
              "    </tr>\n",
              "    <tr>\n",
              "      <th id=\"T_43d4a_level0_row5\" class=\"row_heading level0 row5\" >MonthlyIncome</th>\n",
              "      <td id=\"T_43d4a_row5_col0\" class=\"data row5 col0\" >-0.017151</td>\n",
              "      <td id=\"T_43d4a_row5_col1\" class=\"data row5 col1\" >0.006513</td>\n",
              "      <td id=\"T_43d4a_row5_col2\" class=\"data row5 col2\" >0.027581</td>\n",
              "      <td id=\"T_43d4a_row5_col3\" class=\"data row5 col3\" >-0.008370</td>\n",
              "      <td id=\"T_43d4a_row5_col4\" class=\"data row5 col4\" >-0.018006</td>\n",
              "      <td id=\"T_43d4a_row5_col5\" class=\"data row5 col5\" >1.000000</td>\n",
              "      <td id=\"T_43d4a_row5_col6\" class=\"data row5 col6\" >0.086949</td>\n",
              "      <td id=\"T_43d4a_row5_col7\" class=\"data row5 col7\" >-0.010500</td>\n",
              "      <td id=\"T_43d4a_row5_col8\" class=\"data row5 col8\" >0.116273</td>\n",
              "      <td id=\"T_43d4a_row5_col9\" class=\"data row5 col9\" >-0.009252</td>\n",
              "      <td id=\"T_43d4a_row5_col10\" class=\"data row5 col10\" >0.066314</td>\n",
              "    </tr>\n",
              "    <tr>\n",
              "      <th id=\"T_43d4a_level0_row6\" class=\"row_heading level0 row6\" >NumberOfOpenCreditLinesAndLoans</th>\n",
              "      <td id=\"T_43d4a_row6_col0\" class=\"data row6 col0\" >-0.029669</td>\n",
              "      <td id=\"T_43d4a_row6_col1\" class=\"data row6 col1\" >-0.011281</td>\n",
              "      <td id=\"T_43d4a_row6_col2\" class=\"data row6 col2\" >0.147705</td>\n",
              "      <td id=\"T_43d4a_row6_col3\" class=\"data row6 col3\" >-0.055312</td>\n",
              "      <td id=\"T_43d4a_row6_col4\" class=\"data row6 col4\" >0.049565</td>\n",
              "      <td id=\"T_43d4a_row6_col5\" class=\"data row6 col5\" >0.086949</td>\n",
              "      <td id=\"T_43d4a_row6_col6\" class=\"data row6 col6\" >1.000000</td>\n",
              "      <td id=\"T_43d4a_row6_col7\" class=\"data row6 col7\" >-0.079984</td>\n",
              "      <td id=\"T_43d4a_row6_col8\" class=\"data row6 col8\" >0.433959</td>\n",
              "      <td id=\"T_43d4a_row6_col9\" class=\"data row6 col9\" >-0.071077</td>\n",
              "      <td id=\"T_43d4a_row6_col10\" class=\"data row6 col10\" >0.074026</td>\n",
              "    </tr>\n",
              "    <tr>\n",
              "      <th id=\"T_43d4a_level0_row7\" class=\"row_heading level0 row7\" >NumberOfTimes90DaysLate</th>\n",
              "      <td id=\"T_43d4a_row7_col0\" class=\"data row7 col0\" >0.117175</td>\n",
              "      <td id=\"T_43d4a_row7_col1\" class=\"data row7 col1\" >-0.001061</td>\n",
              "      <td id=\"T_43d4a_row7_col2\" class=\"data row7 col2\" >-0.061005</td>\n",
              "      <td id=\"T_43d4a_row7_col3\" class=\"data row7 col3\" >0.983603</td>\n",
              "      <td id=\"T_43d4a_row7_col4\" class=\"data row7 col4\" >-0.008320</td>\n",
              "      <td id=\"T_43d4a_row7_col5\" class=\"data row7 col5\" >-0.010500</td>\n",
              "      <td id=\"T_43d4a_row7_col6\" class=\"data row7 col6\" >-0.079984</td>\n",
              "      <td id=\"T_43d4a_row7_col7\" class=\"data row7 col7\" >1.000000</td>\n",
              "      <td id=\"T_43d4a_row7_col8\" class=\"data row7 col8\" >-0.045205</td>\n",
              "      <td id=\"T_43d4a_row7_col9\" class=\"data row7 col9\" >0.992796</td>\n",
              "      <td id=\"T_43d4a_row7_col10\" class=\"data row7 col10\" >-0.011962</td>\n",
              "    </tr>\n",
              "    <tr>\n",
              "      <th id=\"T_43d4a_level0_row8\" class=\"row_heading level0 row8\" >NumberRealEstateLoansOrLines</th>\n",
              "      <td id=\"T_43d4a_row8_col0\" class=\"data row8 col0\" >-0.007038</td>\n",
              "      <td id=\"T_43d4a_row8_col1\" class=\"data row8 col1\" >0.006235</td>\n",
              "      <td id=\"T_43d4a_row8_col2\" class=\"data row8 col2\" >0.033150</td>\n",
              "      <td id=\"T_43d4a_row8_col3\" class=\"data row8 col3\" >-0.030565</td>\n",
              "      <td id=\"T_43d4a_row8_col4\" class=\"data row8 col4\" >0.120046</td>\n",
              "      <td id=\"T_43d4a_row8_col5\" class=\"data row8 col5\" >0.116273</td>\n",
              "      <td id=\"T_43d4a_row8_col6\" class=\"data row8 col6\" >0.433959</td>\n",
              "      <td id=\"T_43d4a_row8_col7\" class=\"data row8 col7\" >-0.045205</td>\n",
              "      <td id=\"T_43d4a_row8_col8\" class=\"data row8 col8\" >1.000000</td>\n",
              "      <td id=\"T_43d4a_row8_col9\" class=\"data row8 col9\" >-0.039722</td>\n",
              "      <td id=\"T_43d4a_row8_col10\" class=\"data row8 col10\" >0.129399</td>\n",
              "    </tr>\n",
              "    <tr>\n",
              "      <th id=\"T_43d4a_level0_row9\" class=\"row_heading level0 row9\" >NumberOfTime60-89DaysPastDueNotWorse</th>\n",
              "      <td id=\"T_43d4a_row9_col0\" class=\"data row9 col0\" >0.102261</td>\n",
              "      <td id=\"T_43d4a_row9_col1\" class=\"data row9 col1\" >-0.001048</td>\n",
              "      <td id=\"T_43d4a_row9_col2\" class=\"data row9 col2\" >-0.057159</td>\n",
              "      <td id=\"T_43d4a_row9_col3\" class=\"data row9 col3\" >0.987005</td>\n",
              "      <td id=\"T_43d4a_row9_col4\" class=\"data row9 col4\" >-0.007533</td>\n",
              "      <td id=\"T_43d4a_row9_col5\" class=\"data row9 col5\" >-0.009252</td>\n",
              "      <td id=\"T_43d4a_row9_col6\" class=\"data row9 col6\" >-0.071077</td>\n",
              "      <td id=\"T_43d4a_row9_col7\" class=\"data row9 col7\" >0.992796</td>\n",
              "      <td id=\"T_43d4a_row9_col8\" class=\"data row9 col8\" >-0.039722</td>\n",
              "      <td id=\"T_43d4a_row9_col9\" class=\"data row9 col9\" >1.000000</td>\n",
              "      <td id=\"T_43d4a_row9_col10\" class=\"data row9 col10\" >-0.012678</td>\n",
              "    </tr>\n",
              "    <tr>\n",
              "      <th id=\"T_43d4a_level0_row10\" class=\"row_heading level0 row10\" >NumberOfDependents</th>\n",
              "      <td id=\"T_43d4a_row10_col0\" class=\"data row10 col0\" >0.046869</td>\n",
              "      <td id=\"T_43d4a_row10_col1\" class=\"data row10 col1\" >0.001193</td>\n",
              "      <td id=\"T_43d4a_row10_col2\" class=\"data row10 col2\" >-0.215693</td>\n",
              "      <td id=\"T_43d4a_row10_col3\" class=\"data row10 col3\" >-0.004590</td>\n",
              "      <td id=\"T_43d4a_row10_col4\" class=\"data row10 col4\" >-0.044476</td>\n",
              "      <td id=\"T_43d4a_row10_col5\" class=\"data row10 col5\" >0.066314</td>\n",
              "      <td id=\"T_43d4a_row10_col6\" class=\"data row10 col6\" >0.074026</td>\n",
              "      <td id=\"T_43d4a_row10_col7\" class=\"data row10 col7\" >-0.011962</td>\n",
              "      <td id=\"T_43d4a_row10_col8\" class=\"data row10 col8\" >0.129399</td>\n",
              "      <td id=\"T_43d4a_row10_col9\" class=\"data row10 col9\" >-0.012678</td>\n",
              "      <td id=\"T_43d4a_row10_col10\" class=\"data row10 col10\" >1.000000</td>\n",
              "    </tr>\n",
              "  </tbody>\n",
              "</table>\n"
            ]
          },
          "metadata": {},
          "execution_count": 140
        }
      ]
    },
    {
      "cell_type": "code",
      "source": [
        "corr = data.corr() #строим матрицу корреляции\n",
        "corr.style.background_gradient(cmap='coolwarm') #зависимость/корреляция"
      ],
      "metadata": {
        "id": "cQbf6BAcrk0p"
      },
      "execution_count": null,
      "outputs": []
    },
    {
      "cell_type": "code",
      "source": [
        "data = data.drop(['NumberOfTime30-59DaysPastDueNotWorse','NumberOfTime60-89DaysPastDueNotWorse'],axis=1)"
      ],
      "metadata": {
        "id": "rD_8buIPluBu"
      },
      "execution_count": 19,
      "outputs": []
    },
    {
      "cell_type": "code",
      "source": [
        "corr = data.corr() #строим матрицу корреляции\n",
        "corr.style.background_gradient(cmap='coolwarm') #зависимость/корреляция"
      ],
      "metadata": {
        "colab": {
          "base_uri": "https://localhost:8080/",
          "height": 348
        },
        "id": "u_D7ZtvdoFgi",
        "outputId": "187c4d8a-526c-47f4-ba7e-882d01124673"
      },
      "execution_count": 20,
      "outputs": [
        {
          "output_type": "execute_result",
          "data": {
            "text/plain": [
              "<pandas.io.formats.style.Styler at 0x7f45742e3940>"
            ],
            "text/html": [
              "<style type=\"text/css\">\n",
              "#T_7cfdc_row0_col0, #T_7cfdc_row1_col1, #T_7cfdc_row2_col2, #T_7cfdc_row3_col3, #T_7cfdc_row4_col4, #T_7cfdc_row5_col5, #T_7cfdc_row6_col6, #T_7cfdc_row7_col7, #T_7cfdc_row8_col8 {\n",
              "  background-color: #b40426;\n",
              "  color: #f1f1f1;\n",
              "}\n",
              "#T_7cfdc_row0_col1, #T_7cfdc_row6_col1 {\n",
              "  background-color: #3d50c3;\n",
              "  color: #f1f1f1;\n",
              "}\n",
              "#T_7cfdc_row0_col2, #T_7cfdc_row8_col4 {\n",
              "  background-color: #5470de;\n",
              "  color: #f1f1f1;\n",
              "}\n",
              "#T_7cfdc_row0_col3, #T_7cfdc_row0_col7 {\n",
              "  background-color: #455cce;\n",
              "  color: #f1f1f1;\n",
              "}\n",
              "#T_7cfdc_row0_col4, #T_7cfdc_row2_col0, #T_7cfdc_row2_col8, #T_7cfdc_row3_col4, #T_7cfdc_row5_col1, #T_7cfdc_row5_col6, #T_7cfdc_row6_col5, #T_7cfdc_row6_col7, #T_7cfdc_row8_col2, #T_7cfdc_row8_col3 {\n",
              "  background-color: #3b4cc0;\n",
              "  color: #f1f1f1;\n",
              "}\n",
              "#T_7cfdc_row0_col5, #T_7cfdc_row1_col3, #T_7cfdc_row2_col4 {\n",
              "  background-color: #485fd1;\n",
              "  color: #f1f1f1;\n",
              "}\n",
              "#T_7cfdc_row0_col6 {\n",
              "  background-color: #7597f6;\n",
              "  color: #f1f1f1;\n",
              "}\n",
              "#T_7cfdc_row0_col8 {\n",
              "  background-color: #81a4fb;\n",
              "  color: #f1f1f1;\n",
              "}\n",
              "#T_7cfdc_row1_col0, #T_7cfdc_row5_col4 {\n",
              "  background-color: #5a78e4;\n",
              "  color: #f1f1f1;\n",
              "}\n",
              "#T_7cfdc_row1_col2 {\n",
              "  background-color: #7295f4;\n",
              "  color: #f1f1f1;\n",
              "}\n",
              "#T_7cfdc_row1_col4, #T_7cfdc_row4_col3 {\n",
              "  background-color: #4257c9;\n",
              "  color: #f1f1f1;\n",
              "}\n",
              "#T_7cfdc_row1_col5, #T_7cfdc_row2_col3, #T_7cfdc_row3_col6, #T_7cfdc_row4_col6, #T_7cfdc_row8_col6 {\n",
              "  background-color: #4e68d8;\n",
              "  color: #f1f1f1;\n",
              "}\n",
              "#T_7cfdc_row1_col6 {\n",
              "  background-color: #506bda;\n",
              "  color: #f1f1f1;\n",
              "}\n",
              "#T_7cfdc_row1_col7 {\n",
              "  background-color: #4961d2;\n",
              "  color: #f1f1f1;\n",
              "}\n",
              "#T_7cfdc_row1_col8 {\n",
              "  background-color: #7396f5;\n",
              "  color: #f1f1f1;\n",
              "}\n",
              "#T_7cfdc_row2_col1, #T_7cfdc_row6_col4 {\n",
              "  background-color: #3c4ec2;\n",
              "  color: #f1f1f1;\n",
              "}\n",
              "#T_7cfdc_row2_col5, #T_7cfdc_row6_col0 {\n",
              "  background-color: #7ea1fa;\n",
              "  color: #f1f1f1;\n",
              "}\n",
              "#T_7cfdc_row2_col6, #T_7cfdc_row4_col1, #T_7cfdc_row7_col1 {\n",
              "  background-color: #3f53c6;\n",
              "  color: #f1f1f1;\n",
              "}\n",
              "#T_7cfdc_row2_col7, #T_7cfdc_row5_col0 {\n",
              "  background-color: #516ddb;\n",
              "  color: #f1f1f1;\n",
              "}\n",
              "#T_7cfdc_row3_col0, #T_7cfdc_row7_col0 {\n",
              "  background-color: #5875e1;\n",
              "  color: #f1f1f1;\n",
              "}\n",
              "#T_7cfdc_row3_col1, #T_7cfdc_row8_col1 {\n",
              "  background-color: #3e51c5;\n",
              "  color: #f1f1f1;\n",
              "}\n",
              "#T_7cfdc_row3_col2 {\n",
              "  background-color: #7a9df8;\n",
              "  color: #f1f1f1;\n",
              "}\n",
              "#T_7cfdc_row3_col5 {\n",
              "  background-color: #5f7fe8;\n",
              "  color: #f1f1f1;\n",
              "}\n",
              "#T_7cfdc_row3_col7, #T_7cfdc_row7_col3 {\n",
              "  background-color: #6c8ff1;\n",
              "  color: #f1f1f1;\n",
              "}\n",
              "#T_7cfdc_row3_col8, #T_7cfdc_row8_col5 {\n",
              "  background-color: #6788ee;\n",
              "  color: #f1f1f1;\n",
              "}\n",
              "#T_7cfdc_row4_col0 {\n",
              "  background-color: #5572df;\n",
              "  color: #f1f1f1;\n",
              "}\n",
              "#T_7cfdc_row4_col2 {\n",
              "  background-color: #7b9ff9;\n",
              "  color: #f1f1f1;\n",
              "}\n",
              "#T_7cfdc_row4_col5, #T_7cfdc_row4_col7 {\n",
              "  background-color: #6b8df0;\n",
              "  color: #f1f1f1;\n",
              "}\n",
              "#T_7cfdc_row4_col8 {\n",
              "  background-color: #86a9fc;\n",
              "  color: #f1f1f1;\n",
              "}\n",
              "#T_7cfdc_row5_col2 {\n",
              "  background-color: #9ebeff;\n",
              "  color: #000000;\n",
              "}\n",
              "#T_7cfdc_row5_col3 {\n",
              "  background-color: #5673e0;\n",
              "  color: #f1f1f1;\n",
              "}\n",
              "#T_7cfdc_row5_col7 {\n",
              "  background-color: #d2dbe8;\n",
              "  color: #000000;\n",
              "}\n",
              "#T_7cfdc_row5_col8 {\n",
              "  background-color: #89acfd;\n",
              "  color: #000000;\n",
              "}\n",
              "#T_7cfdc_row6_col2 {\n",
              "  background-color: #6282ea;\n",
              "  color: #f1f1f1;\n",
              "}\n",
              "#T_7cfdc_row6_col3, #T_7cfdc_row7_col6 {\n",
              "  background-color: #445acc;\n",
              "  color: #f1f1f1;\n",
              "}\n",
              "#T_7cfdc_row6_col8, #T_7cfdc_row8_col7 {\n",
              "  background-color: #6f92f3;\n",
              "  color: #f1f1f1;\n",
              "}\n",
              "#T_7cfdc_row7_col2 {\n",
              "  background-color: #7da0f9;\n",
              "  color: #f1f1f1;\n",
              "}\n",
              "#T_7cfdc_row7_col4 {\n",
              "  background-color: #6384eb;\n",
              "  color: #f1f1f1;\n",
              "}\n",
              "#T_7cfdc_row7_col5 {\n",
              "  background-color: #d6dce4;\n",
              "  color: #000000;\n",
              "}\n",
              "#T_7cfdc_row7_col8 {\n",
              "  background-color: #98b9ff;\n",
              "  color: #000000;\n",
              "}\n",
              "#T_7cfdc_row8_col0 {\n",
              "  background-color: #688aef;\n",
              "  color: #f1f1f1;\n",
              "}\n",
              "</style>\n",
              "<table id=\"T_7cfdc_\" class=\"dataframe\">\n",
              "  <thead>\n",
              "    <tr>\n",
              "      <th class=\"blank level0\" >&nbsp;</th>\n",
              "      <th class=\"col_heading level0 col0\" >SeriousDlqin2yrs</th>\n",
              "      <th class=\"col_heading level0 col1\" >RevolvingUtilizationOfUnsecuredLines</th>\n",
              "      <th class=\"col_heading level0 col2\" >age</th>\n",
              "      <th class=\"col_heading level0 col3\" >DebtRatio</th>\n",
              "      <th class=\"col_heading level0 col4\" >MonthlyIncome</th>\n",
              "      <th class=\"col_heading level0 col5\" >NumberOfOpenCreditLinesAndLoans</th>\n",
              "      <th class=\"col_heading level0 col6\" >NumberOfTimes90DaysLate</th>\n",
              "      <th class=\"col_heading level0 col7\" >NumberRealEstateLoansOrLines</th>\n",
              "      <th class=\"col_heading level0 col8\" >NumberOfDependents</th>\n",
              "    </tr>\n",
              "  </thead>\n",
              "  <tbody>\n",
              "    <tr>\n",
              "      <th id=\"T_7cfdc_level0_row0\" class=\"row_heading level0 row0\" >SeriousDlqin2yrs</th>\n",
              "      <td id=\"T_7cfdc_row0_col0\" class=\"data row0 col0\" >1.000000</td>\n",
              "      <td id=\"T_7cfdc_row0_col1\" class=\"data row0 col1\" >-0.001802</td>\n",
              "      <td id=\"T_7cfdc_row0_col2\" class=\"data row0 col2\" >-0.115386</td>\n",
              "      <td id=\"T_7cfdc_row0_col3\" class=\"data row0 col3\" >-0.007602</td>\n",
              "      <td id=\"T_7cfdc_row0_col4\" class=\"data row0 col4\" >-0.017151</td>\n",
              "      <td id=\"T_7cfdc_row0_col5\" class=\"data row0 col5\" >-0.029669</td>\n",
              "      <td id=\"T_7cfdc_row0_col6\" class=\"data row0 col6\" >0.117175</td>\n",
              "      <td id=\"T_7cfdc_row0_col7\" class=\"data row0 col7\" >-0.007038</td>\n",
              "      <td id=\"T_7cfdc_row0_col8\" class=\"data row0 col8\" >0.046869</td>\n",
              "    </tr>\n",
              "    <tr>\n",
              "      <th id=\"T_7cfdc_level0_row1\" class=\"row_heading level0 row1\" >RevolvingUtilizationOfUnsecuredLines</th>\n",
              "      <td id=\"T_7cfdc_row1_col0\" class=\"data row1 col0\" >-0.001802</td>\n",
              "      <td id=\"T_7cfdc_row1_col1\" class=\"data row1 col1\" >1.000000</td>\n",
              "      <td id=\"T_7cfdc_row1_col2\" class=\"data row1 col2\" >-0.005898</td>\n",
              "      <td id=\"T_7cfdc_row1_col3\" class=\"data row1 col3\" >0.003961</td>\n",
              "      <td id=\"T_7cfdc_row1_col4\" class=\"data row1 col4\" >0.006513</td>\n",
              "      <td id=\"T_7cfdc_row1_col5\" class=\"data row1 col5\" >-0.011281</td>\n",
              "      <td id=\"T_7cfdc_row1_col6\" class=\"data row1 col6\" >-0.001061</td>\n",
              "      <td id=\"T_7cfdc_row1_col7\" class=\"data row1 col7\" >0.006235</td>\n",
              "      <td id=\"T_7cfdc_row1_col8\" class=\"data row1 col8\" >0.001193</td>\n",
              "    </tr>\n",
              "    <tr>\n",
              "      <th id=\"T_7cfdc_level0_row2\" class=\"row_heading level0 row2\" >age</th>\n",
              "      <td id=\"T_7cfdc_row2_col0\" class=\"data row2 col0\" >-0.115386</td>\n",
              "      <td id=\"T_7cfdc_row2_col1\" class=\"data row2 col1\" >-0.005898</td>\n",
              "      <td id=\"T_7cfdc_row2_col2\" class=\"data row2 col2\" >1.000000</td>\n",
              "      <td id=\"T_7cfdc_row2_col3\" class=\"data row2 col3\" >0.024188</td>\n",
              "      <td id=\"T_7cfdc_row2_col4\" class=\"data row2 col4\" >0.027581</td>\n",
              "      <td id=\"T_7cfdc_row2_col5\" class=\"data row2 col5\" >0.147705</td>\n",
              "      <td id=\"T_7cfdc_row2_col6\" class=\"data row2 col6\" >-0.061005</td>\n",
              "      <td id=\"T_7cfdc_row2_col7\" class=\"data row2 col7\" >0.033150</td>\n",
              "      <td id=\"T_7cfdc_row2_col8\" class=\"data row2 col8\" >-0.215693</td>\n",
              "    </tr>\n",
              "    <tr>\n",
              "      <th id=\"T_7cfdc_level0_row3\" class=\"row_heading level0 row3\" >DebtRatio</th>\n",
              "      <td id=\"T_7cfdc_row3_col0\" class=\"data row3 col0\" >-0.007602</td>\n",
              "      <td id=\"T_7cfdc_row3_col1\" class=\"data row3 col1\" >0.003961</td>\n",
              "      <td id=\"T_7cfdc_row3_col2\" class=\"data row3 col2\" >0.024188</td>\n",
              "      <td id=\"T_7cfdc_row3_col3\" class=\"data row3 col3\" >1.000000</td>\n",
              "      <td id=\"T_7cfdc_row3_col4\" class=\"data row3 col4\" >-0.018006</td>\n",
              "      <td id=\"T_7cfdc_row3_col5\" class=\"data row3 col5\" >0.049565</td>\n",
              "      <td id=\"T_7cfdc_row3_col6\" class=\"data row3 col6\" >-0.008320</td>\n",
              "      <td id=\"T_7cfdc_row3_col7\" class=\"data row3 col7\" >0.120046</td>\n",
              "      <td id=\"T_7cfdc_row3_col8\" class=\"data row3 col8\" >-0.044476</td>\n",
              "    </tr>\n",
              "    <tr>\n",
              "      <th id=\"T_7cfdc_level0_row4\" class=\"row_heading level0 row4\" >MonthlyIncome</th>\n",
              "      <td id=\"T_7cfdc_row4_col0\" class=\"data row4 col0\" >-0.017151</td>\n",
              "      <td id=\"T_7cfdc_row4_col1\" class=\"data row4 col1\" >0.006513</td>\n",
              "      <td id=\"T_7cfdc_row4_col2\" class=\"data row4 col2\" >0.027581</td>\n",
              "      <td id=\"T_7cfdc_row4_col3\" class=\"data row4 col3\" >-0.018006</td>\n",
              "      <td id=\"T_7cfdc_row4_col4\" class=\"data row4 col4\" >1.000000</td>\n",
              "      <td id=\"T_7cfdc_row4_col5\" class=\"data row4 col5\" >0.086949</td>\n",
              "      <td id=\"T_7cfdc_row4_col6\" class=\"data row4 col6\" >-0.010500</td>\n",
              "      <td id=\"T_7cfdc_row4_col7\" class=\"data row4 col7\" >0.116273</td>\n",
              "      <td id=\"T_7cfdc_row4_col8\" class=\"data row4 col8\" >0.066314</td>\n",
              "    </tr>\n",
              "    <tr>\n",
              "      <th id=\"T_7cfdc_level0_row5\" class=\"row_heading level0 row5\" >NumberOfOpenCreditLinesAndLoans</th>\n",
              "      <td id=\"T_7cfdc_row5_col0\" class=\"data row5 col0\" >-0.029669</td>\n",
              "      <td id=\"T_7cfdc_row5_col1\" class=\"data row5 col1\" >-0.011281</td>\n",
              "      <td id=\"T_7cfdc_row5_col2\" class=\"data row5 col2\" >0.147705</td>\n",
              "      <td id=\"T_7cfdc_row5_col3\" class=\"data row5 col3\" >0.049565</td>\n",
              "      <td id=\"T_7cfdc_row5_col4\" class=\"data row5 col4\" >0.086949</td>\n",
              "      <td id=\"T_7cfdc_row5_col5\" class=\"data row5 col5\" >1.000000</td>\n",
              "      <td id=\"T_7cfdc_row5_col6\" class=\"data row5 col6\" >-0.079984</td>\n",
              "      <td id=\"T_7cfdc_row5_col7\" class=\"data row5 col7\" >0.433959</td>\n",
              "      <td id=\"T_7cfdc_row5_col8\" class=\"data row5 col8\" >0.074026</td>\n",
              "    </tr>\n",
              "    <tr>\n",
              "      <th id=\"T_7cfdc_level0_row6\" class=\"row_heading level0 row6\" >NumberOfTimes90DaysLate</th>\n",
              "      <td id=\"T_7cfdc_row6_col0\" class=\"data row6 col0\" >0.117175</td>\n",
              "      <td id=\"T_7cfdc_row6_col1\" class=\"data row6 col1\" >-0.001061</td>\n",
              "      <td id=\"T_7cfdc_row6_col2\" class=\"data row6 col2\" >-0.061005</td>\n",
              "      <td id=\"T_7cfdc_row6_col3\" class=\"data row6 col3\" >-0.008320</td>\n",
              "      <td id=\"T_7cfdc_row6_col4\" class=\"data row6 col4\" >-0.010500</td>\n",
              "      <td id=\"T_7cfdc_row6_col5\" class=\"data row6 col5\" >-0.079984</td>\n",
              "      <td id=\"T_7cfdc_row6_col6\" class=\"data row6 col6\" >1.000000</td>\n",
              "      <td id=\"T_7cfdc_row6_col7\" class=\"data row6 col7\" >-0.045205</td>\n",
              "      <td id=\"T_7cfdc_row6_col8\" class=\"data row6 col8\" >-0.011962</td>\n",
              "    </tr>\n",
              "    <tr>\n",
              "      <th id=\"T_7cfdc_level0_row7\" class=\"row_heading level0 row7\" >NumberRealEstateLoansOrLines</th>\n",
              "      <td id=\"T_7cfdc_row7_col0\" class=\"data row7 col0\" >-0.007038</td>\n",
              "      <td id=\"T_7cfdc_row7_col1\" class=\"data row7 col1\" >0.006235</td>\n",
              "      <td id=\"T_7cfdc_row7_col2\" class=\"data row7 col2\" >0.033150</td>\n",
              "      <td id=\"T_7cfdc_row7_col3\" class=\"data row7 col3\" >0.120046</td>\n",
              "      <td id=\"T_7cfdc_row7_col4\" class=\"data row7 col4\" >0.116273</td>\n",
              "      <td id=\"T_7cfdc_row7_col5\" class=\"data row7 col5\" >0.433959</td>\n",
              "      <td id=\"T_7cfdc_row7_col6\" class=\"data row7 col6\" >-0.045205</td>\n",
              "      <td id=\"T_7cfdc_row7_col7\" class=\"data row7 col7\" >1.000000</td>\n",
              "      <td id=\"T_7cfdc_row7_col8\" class=\"data row7 col8\" >0.129399</td>\n",
              "    </tr>\n",
              "    <tr>\n",
              "      <th id=\"T_7cfdc_level0_row8\" class=\"row_heading level0 row8\" >NumberOfDependents</th>\n",
              "      <td id=\"T_7cfdc_row8_col0\" class=\"data row8 col0\" >0.046869</td>\n",
              "      <td id=\"T_7cfdc_row8_col1\" class=\"data row8 col1\" >0.001193</td>\n",
              "      <td id=\"T_7cfdc_row8_col2\" class=\"data row8 col2\" >-0.215693</td>\n",
              "      <td id=\"T_7cfdc_row8_col3\" class=\"data row8 col3\" >-0.044476</td>\n",
              "      <td id=\"T_7cfdc_row8_col4\" class=\"data row8 col4\" >0.066314</td>\n",
              "      <td id=\"T_7cfdc_row8_col5\" class=\"data row8 col5\" >0.074026</td>\n",
              "      <td id=\"T_7cfdc_row8_col6\" class=\"data row8 col6\" >-0.011962</td>\n",
              "      <td id=\"T_7cfdc_row8_col7\" class=\"data row8 col7\" >0.129399</td>\n",
              "      <td id=\"T_7cfdc_row8_col8\" class=\"data row8 col8\" >1.000000</td>\n",
              "    </tr>\n",
              "  </tbody>\n",
              "</table>\n"
            ]
          },
          "metadata": {},
          "execution_count": 20
        }
      ]
    },
    {
      "cell_type": "markdown",
      "source": [
        "Визуализация данных"
      ],
      "metadata": {
        "id": "GIqEr_e-tOQj"
      }
    },
    {
      "cell_type": "code",
      "source": [
        "import matplotlib.pyplot as plt\n",
        "\n",
        "plt.scatter(data['NumberOfTimes90DaysLate'], data['SeriousDlqin2yrs'], c=data['SeriousDlqin2yrs'])"
      ],
      "metadata": {
        "colab": {
          "base_uri": "https://localhost:8080/",
          "height": 282
        },
        "id": "8mzF59Lwo5NM",
        "outputId": "e0079d10-5d9b-4b53-8ee7-7824edf7d1e2"
      },
      "execution_count": 21,
      "outputs": [
        {
          "output_type": "execute_result",
          "data": {
            "text/plain": [
              "<matplotlib.collections.PathCollection at 0x7f45741e70a0>"
            ]
          },
          "metadata": {},
          "execution_count": 21
        },
        {
          "output_type": "display_data",
          "data": {
            "text/plain": [
              "<Figure size 432x288 with 1 Axes>"
            ],
            "image/png": "[encoded data removed]"
          },
          "metadata": {
            "needs_background": "light"
          }
        }
      ]
    },
    {
      "cell_type": "code",
      "source": [
        "data.groupby('SeriousDlqin2yrs')['NumberOfTimes90DaysLate'].mean()"
      ],
      "metadata": {
        "colab": {
          "base_uri": "https://localhost:8080/"
        },
        "id": "0tWNkBxhrS30",
        "outputId": "3603c9c6-2a53-4aa1-f16b-72e5ba0b6fb4"
      },
      "execution_count": 22,
      "outputs": [
        {
          "output_type": "execute_result",
          "data": {
            "text/plain": [
              "SeriousDlqin2yrs\n",
              "0    0.135225\n",
              "1    2.091362\n",
              "Name: NumberOfTimes90DaysLate, dtype: float64"
            ]
          },
          "metadata": {},
          "execution_count": 22
        }
      ]
    },
    {
      "cell_type": "markdown",
      "source": [
        "Обучение модели"
      ],
      "metadata": {
        "id": "zsi5rSUOs1gO"
      }
    },
    {
      "cell_type": "code",
      "source": [
        "X = data.drop('SeriousDlqin2yrs', axis=1)\n",
        "y = data['SeriousDlqin2yrs']"
      ],
      "metadata": {
        "id": "WE_amzdVtRgL"
      },
      "execution_count": 23,
      "outputs": []
    },
    {
      "cell_type": "markdown",
      "source": [
        "Разобъём данные на train и test (test — 25% от всех данных)"
      ],
      "metadata": {
        "id": "u1m9hNlAta-0"
      }
    },
    {
      "cell_type": "code",
      "source": [
        "from sklearn.metrics import accuracy_score\n",
        "from sklearn.model_selection import train_test_split\n",
        "\n",
        "Xtrain, Xtest, ytrain, ytest = train_test_split(X, y, test_size=0.25, random_state=42)"
      ],
      "metadata": {
        "id": "98CKWMiktats"
      },
      "execution_count": 24,
      "outputs": []
    },
    {
      "cell_type": "code",
      "source": [
        "X.head"
      ],
      "metadata": {
        "colab": {
          "base_uri": "https://localhost:8080/"
        },
        "id": "vQP7IWNutvVP",
        "outputId": "acfe0e66-3445-4cb2-d0e6-5ba0655f1840"
      },
      "execution_count": 25,
      "outputs": [
        {
          "output_type": "execute_result",
          "data": {
            "text/plain": [
              "<bound method NDFrame.head of         RevolvingUtilizationOfUnsecuredLines  age    DebtRatio  MonthlyIncome  \\\n",
              "0                                   0.766127   45     0.802982         9120.0   \n",
              "1                                   0.957151   40     0.121876         2600.0   \n",
              "2                                   0.658180   38     0.085113         3042.0   \n",
              "3                                   0.233810   30     0.036050         3300.0   \n",
              "4                                   0.907239   49     0.024926        63588.0   \n",
              "...                                      ...  ...          ...            ...   \n",
              "149995                              0.040674   74     0.225131         2100.0   \n",
              "149996                              0.299745   44     0.716562         5584.0   \n",
              "149997                              0.246044   58  3870.000000         5400.0   \n",
              "149998                              0.000000   30     0.000000         5716.0   \n",
              "149999                              0.850283   64     0.249908         8158.0   \n",
              "\n",
              "        NumberOfOpenCreditLinesAndLoans  NumberOfTimes90DaysLate  \\\n",
              "0                                    13                        0   \n",
              "1                                     4                        0   \n",
              "2                                     2                        1   \n",
              "3                                     5                        0   \n",
              "4                                     7                        0   \n",
              "...                                 ...                      ...   \n",
              "149995                                4                        0   \n",
              "149996                                4                        0   \n",
              "149997                               18                        0   \n",
              "149998                                4                        0   \n",
              "149999                                8                        0   \n",
              "\n",
              "        NumberRealEstateLoansOrLines  NumberOfDependents  \n",
              "0                                  6                 2.0  \n",
              "1                                  0                 1.0  \n",
              "2                                  0                 0.0  \n",
              "3                                  0                 0.0  \n",
              "4                                  1                 0.0  \n",
              "...                              ...                 ...  \n",
              "149995                             1                 0.0  \n",
              "149996                             1                 2.0  \n",
              "149997                             1                 0.0  \n",
              "149998                             0                 0.0  \n",
              "149999                             2                 0.0  \n",
              "\n",
              "[150000 rows x 8 columns]>"
            ]
          },
          "metadata": {},
          "execution_count": 25
        }
      ]
    },
    {
      "cell_type": "markdown",
      "source": [
        "Маштабироование признакоов"
      ],
      "metadata": {
        "id": "gvaeG59Xt4pu"
      }
    },
    {
      "cell_type": "code",
      "source": [
        "import pandas as pd\n",
        "from sklearn.preprocessing import StandardScaler\n",
        "\n",
        "ss = StandardScaler()\n",
        "ss.fit(Xtrain)\n",
        "\n",
        "Xtrain = pd.DataFrame(ss.transform(Xtrain), columns=X.columns)\n",
        "Xtest = pd.DataFrame(ss.transform(Xtest), columns=X.columns)\n",
        "\n",
        "Xtrain.head()"
      ],
      "metadata": {
        "colab": {
          "base_uri": "https://localhost:8080/",
          "height": 268
        },
        "id": "5R9B76fYt7w5",
        "outputId": "5aa8aa3d-72e9-4b64-f6ab-5a81bd0c696d"
      },
      "execution_count": 26,
      "outputs": [
        {
          "output_type": "execute_result",
          "data": {
            "text/plain": [
              "   RevolvingUtilizationOfUnsecuredLines       age  DebtRatio  MonthlyIncome  \\\n",
              "0                             -0.021913  0.048196  -0.177746       0.112305   \n",
              "1                             -0.022635 -0.493560  -0.177736       1.595577   \n",
              "2                             -0.022044  0.386793  -0.177805       0.183788   \n",
              "3                             -0.018664 -2.051108  -0.177857      -0.393152   \n",
              "4                             -0.022410 -1.306194  -0.177640      -0.173628   \n",
              "\n",
              "   NumberOfOpenCreditLinesAndLoans  NumberOfTimes90DaysLate  \\\n",
              "0                        -0.089707                -0.063888   \n",
              "1                        -0.284060                -0.063888   \n",
              "2                        -0.284060                -0.063888   \n",
              "3                        -1.450180                -0.063888   \n",
              "4                        -0.478413                -0.063888   \n",
              "\n",
              "   NumberRealEstateLoansOrLines  NumberOfDependents  \n",
              "0                     -0.016736            1.136978  \n",
              "1                      1.751985            1.136978  \n",
              "2                     -0.901096           -0.665841  \n",
              "3                     -0.901096           -0.665841  \n",
              "4                     -0.016736            2.939798  "
            ],
            "text/html": [
              "\n",
              "  <div id=\"df-5a40808a-b5a1-43c5-b374-c65e80546e62\">\n",
              "    <div class=\"colab-df-container\">\n",
              "      <div>\n",
              "<style scoped>\n",
              "    .dataframe tbody tr th:only-of-type {\n",
              "        vertical-align: middle;\n",
              "    }\n",
              "\n",
              "    .dataframe tbody tr th {\n",
              "        vertical-align: top;\n",
              "    }\n",
              "\n",
              "    .dataframe thead th {\n",
              "        text-align: right;\n",
              "    }\n",
              "</style>\n",
              "<table border=\"1\" class=\"dataframe\">\n",
              "  <thead>\n",
              "    <tr style=\"text-align: right;\">\n",
              "      <th></th>\n",
              "      <th>RevolvingUtilizationOfUnsecuredLines</th>\n",
              "      <th>age</th>\n",
              "      <th>DebtRatio</th>\n",
              "      <th>MonthlyIncome</th>\n",
              "      <th>NumberOfOpenCreditLinesAndLoans</th>\n",
              "      <th>NumberOfTimes90DaysLate</th>\n",
              "      <th>NumberRealEstateLoansOrLines</th>\n",
              "      <th>NumberOfDependents</th>\n",
              "    </tr>\n",
              "  </thead>\n",
              "  <tbody>\n",
              "    <tr>\n",
              "      <th>0</th>\n",
              "      <td>-0.021913</td>\n",
              "      <td>0.048196</td>\n",
              "      <td>-0.177746</td>\n",
              "      <td>0.112305</td>\n",
              "      <td>-0.089707</td>\n",
              "      <td>-0.063888</td>\n",
              "      <td>-0.016736</td>\n",
              "      <td>1.136978</td>\n",
              "    </tr>\n",
              "    <tr>\n",
              "      <th>1</th>\n",
              "      <td>-0.022635</td>\n",
              "      <td>-0.493560</td>\n",
              "      <td>-0.177736</td>\n",
              "      <td>1.595577</td>\n",
              "      <td>-0.284060</td>\n",
              "      <td>-0.063888</td>\n",
              "      <td>1.751985</td>\n",
              "      <td>1.136978</td>\n",
              "    </tr>\n",
              "    <tr>\n",
              "      <th>2</th>\n",
              "      <td>-0.022044</td>\n",
              "      <td>0.386793</td>\n",
              "      <td>-0.177805</td>\n",
              "      <td>0.183788</td>\n",
              "      <td>-0.284060</td>\n",
              "      <td>-0.063888</td>\n",
              "      <td>-0.901096</td>\n",
              "      <td>-0.665841</td>\n",
              "    </tr>\n",
              "    <tr>\n",
              "      <th>3</th>\n",
              "      <td>-0.018664</td>\n",
              "      <td>-2.051108</td>\n",
              "      <td>-0.177857</td>\n",
              "      <td>-0.393152</td>\n",
              "      <td>-1.450180</td>\n",
              "      <td>-0.063888</td>\n",
              "      <td>-0.901096</td>\n",
              "      <td>-0.665841</td>\n",
              "    </tr>\n",
              "    <tr>\n",
              "      <th>4</th>\n",
              "      <td>-0.022410</td>\n",
              "      <td>-1.306194</td>\n",
              "      <td>-0.177640</td>\n",
              "      <td>-0.173628</td>\n",
              "      <td>-0.478413</td>\n",
              "      <td>-0.063888</td>\n",
              "      <td>-0.016736</td>\n",
              "      <td>2.939798</td>\n",
              "    </tr>\n",
              "  </tbody>\n",
              "</table>\n",
              "</div>\n",
              "      <button class=\"colab-df-convert\" onclick=\"convertToInteractive('df-5a40808a-b5a1-43c5-b374-c65e80546e62')\"\n",
              "              title=\"Convert this dataframe to an interactive table.\"\n",
              "              style=\"display:none;\">\n",
              "        \n",
              "  <svg xmlns=\"http://www.w3.org/2000/svg\" height=\"24px\"viewBox=\"0 0 24 24\"\n",
              "       width=\"24px\">\n",
              "    <path d=\"M0 0h24v24H0V0z\" fill=\"none\"/>\n",
              "    <path d=\"M18.56 5.44l.94 2.06.94-2.06 2.06-.94-2.06-.94-.94-2.06-.94 2.06-2.06.94zm-11 1L8.5 8.5l.94-2.06 2.06-.94-2.06-.94L8.5 2.5l-.94 2.06-2.06.94zm10 10l.94 2.06.94-2.06 2.06-.94-2.06-.94-.94-2.06-.94 2.06-2.06.94z\"/><path d=\"M17.41 7.96l-1.37-1.37c-.4-.4-.92-.59-1.43-.59-.52 0-1.04.2-1.43.59L10.3 9.45l-7.72 7.72c-.78.78-.78 2.05 0 2.83L4 21.41c.39.39.9.59 1.41.59.51 0 1.02-.2 1.41-.59l7.78-7.78 2.81-2.81c.8-.78.8-2.07 0-2.86zM5.41 20L4 18.59l7.72-7.72 1.47 1.35L5.41 20z\"/>\n",
              "  </svg>\n",
              "      </button>\n",
              "      \n",
              "  <style>\n",
              "    .colab-df-container {\n",
              "      display:flex;\n",
              "      flex-wrap:wrap;\n",
              "      gap: 12px;\n",
              "    }\n",
              "\n",
              "    .colab-df-convert {\n",
              "      background-color: #E8F0FE;\n",
              "      border: none;\n",
              "      border-radius: 50%;\n",
              "      cursor: pointer;\n",
              "      display: none;\n",
              "      fill: #1967D2;\n",
              "      height: 32px;\n",
              "      padding: 0 0 0 0;\n",
              "      width: 32px;\n",
              "    }\n",
              "\n",
              "    .colab-df-convert:hover {\n",
              "      background-color: #E2EBFA;\n",
              "      box-shadow: 0px 1px 2px rgba(60, 64, 67, 0.3), 0px 1px 3px 1px rgba(60, 64, 67, 0.15);\n",
              "      fill: #174EA6;\n",
              "    }\n",
              "\n",
              "    [theme=dark] .colab-df-convert {\n",
              "      background-color: #3B4455;\n",
              "      fill: #D2E3FC;\n",
              "    }\n",
              "\n",
              "    [theme=dark] .colab-df-convert:hover {\n",
              "      background-color: #434B5C;\n",
              "      box-shadow: 0px 1px 3px 1px rgba(0, 0, 0, 0.15);\n",
              "      filter: drop-shadow(0px 1px 2px rgba(0, 0, 0, 0.3));\n",
              "      fill: #FFFFFF;\n",
              "    }\n",
              "  </style>\n",
              "\n",
              "      <script>\n",
              "        const buttonEl =\n",
              "          document.querySelector('#df-5a40808a-b5a1-43c5-b374-c65e80546e62 button.colab-df-convert');\n",
              "        buttonEl.style.display =\n",
              "          google.colab.kernel.accessAllowed ? 'block' : 'none';\n",
              "\n",
              "        async function convertToInteractive(key) {\n",
              "          const element = document.querySelector('#df-5a40808a-b5a1-43c5-b374-c65e80546e62');\n",
              "          const dataTable =\n",
              "            await google.colab.kernel.invokeFunction('convertToInteractive',\n",
              "                                                     [key], {});\n",
              "          if (!dataTable) return;\n",
              "\n",
              "          const docLinkHtml = 'Like what you see? Visit the ' +\n",
              "            '<a target=\"_blank\" href=https://colab.research.google.com/notebooks/data_table.ipynb>data table notebook</a>'\n",
              "            + ' to learn more about interactive tables.';\n",
              "          element.innerHTML = '';\n",
              "          dataTable['output_type'] = 'display_data';\n",
              "          await google.colab.output.renderOutput(dataTable, element);\n",
              "          const docLink = document.createElement('div');\n",
              "          docLink.innerHTML = docLinkHtml;\n",
              "          element.appendChild(docLink);\n",
              "        }\n",
              "      </script>\n",
              "    </div>\n",
              "  </div>\n",
              "  "
            ]
          },
          "metadata": {},
          "execution_count": 26
        }
      ]
    },
    {
      "cell_type": "markdown",
      "source": [
        "Обучим логистическую регрессию на train и сделаем предсказание на новых для нее данных (test)."
      ],
      "metadata": {
        "id": "hpAtJaoquCtZ"
      }
    },
    {
      "cell_type": "code",
      "source": [
        "from sklearn.linear_model import LogisticRegression\n",
        "\n",
        "model = LogisticRegression(class_weight='balanced') # объявление модели (добавил class_weight='balanced')\n",
        "model.fit(Xtrain, ytrain) # обучение модели\n",
        "\n",
        "pred_test = model.predict(Xtest) # предсказание классов\n",
        "\n"
      ],
      "metadata": {
        "id": "24LojGNluB8C"
      },
      "execution_count": 27,
      "outputs": []
    },
    {
      "cell_type": "code",
      "source": [
        "pred_test[:5]"
      ],
      "metadata": {
        "colab": {
          "base_uri": "https://localhost:8080/"
        },
        "id": "pgKWSIU4uNBg",
        "outputId": "0555bbb4-b752-4ab7-ab8a-262a148d77ba"
      },
      "execution_count": 28,
      "outputs": [
        {
          "output_type": "execute_result",
          "data": {
            "text/plain": [
              "array([0, 0, 1, 0, 0])"
            ]
          },
          "metadata": {},
          "execution_count": 28
        }
      ]
    },
    {
      "cell_type": "code",
      "source": [
        "accuracy_score(ytest, pred_test)"
      ],
      "metadata": {
        "colab": {
          "base_uri": "https://localhost:8080/"
        },
        "id": "QPOqcJnOuRSG",
        "outputId": "6d53aa72-bf8a-4890-abd5-1533bbba1b6c"
      },
      "execution_count": 29,
      "outputs": [
        {
          "output_type": "execute_result",
          "data": {
            "text/plain": [
              "0.6900266666666667"
            ]
          },
          "metadata": {},
          "execution_count": 29
        }
      ]
    },
    {
      "cell_type": "code",
      "source": [
        "y.value_counts()"
      ],
      "metadata": {
        "colab": {
          "base_uri": "https://localhost:8080/"
        },
        "id": "ljAzAiGhuTn1",
        "outputId": "4b3698c6-57aa-4e22-fe87-0e8c006adf5b"
      },
      "execution_count": 30,
      "outputs": [
        {
          "output_type": "execute_result",
          "data": {
            "text/plain": [
              "0    139974\n",
              "1     10026\n",
              "Name: SeriousDlqin2yrs, dtype: int64"
            ]
          },
          "metadata": {},
          "execution_count": 30
        }
      ]
    },
    {
      "cell_type": "code",
      "source": [
        "pred_test[:20]"
      ],
      "metadata": {
        "colab": {
          "base_uri": "https://localhost:8080/"
        },
        "id": "Ad_CzbR7uZ9k",
        "outputId": "9735b388-6268-448d-bd2e-1534611d0699"
      },
      "execution_count": 31,
      "outputs": [
        {
          "output_type": "execute_result",
          "data": {
            "text/plain": [
              "array([0, 0, 1, 0, 0, 1, 0, 0, 0, 1, 1, 1, 1, 1, 0, 0, 0, 0, 0, 0])"
            ]
          },
          "metadata": {},
          "execution_count": 31
        }
      ]
    },
    {
      "cell_type": "markdown",
      "source": [
        "Валидация"
      ],
      "metadata": {
        "id": "dC7Syg7zue32"
      }
    },
    {
      "cell_type": "code",
      "source": [
        "from sklearn.metrics import confusion_matrix\n",
        "\n",
        "confusion_matrix(ytest, pred_test)"
      ],
      "metadata": {
        "colab": {
          "base_uri": "https://localhost:8080/"
        },
        "id": "sJqgEhhruhOv",
        "outputId": "6f14427c-b531-4262-c84e-c67aa2206f6e"
      },
      "execution_count": 32,
      "outputs": [
        {
          "output_type": "execute_result",
          "data": {
            "text/plain": [
              "array([[24316, 10709],\n",
              "       [  915,  1560]])"
            ]
          },
          "metadata": {},
          "execution_count": 32
        }
      ]
    },
    {
      "cell_type": "code",
      "source": [
        "ytest.value_counts()"
      ],
      "metadata": {
        "colab": {
          "base_uri": "https://localhost:8080/"
        },
        "id": "Z40E5xwGu0GM",
        "outputId": "8a2d35d2-271e-4f5d-d523-d95ed206bbef"
      },
      "execution_count": 33,
      "outputs": [
        {
          "output_type": "execute_result",
          "data": {
            "text/plain": [
              "0    35025\n",
              "1     2475\n",
              "Name: SeriousDlqin2yrs, dtype: int64"
            ]
          },
          "metadata": {},
          "execution_count": 33
        }
      ]
    },
    {
      "cell_type": "code",
      "source": [
        "from sklearn.metrics import recall_score\n",
        "\n",
        "recall_score(ytest, pred_test)"
      ],
      "metadata": {
        "colab": {
          "base_uri": "https://localhost:8080/"
        },
        "id": "kYWL1UKsvCAe",
        "outputId": "db0b2454-1de7-4510-fe84-01804ea229c4"
      },
      "execution_count": 34,
      "outputs": [
        {
          "output_type": "execute_result",
          "data": {
            "text/plain": [
              "0.6303030303030303"
            ]
          },
          "metadata": {},
          "execution_count": 34
        }
      ]
    },
    {
      "cell_type": "code",
      "source": [
        "probs = model.predict_proba(Xtest)\n",
        "\n",
        "probs[:10]"
      ],
      "metadata": {
        "colab": {
          "base_uri": "https://localhost:8080/"
        },
        "id": "CYK9IDbLvJ03",
        "outputId": "fd65db73-c735-4940-d75c-985c5eb88b93"
      },
      "execution_count": 35,
      "outputs": [
        {
          "output_type": "execute_result",
          "data": {
            "text/plain": [
              "array([[0.65743348, 0.34256652],\n",
              "       [0.63714876, 0.36285124],\n",
              "       [0.49136791, 0.50863209],\n",
              "       [0.53324775, 0.46675225],\n",
              "       [0.57775096, 0.42224904],\n",
              "       [0.45240351, 0.54759649],\n",
              "       [0.71947517, 0.28052483],\n",
              "       [0.75783423, 0.24216577],\n",
              "       [0.60919326, 0.39080674],\n",
              "       [0.47015661, 0.52984339]])"
            ]
          },
          "metadata": {},
          "execution_count": 35
        }
      ]
    },
    {
      "cell_type": "markdown",
      "source": [
        "Изменим порог вероятности"
      ],
      "metadata": {
        "id": "c5r9MSTvvZIB"
      }
    },
    {
      "cell_type": "code",
      "source": [
        "probs_Dql90 = probs[:,1]\n",
        "\n",
        "classes = probs_Dql90 > 0.5"
      ],
      "metadata": {
        "id": "IxiZzu6PvcR2"
      },
      "execution_count": 79,
      "outputs": []
    },
    {
      "cell_type": "code",
      "source": [
        "confusion_matrix(ytest, classes)"
      ],
      "metadata": {
        "colab": {
          "base_uri": "https://localhost:8080/"
        },
        "id": "bknAiI4Nvwf3",
        "outputId": "4ae2a6b2-0036-4792-f039-1ba3f717bece"
      },
      "execution_count": 80,
      "outputs": [
        {
          "output_type": "execute_result",
          "data": {
            "text/plain": [
              "array([[24316, 10709],\n",
              "       [  915,  1560]])"
            ]
          },
          "metadata": {},
          "execution_count": 80
        }
      ]
    },
    {
      "cell_type": "code",
      "source": [
        "ytest.value_counts()"
      ],
      "metadata": {
        "colab": {
          "base_uri": "https://localhost:8080/"
        },
        "id": "Kd_4xRrSv5vA",
        "outputId": "7726bc59-4694-4cbe-ee26-ec794d8ba4d5"
      },
      "execution_count": 38,
      "outputs": [
        {
          "output_type": "execute_result",
          "data": {
            "text/plain": [
              "0    35025\n",
              "1     2475\n",
              "Name: SeriousDlqin2yrs, dtype: int64"
            ]
          },
          "metadata": {},
          "execution_count": 38
        }
      ]
    },
    {
      "cell_type": "code",
      "source": [
        "recall_score(ytest, classes)"
      ],
      "metadata": {
        "colab": {
          "base_uri": "https://localhost:8080/"
        },
        "id": "JCO_IK0owflD",
        "outputId": "498eab87-5d6e-4d60-f12f-1d09ca3ed1df"
      },
      "execution_count": 39,
      "outputs": [
        {
          "output_type": "execute_result",
          "data": {
            "text/plain": [
              "0.6303030303030303"
            ]
          },
          "metadata": {},
          "execution_count": 39
        }
      ]
    },
    {
      "cell_type": "markdown",
      "source": [
        "Интерпретация модели"
      ],
      "metadata": {
        "id": "UyzcqXndxJ3j"
      }
    },
    {
      "cell_type": "code",
      "source": [
        "model.coef_, model.intercept_"
      ],
      "metadata": {
        "colab": {
          "base_uri": "https://localhost:8080/"
        },
        "id": "2EGpfAmKxM_0",
        "outputId": "11f12f96-4322-48d8-9860-978f06246501"
      },
      "execution_count": 44,
      "outputs": [
        {
          "output_type": "execute_result",
          "data": {
            "text/plain": [
              "(array([[-0.01285723, -0.46645085, -0.03858438, -0.35123362,  0.07546557,\n",
              "          3.02269458,  0.08174756,  0.08912868]]), array([-0.14222866]))"
            ]
          },
          "metadata": {},
          "execution_count": 44
        }
      ]
    },
    {
      "cell_type": "code",
      "source": [
        "import pandas as pd\n",
        "\n",
        "coef_table = pd.DataFrame({'features' : list(X.columns), 'weights' : list(model.coef_[0])})\n",
        "\n",
        "coef_table.sort_values(by='weights')"
      ],
      "metadata": {
        "colab": {
          "base_uri": "https://localhost:8080/",
          "height": 297
        },
        "id": "4F2vrR1HxTz8",
        "outputId": "66611ef1-097c-440b-d20b-626ea994bf30"
      },
      "execution_count": 45,
      "outputs": [
        {
          "output_type": "execute_result",
          "data": {
            "text/plain": [
              "                               features   weights\n",
              "1                                   age -0.466451\n",
              "3                         MonthlyIncome -0.351234\n",
              "2                             DebtRatio -0.038584\n",
              "0  RevolvingUtilizationOfUnsecuredLines -0.012857\n",
              "4       NumberOfOpenCreditLinesAndLoans  0.075466\n",
              "6          NumberRealEstateLoansOrLines  0.081748\n",
              "7                    NumberOfDependents  0.089129\n",
              "5               NumberOfTimes90DaysLate  3.022695"
            ],
            "text/html": [
              "\n",
              "  <div id=\"df-231531f8-a43d-475a-ae94-c700fcda82b9\">\n",
              "    <div class=\"colab-df-container\">\n",
              "      <div>\n",
              "<style scoped>\n",
              "    .dataframe tbody tr th:only-of-type {\n",
              "        vertical-align: middle;\n",
              "    }\n",
              "\n",
              "    .dataframe tbody tr th {\n",
              "        vertical-align: top;\n",
              "    }\n",
              "\n",
              "    .dataframe thead th {\n",
              "        text-align: right;\n",
              "    }\n",
              "</style>\n",
              "<table border=\"1\" class=\"dataframe\">\n",
              "  <thead>\n",
              "    <tr style=\"text-align: right;\">\n",
              "      <th></th>\n",
              "      <th>features</th>\n",
              "      <th>weights</th>\n",
              "    </tr>\n",
              "  </thead>\n",
              "  <tbody>\n",
              "    <tr>\n",
              "      <th>1</th>\n",
              "      <td>age</td>\n",
              "      <td>-0.466451</td>\n",
              "    </tr>\n",
              "    <tr>\n",
              "      <th>3</th>\n",
              "      <td>MonthlyIncome</td>\n",
              "      <td>-0.351234</td>\n",
              "    </tr>\n",
              "    <tr>\n",
              "      <th>2</th>\n",
              "      <td>DebtRatio</td>\n",
              "      <td>-0.038584</td>\n",
              "    </tr>\n",
              "    <tr>\n",
              "      <th>0</th>\n",
              "      <td>RevolvingUtilizationOfUnsecuredLines</td>\n",
              "      <td>-0.012857</td>\n",
              "    </tr>\n",
              "    <tr>\n",
              "      <th>4</th>\n",
              "      <td>NumberOfOpenCreditLinesAndLoans</td>\n",
              "      <td>0.075466</td>\n",
              "    </tr>\n",
              "    <tr>\n",
              "      <th>6</th>\n",
              "      <td>NumberRealEstateLoansOrLines</td>\n",
              "      <td>0.081748</td>\n",
              "    </tr>\n",
              "    <tr>\n",
              "      <th>7</th>\n",
              "      <td>NumberOfDependents</td>\n",
              "      <td>0.089129</td>\n",
              "    </tr>\n",
              "    <tr>\n",
              "      <th>5</th>\n",
              "      <td>NumberOfTimes90DaysLate</td>\n",
              "      <td>3.022695</td>\n",
              "    </tr>\n",
              "  </tbody>\n",
              "</table>\n",
              "</div>\n",
              "      <button class=\"colab-df-convert\" onclick=\"convertToInteractive('df-231531f8-a43d-475a-ae94-c700fcda82b9')\"\n",
              "              title=\"Convert this dataframe to an interactive table.\"\n",
              "              style=\"display:none;\">\n",
              "        \n",
              "  <svg xmlns=\"http://www.w3.org/2000/svg\" height=\"24px\"viewBox=\"0 0 24 24\"\n",
              "       width=\"24px\">\n",
              "    <path d=\"M0 0h24v24H0V0z\" fill=\"none\"/>\n",
              "    <path d=\"M18.56 5.44l.94 2.06.94-2.06 2.06-.94-2.06-.94-.94-2.06-.94 2.06-2.06.94zm-11 1L8.5 8.5l.94-2.06 2.06-.94-2.06-.94L8.5 2.5l-.94 2.06-2.06.94zm10 10l.94 2.06.94-2.06 2.06-.94-2.06-.94-.94-2.06-.94 2.06-2.06.94z\"/><path d=\"M17.41 7.96l-1.37-1.37c-.4-.4-.92-.59-1.43-.59-.52 0-1.04.2-1.43.59L10.3 9.45l-7.72 7.72c-.78.78-.78 2.05 0 2.83L4 21.41c.39.39.9.59 1.41.59.51 0 1.02-.2 1.41-.59l7.78-7.78 2.81-2.81c.8-.78.8-2.07 0-2.86zM5.41 20L4 18.59l7.72-7.72 1.47 1.35L5.41 20z\"/>\n",
              "  </svg>\n",
              "      </button>\n",
              "      \n",
              "  <style>\n",
              "    .colab-df-container {\n",
              "      display:flex;\n",
              "      flex-wrap:wrap;\n",
              "      gap: 12px;\n",
              "    }\n",
              "\n",
              "    .colab-df-convert {\n",
              "      background-color: #E8F0FE;\n",
              "      border: none;\n",
              "      border-radius: 50%;\n",
              "      cursor: pointer;\n",
              "      display: none;\n",
              "      fill: #1967D2;\n",
              "      height: 32px;\n",
              "      padding: 0 0 0 0;\n",
              "      width: 32px;\n",
              "    }\n",
              "\n",
              "    .colab-df-convert:hover {\n",
              "      background-color: #E2EBFA;\n",
              "      box-shadow: 0px 1px 2px rgba(60, 64, 67, 0.3), 0px 1px 3px 1px rgba(60, 64, 67, 0.15);\n",
              "      fill: #174EA6;\n",
              "    }\n",
              "\n",
              "    [theme=dark] .colab-df-convert {\n",
              "      background-color: #3B4455;\n",
              "      fill: #D2E3FC;\n",
              "    }\n",
              "\n",
              "    [theme=dark] .colab-df-convert:hover {\n",
              "      background-color: #434B5C;\n",
              "      box-shadow: 0px 1px 3px 1px rgba(0, 0, 0, 0.15);\n",
              "      filter: drop-shadow(0px 1px 2px rgba(0, 0, 0, 0.3));\n",
              "      fill: #FFFFFF;\n",
              "    }\n",
              "  </style>\n",
              "\n",
              "      <script>\n",
              "        const buttonEl =\n",
              "          document.querySelector('#df-231531f8-a43d-475a-ae94-c700fcda82b9 button.colab-df-convert');\n",
              "        buttonEl.style.display =\n",
              "          google.colab.kernel.accessAllowed ? 'block' : 'none';\n",
              "\n",
              "        async function convertToInteractive(key) {\n",
              "          const element = document.querySelector('#df-231531f8-a43d-475a-ae94-c700fcda82b9');\n",
              "          const dataTable =\n",
              "            await google.colab.kernel.invokeFunction('convertToInteractive',\n",
              "                                                     [key], {});\n",
              "          if (!dataTable) return;\n",
              "\n",
              "          const docLinkHtml = 'Like what you see? Visit the ' +\n",
              "            '<a target=\"_blank\" href=https://colab.research.google.com/notebooks/data_table.ipynb>data table notebook</a>'\n",
              "            + ' to learn more about interactive tables.';\n",
              "          element.innerHTML = '';\n",
              "          dataTable['output_type'] = 'display_data';\n",
              "          await google.colab.output.renderOutput(dataTable, element);\n",
              "          const docLink = document.createElement('div');\n",
              "          docLink.innerHTML = docLinkHtml;\n",
              "          element.appendChild(docLink);\n",
              "        }\n",
              "      </script>\n",
              "    </div>\n",
              "  </div>\n",
              "  "
            ]
          },
          "metadata": {},
          "execution_count": 45
        }
      ]
    },
    {
      "cell_type": "markdown",
      "source": [
        "Метод ближайших соседей"
      ],
      "metadata": {
        "id": "4vhuCX6JxjIX"
      }
    },
    {
      "cell_type": "code",
      "source": [
        "from sklearn.neighbors import KNeighborsClassifier\n",
        "\n",
        "knn = KNeighborsClassifier()"
      ],
      "metadata": {
        "id": "DGRpnWP9xiaI"
      },
      "execution_count": 46,
      "outputs": []
    },
    {
      "cell_type": "code",
      "source": [
        "knn.fit(Xtrain, ytrain)\n",
        "\n",
        "pred_test2 = knn.predict_proba(Xtest)[:,1]\n",
        "\n",
        "classes2 = pred_test2 > 0.2\n",
        "\n",
        "confusion_matrix(ytest, classes2)"
      ],
      "metadata": {
        "colab": {
          "base_uri": "https://localhost:8080/"
        },
        "id": "leJkUuzexn-7",
        "outputId": "94a402a1-d67c-4873-b64b-8d95019acf6d"
      },
      "execution_count": 76,
      "outputs": [
        {
          "output_type": "execute_result",
          "data": {
            "text/plain": [
              "array([[33630,  1395],\n",
              "       [ 1926,   549]])"
            ]
          },
          "metadata": {},
          "execution_count": 76
        }
      ]
    },
    {
      "cell_type": "markdown",
      "source": [
        "Сохранение"
      ],
      "metadata": {
        "id": "nhElH7-ux6xg"
      }
    },
    {
      "cell_type": "code",
      "source": [
        "#Xtest['predictions'] = probs_Dql90\n",
        "\n",
        "#Xtest[['predictions']].to_csv(\"PredictionsDql90.csv\", index=False)"
      ],
      "metadata": {
        "id": "VgdFv2xSx55E"
      },
      "execution_count": 96,
      "outputs": []
    },
    {
      "cell_type": "code",
      "source": [
        "import pickle \n",
        "\n",
        "with open('model.pickle', 'wb') as f:\n",
        "    pickle.dump(model, f)\n",
        "\n",
        "# а так модель можно загрузить из файла:  \n",
        "# with open('filename.pickle', 'rb') as f:\n",
        "#     model = pickle.load(f)"
      ],
      "metadata": {
        "id": "KO8_CdkUyO3_"
      },
      "execution_count": 52,
      "outputs": []
    },
    {
      "cell_type": "code",
      "source": [
        "from sklearn import metrics\n",
        "\n",
        "print(\"LR quality:\")\n",
        "print(\"precision: \", metrics.precision_score(ytest, classes))\n",
        "print(\"recall: \", metrics.recall_score(ytest, classes))\n",
        "print(\"auc-roc: \", metrics.roc_auc_score(ytest, probs[:, 1]))"
      ],
      "metadata": {
        "colab": {
          "base_uri": "https://localhost:8080/"
        },
        "id": "yROG-mk-X1-8",
        "outputId": "331da361-f686-43cb-d7c1-6afe47efd7bc"
      },
      "execution_count": 53,
      "outputs": [
        {
          "output_type": "stream",
          "name": "stdout",
          "text": [
            "LR quality:\n",
            "precision:  0.127149726954112\n",
            "recall:  0.6303030303030303\n",
            "auc-roc:  0.7360566752463968\n"
          ]
        }
      ]
    },
    {
      "cell_type": "code",
      "source": [
        "!pip install catboost"
      ],
      "metadata": {
        "colab": {
          "base_uri": "https://localhost:8080/"
        },
        "id": "tyQV1y59X9-H",
        "outputId": "01b71147-32f3-4727-c474-ec64576ff05b"
      },
      "execution_count": 54,
      "outputs": [
        {
          "output_type": "stream",
          "name": "stdout",
          "text": [
            "Looking in indexes: https://pypi.org/simple, https://us-python.pkg.dev/colab-wheels/public/simple/\n",
            "Collecting catboost\n",
            "  Downloading catboost-1.1.1-cp38-none-manylinux1_x86_64.whl (76.6 MB)\n",
            "\u001b[2K     \u001b[90m━━━━━━━━━━━━━━━━━━━━━━━━━━━━━━━━━━━━━━━━\u001b[0m \u001b[32m76.6/76.6 MB\u001b[0m \u001b[31m13.2 MB/s\u001b[0m eta \u001b[36m0:00:00\u001b[0m\n",
            "\u001b[?25hRequirement already satisfied: six in /usr/local/lib/python3.8/dist-packages (from catboost) (1.15.0)\n",
            "Requirement already satisfied: scipy in /usr/local/lib/python3.8/dist-packages (from catboost) (1.7.3)\n",
            "Requirement already satisfied: matplotlib in /usr/local/lib/python3.8/dist-packages (from catboost) (3.5.3)\n",
            "Requirement already satisfied: graphviz in /usr/local/lib/python3.8/dist-packages (from catboost) (0.10.1)\n",
            "Requirement already satisfied: pandas>=0.24.0 in /usr/local/lib/python3.8/dist-packages (from catboost) (1.3.5)\n",
            "Requirement already satisfied: plotly in /usr/local/lib/python3.8/dist-packages (from catboost) (5.5.0)\n",
            "Requirement already satisfied: numpy>=1.16.0 in /usr/local/lib/python3.8/dist-packages (from catboost) (1.22.4)\n",
            "Requirement already satisfied: python-dateutil>=2.7.3 in /usr/local/lib/python3.8/dist-packages (from pandas>=0.24.0->catboost) (2.8.2)\n",
            "Requirement already satisfied: pytz>=2017.3 in /usr/local/lib/python3.8/dist-packages (from pandas>=0.24.0->catboost) (2022.7.1)\n",
            "Requirement already satisfied: fonttools>=4.22.0 in /usr/local/lib/python3.8/dist-packages (from matplotlib->catboost) (4.38.0)\n",
            "Requirement already satisfied: pillow>=6.2.0 in /usr/local/lib/python3.8/dist-packages (from matplotlib->catboost) (8.4.0)\n",
            "Requirement already satisfied: cycler>=0.10 in /usr/local/lib/python3.8/dist-packages (from matplotlib->catboost) (0.11.0)\n",
            "Requirement already satisfied: pyparsing>=2.2.1 in /usr/local/lib/python3.8/dist-packages (from matplotlib->catboost) (3.0.9)\n",
            "Requirement already satisfied: packaging>=20.0 in /usr/local/lib/python3.8/dist-packages (from matplotlib->catboost) (23.0)\n",
            "Requirement already satisfied: kiwisolver>=1.0.1 in /usr/local/lib/python3.8/dist-packages (from matplotlib->catboost) (1.4.4)\n",
            "Requirement already satisfied: tenacity>=6.2.0 in /usr/local/lib/python3.8/dist-packages (from plotly->catboost) (8.2.1)\n",
            "Installing collected packages: catboost\n",
            "Successfully installed catboost-1.1.1\n"
          ]
        }
      ]
    },
    {
      "cell_type": "code",
      "source": [
        "from catboost import CatBoostClassifier, Pool"
      ],
      "metadata": {
        "id": "EcU8oeB2YUgT"
      },
      "execution_count": 55,
      "outputs": []
    },
    {
      "cell_type": "code",
      "source": [
        "train_set = Pool(Xtrain, ytrain)\n",
        "test_set = Pool(Xtest, ytest)"
      ],
      "metadata": {
        "id": "uWt5BKvyYae5"
      },
      "execution_count": 56,
      "outputs": []
    },
    {
      "cell_type": "code",
      "source": [
        "gbm = CatBoostClassifier(iterations=300,\n",
        "                          depth=4,\n",
        "                          learning_rate=0.1,\n",
        "                          loss_function='Logloss',\n",
        "                          eval_metric='AUC',\n",
        "                          verbose=False)\n",
        "gbm.fit(train_set, eval_set=test_set)\n",
        "gbm_preds = gbm.predict_proba(Xtest)"
      ],
      "metadata": {
        "id": "wzouBVJPYdyH"
      },
      "execution_count": 113,
      "outputs": []
    },
    {
      "cell_type": "code",
      "source": [
        "eval_metrics = gbm.get_evals_result()\n",
        "plt.plot(eval_metrics['validation']['AUC'])\n",
        "plt.xlabel('n_trees')\n",
        "plt.ylabel('AUC')\n",
        "plt.grid()"
      ],
      "metadata": {
        "colab": {
          "base_uri": "https://localhost:8080/",
          "height": 280
        },
        "id": "CdGj7nDVdyXe",
        "outputId": "cae18d24-73db-43bb-dc08-9e7f52816e9b"
      },
      "execution_count": 114,
      "outputs": [
        {
          "output_type": "display_data",
          "data": {
            "text/plain": [
              "<Figure size 432x288 with 1 Axes>"
            ],
            "image/png": "[encoded data removed]"
          },
          "metadata": {
            "needs_background": "light"
          }
        }
      ]
    },
    {
      "cell_type": "code",
      "source": [
        "gbm_classes = (gbm_preds[:, 1] > 0.1)\n",
        "print(\"precision: \", metrics.precision_score(ytest, gbm_classes))\n",
        "print(\"recall: \", metrics.recall_score(ytest, gbm_classes))\n",
        "print(\"auc-roc: \", metrics.roc_auc_score(ytest, gbm_preds[:, 1]))"
      ],
      "metadata": {
        "colab": {
          "base_uri": "https://localhost:8080/"
        },
        "id": "9tw-9ZJJd45Y",
        "outputId": "4c4dbec6-0574-4d94-825b-fd5bd8e2082a"
      },
      "execution_count": 115,
      "outputs": [
        {
          "output_type": "stream",
          "name": "stdout",
          "text": [
            "precision:  0.2406885294554088\n",
            "recall:  0.6553535353535354\n",
            "auc-roc:  0.8413439116359887\n"
          ]
        }
      ]
    },
    {
      "cell_type": "code",
      "source": [
        "coef_table = pd.DataFrame({'features' : list(X.columns), 'importances' : list(gbm.get_feature_importance())})\n",
        "\n",
        "coef_table.sort_values(by='importances')"
      ],
      "metadata": {
        "colab": {
          "base_uri": "https://localhost:8080/",
          "height": 297
        },
        "id": "vQN9LilBd_DZ",
        "outputId": "faa5f654-ca6c-4675-d3f3-84edca2d0ff3"
      },
      "execution_count": 92,
      "outputs": [
        {
          "output_type": "execute_result",
          "data": {
            "text/plain": [
              "                               features  importances\n",
              "7                    NumberOfDependents     1.724837\n",
              "6          NumberRealEstateLoansOrLines     4.251700\n",
              "3                         MonthlyIncome     5.199051\n",
              "4       NumberOfOpenCreditLinesAndLoans     8.234196\n",
              "2                             DebtRatio     9.038077\n",
              "1                                   age    12.216557\n",
              "5               NumberOfTimes90DaysLate    16.397520\n",
              "0  RevolvingUtilizationOfUnsecuredLines    42.938061"
            ],
            "text/html": [
              "\n",
              "  <div id=\"df-c83913ae-57c0-438a-b38f-b2e6d7862a59\">\n",
              "    <div class=\"colab-df-container\">\n",
              "      <div>\n",
              "<style scoped>\n",
              "    .dataframe tbody tr th:only-of-type {\n",
              "        vertical-align: middle;\n",
              "    }\n",
              "\n",
              "    .dataframe tbody tr th {\n",
              "        vertical-align: top;\n",
              "    }\n",
              "\n",
              "    .dataframe thead th {\n",
              "        text-align: right;\n",
              "    }\n",
              "</style>\n",
              "<table border=\"1\" class=\"dataframe\">\n",
              "  <thead>\n",
              "    <tr style=\"text-align: right;\">\n",
              "      <th></th>\n",
              "      <th>features</th>\n",
              "      <th>importances</th>\n",
              "    </tr>\n",
              "  </thead>\n",
              "  <tbody>\n",
              "    <tr>\n",
              "      <th>7</th>\n",
              "      <td>NumberOfDependents</td>\n",
              "      <td>1.724837</td>\n",
              "    </tr>\n",
              "    <tr>\n",
              "      <th>6</th>\n",
              "      <td>NumberRealEstateLoansOrLines</td>\n",
              "      <td>4.251700</td>\n",
              "    </tr>\n",
              "    <tr>\n",
              "      <th>3</th>\n",
              "      <td>MonthlyIncome</td>\n",
              "      <td>5.199051</td>\n",
              "    </tr>\n",
              "    <tr>\n",
              "      <th>4</th>\n",
              "      <td>NumberOfOpenCreditLinesAndLoans</td>\n",
              "      <td>8.234196</td>\n",
              "    </tr>\n",
              "    <tr>\n",
              "      <th>2</th>\n",
              "      <td>DebtRatio</td>\n",
              "      <td>9.038077</td>\n",
              "    </tr>\n",
              "    <tr>\n",
              "      <th>1</th>\n",
              "      <td>age</td>\n",
              "      <td>12.216557</td>\n",
              "    </tr>\n",
              "    <tr>\n",
              "      <th>5</th>\n",
              "      <td>NumberOfTimes90DaysLate</td>\n",
              "      <td>16.397520</td>\n",
              "    </tr>\n",
              "    <tr>\n",
              "      <th>0</th>\n",
              "      <td>RevolvingUtilizationOfUnsecuredLines</td>\n",
              "      <td>42.938061</td>\n",
              "    </tr>\n",
              "  </tbody>\n",
              "</table>\n",
              "</div>\n",
              "      <button class=\"colab-df-convert\" onclick=\"convertToInteractive('df-c83913ae-57c0-438a-b38f-b2e6d7862a59')\"\n",
              "              title=\"Convert this dataframe to an interactive table.\"\n",
              "              style=\"display:none;\">\n",
              "        \n",
              "  <svg xmlns=\"http://www.w3.org/2000/svg\" height=\"24px\"viewBox=\"0 0 24 24\"\n",
              "       width=\"24px\">\n",
              "    <path d=\"M0 0h24v24H0V0z\" fill=\"none\"/>\n",
              "    <path d=\"M18.56 5.44l.94 2.06.94-2.06 2.06-.94-2.06-.94-.94-2.06-.94 2.06-2.06.94zm-11 1L8.5 8.5l.94-2.06 2.06-.94-2.06-.94L8.5 2.5l-.94 2.06-2.06.94zm10 10l.94 2.06.94-2.06 2.06-.94-2.06-.94-.94-2.06-.94 2.06-2.06.94z\"/><path d=\"M17.41 7.96l-1.37-1.37c-.4-.4-.92-.59-1.43-.59-.52 0-1.04.2-1.43.59L10.3 9.45l-7.72 7.72c-.78.78-.78 2.05 0 2.83L4 21.41c.39.39.9.59 1.41.59.51 0 1.02-.2 1.41-.59l7.78-7.78 2.81-2.81c.8-.78.8-2.07 0-2.86zM5.41 20L4 18.59l7.72-7.72 1.47 1.35L5.41 20z\"/>\n",
              "  </svg>\n",
              "      </button>\n",
              "      \n",
              "  <style>\n",
              "    .colab-df-container {\n",
              "      display:flex;\n",
              "      flex-wrap:wrap;\n",
              "      gap: 12px;\n",
              "    }\n",
              "\n",
              "    .colab-df-convert {\n",
              "      background-color: #E8F0FE;\n",
              "      border: none;\n",
              "      border-radius: 50%;\n",
              "      cursor: pointer;\n",
              "      display: none;\n",
              "      fill: #1967D2;\n",
              "      height: 32px;\n",
              "      padding: 0 0 0 0;\n",
              "      width: 32px;\n",
              "    }\n",
              "\n",
              "    .colab-df-convert:hover {\n",
              "      background-color: #E2EBFA;\n",
              "      box-shadow: 0px 1px 2px rgba(60, 64, 67, 0.3), 0px 1px 3px 1px rgba(60, 64, 67, 0.15);\n",
              "      fill: #174EA6;\n",
              "    }\n",
              "\n",
              "    [theme=dark] .colab-df-convert {\n",
              "      background-color: #3B4455;\n",
              "      fill: #D2E3FC;\n",
              "    }\n",
              "\n",
              "    [theme=dark] .colab-df-convert:hover {\n",
              "      background-color: #434B5C;\n",
              "      box-shadow: 0px 1px 3px 1px rgba(0, 0, 0, 0.15);\n",
              "      filter: drop-shadow(0px 1px 2px rgba(0, 0, 0, 0.3));\n",
              "      fill: #FFFFFF;\n",
              "    }\n",
              "  </style>\n",
              "\n",
              "      <script>\n",
              "        const buttonEl =\n",
              "          document.querySelector('#df-c83913ae-57c0-438a-b38f-b2e6d7862a59 button.colab-df-convert');\n",
              "        buttonEl.style.display =\n",
              "          google.colab.kernel.accessAllowed ? 'block' : 'none';\n",
              "\n",
              "        async function convertToInteractive(key) {\n",
              "          const element = document.querySelector('#df-c83913ae-57c0-438a-b38f-b2e6d7862a59');\n",
              "          const dataTable =\n",
              "            await google.colab.kernel.invokeFunction('convertToInteractive',\n",
              "                                                     [key], {});\n",
              "          if (!dataTable) return;\n",
              "\n",
              "          const docLinkHtml = 'Like what you see? Visit the ' +\n",
              "            '<a target=\"_blank\" href=https://colab.research.google.com/notebooks/data_table.ipynb>data table notebook</a>'\n",
              "            + ' to learn more about interactive tables.';\n",
              "          element.innerHTML = '';\n",
              "          dataTable['output_type'] = 'display_data';\n",
              "          await google.colab.output.renderOutput(dataTable, element);\n",
              "          const docLink = document.createElement('div');\n",
              "          docLink.innerHTML = docLinkHtml;\n",
              "          element.appendChild(docLink);\n",
              "        }\n",
              "      </script>\n",
              "    </div>\n",
              "  </div>\n",
              "  "
            ]
          },
          "metadata": {},
          "execution_count": 92
        }
      ]
    },
    {
      "cell_type": "code",
      "source": [
        "confusion_matrix(ytest, gbm_classes)"
      ],
      "metadata": {
        "colab": {
          "base_uri": "https://localhost:8080/"
        },
        "id": "ViMemfvijrWC",
        "outputId": "9480a1c6-5d7b-424c-b504-9e1ba7208996"
      },
      "execution_count": 116,
      "outputs": [
        {
          "output_type": "execute_result",
          "data": {
            "text/plain": [
              "array([[29908,  5117],\n",
              "       [  853,  1622]])"
            ]
          },
          "metadata": {},
          "execution_count": 116
        }
      ]
    }
  ]
}